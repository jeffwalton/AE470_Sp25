{
 "cells": [
  {
   "cell_type": "markdown",
   "id": "99b73e6d-7642-42e4-9790-8f9863f3e092",
   "metadata": {},
   "source": [
    "# Starting the Environment\n",
    "1. Open an Anaconda Prompt terminal,\n",
    "   - On windows, Search `anaconda prompt`, click to open\n",
    "2. Change directory (`cd`) into class directory on your computer,\n",
    "   - `cd C:\\JW\\Clarkson\\AE470`\n",
    "3. Change directory into the repository on your computer,\n",
    "   - `cd AE470_Sp25`\n",
    "4. Fetch the latest class repository from GitHub,\n",
    "   - **This will overwrite any changes you have made to files in your local repository directory, `AE470_Sp2025`.**\n",
    "   - **Be sure to rename any files where you make changes that you want to keep.**\n",
    "   - `git fetch origin`\n",
    "5. Reset your local branch repository to match the remote branch,\n",
    "   - `git reset --hard origin/main`\n",
    "6. Activate the virtual python environment,\n",
    "   - `conda activate ae470sp25`\n",
    "7. Start a Jupyter notebook session in a browser window.  Type the following into an Anaconda Prompt window,\n",
    "   - `jupyter notebook`\n",
    "8. Using the Jupyter browser, open this notebook: `02_ae470_eom_numerical_integration.ipynb`.\n"
   ]
  },
  {
   "cell_type": "code",
   "execution_count": null,
   "id": "29145381-3e4e-4856-95be-9754812c6b58",
   "metadata": {},
   "outputs": [],
   "source": [
    "# Configure Jupyter so figures appear in the notebook\n",
    "# %matplotlib inline\n",
    "\n",
    "# Configure Jupyter to display the assigned value after an assignment\n",
    "%config InteractiveShell.ast_node_interactivity='last_expr_or_assign'"
   ]
  },
  {
   "cell_type": "markdown",
   "id": "57ebdd10-e6d1-495e-b52c-30ffce5f593c",
   "metadata": {},
   "source": [
    "# Equations of Motion and Numerical Integration\n",
    "\n",
    "## Equations of Motion\n",
    "\n",
    "Consider two point masses, $ \\mathnormal{m_1} $ and $ \\mathnormal{m_2} $\n",
    "  \n",
    "![two-body problem inertial frame](images/tbp_inertial_pointmasses.png)\n",
    "\n",
    "$ \\mathcal{F}_I $ is an inertial frame.  An inertial frame is a coordinate frame where Newton's Laws apply.\n",
    "\n",
    "$ \\vec{\\mathbf{r}}_1 $ is the position vector of mass $ \\mathnormal{m_1} $. \n",
    "\n",
    "$ \\vec{\\mathbf{r}}_2 $ is the position vector of mass $ \\mathnormal{m_2} $. \n",
    "\n",
    "$ \\vec{\\mathbf{r}}_{21} $ is the position vector of mass $ \\mathnormal{m_2} $ with relative to $ \\mathnormal{m_1} $.\n",
    "\\begin{equation}\n",
    "\\vec{\\mathbf{r}}_{21} = \\vec{\\mathbf{r}}_{2} - \\vec{\\mathbf{r}}_{1}\n",
    "\\end{equation}\n",
    "\n",
    "\n",
    "The force exerted by each mass can be determined by Newton's law of gravitation.\n",
    "\n",
    "The force $ \\mathnormal{m_2} $ exerts on $ \\mathnormal{m_1} $:\n",
    "\\begin{equation}\n",
    "\\vec{\\mathbf{F}}_{12} = \\frac{\\mathnormal{G}\\mathnormal{m_1}\\mathnormal{m_2}}{|\\vec{\\mathbf{r}}_{21}|^3} \\vec{\\mathbf{r}}_{21}\n",
    "\\end{equation}\n",
    "\n",
    "The force $ \\mathnormal{m_1} $ exerts on $ \\mathnormal{m_2} $:\n",
    "\\begin{equation}\n",
    "\\vec{\\mathbf{F}}_{21} = - \\frac{\\mathnormal{G}\\mathnormal{m_1}\\mathnormal{m_2}}{|\\vec{\\mathbf{r}}_{21}|^3} \\vec{\\mathbf{r}}_{21}\n",
    "\\end{equation}\n",
    "\n",
    "$\\mathnormal{G}$ is Newton's universal gravitational constant.  \n",
    "\\begin{equation}\n",
    "\\mathnormal{G} = 6.67 \\times 10^{-11}  \\mathrm{m}^3 / (\\mathrm{kg} \\cdot \\mathrm{s}^2)\n",
    "\\end{equation}\n",
    "\n",
    "Applying Newton's second law:\n",
    "\n",
    "$ \\mathnormal{m_1} $:  \n",
    "\\begin{equation}\n",
    "\\mathnormal{m_1} \\ddot{\\vec{\\mathbf{r}}}_{1} = \\vec{\\mathbf{F}}_{12} = \\frac{\\mathnormal{G}\\mathnormal{m_1}\\mathnormal{m_2}}{|\\vec{\\mathbf{r}}_{21}|^3} \\vec{\\mathbf{r}}_{21}\n",
    "\\end{equation}\n",
    "\n",
    "$ \\mathnormal{m_2} $:\n",
    "\\begin{equation}\n",
    "\\mathnormal{m_2} \\ddot{\\vec{\\mathbf{r}}}_{2} = \\vec{\\mathbf{F}}_{21} = - \\frac{\\mathnormal{G}\\mathnormal{m_1}\\mathnormal{m_2}}{|\\vec{\\mathbf{r}}_{21}|^3} \\vec{\\mathbf{r}}_{21}\n",
    "\\end{equation}\n",
    "\n",
    "Yields:\n",
    "\n",
    "\\begin{equation}\n",
    "\\ddot{\\vec{\\mathbf{r}}}_{1} = \\frac{\\mathnormal{G}\\mathnormal{m_2}}{|\\vec{\\mathbf{r}}_{21}|^3} \\vec{\\mathbf{r}}_{21}\n",
    "\\end{equation}\n",
    "\\begin{equation}\n",
    "\\ddot{\\vec{\\mathbf{r}}}_{2} = -\\frac{\\mathnormal{G}\\mathnormal{m_1}}{|\\vec{\\mathbf{r}}_{21}|^3} \\vec{\\mathbf{r}}_{21}\n",
    "\\end{equation}\n",
    "\n",
    "Taking the difference:\n",
    "\\begin{equation}\n",
    "\\ddot{\\vec{\\mathbf{r}}}_{21} = \\ddot{\\vec{\\mathbf{r}}}_{2} - \\ddot{\\vec{\\mathbf{r}}}_{1} = - \\frac{\\mathnormal{G}(\\mathnormal{m_1}+\\mathnormal{m_2})}{|\\vec{\\mathbf{r}}_{21}|^3} \\vec{\\mathbf{r}}_{21}\n",
    "\\end{equation}\n",
    "\n",
    "If $ \\mathnormal{m_2} \\ll \\mathnormal{m_1}$, such as a satellite orbiting the Earth, we can assume $ \\mathnormal{m_1} + \\mathnormal{m_2} \\approx \\mathnormal{m_1} $ and define $ \\mu = \\mathnormal{G}\\mathnormal{m_1} $, where $ \\mathnormal{m_1} $ is the primary body and $ \\mathnormal{m_2} $ is the secondary body.\n",
    "\n",
    "After dropping the subscripts, the relative equations of motion are:\n",
    "\\begin{equation}\n",
    "\\boxed{ \\ddot{\\vec{\\mathbf{r}}} = - \\frac{\\mu}{|\\vec{\\mathbf{r}}|^3} \\vec{\\mathbf{r}} }\n",
    "\\end{equation}\n",
    "\n",
    "This is a vector nonlinear second-order differential equation that is only a function of $ \\mathnormal{m_2} $'s position."
   ]
  },
  {
   "cell_type": "markdown",
   "id": "7c5c81b1-a59b-4ee9-ac7b-0ca1872771ed",
   "metadata": {},
   "source": [
    "### Standard Gravitational Parameter\n",
    "\n",
    "Earth, $ \\oplus $:  \n",
    "\\begin{equation}\n",
    "\\mu_{\\oplus} = 3.986 \\times 10^{14}  \\mathrm{m}^3 / \\mathrm{s}^2 \n",
    "\\end{equation}\n",
    "\n",
    "Sun, $ \\odot $:  \n",
    "\\begin{equation}\n",
    "\\mu_{\\odot} = 1.327 \\times 10^{20}  \\mathrm{m}^3 / \\mathrm{s}^2 \n",
    "\\end{equation}\n"
   ]
  },
  {
   "cell_type": "code",
   "execution_count": null,
   "id": "1c9c2782-143e-423b-b7ca-7c2385475da2",
   "metadata": {},
   "outputs": [],
   "source": [
    "try:\n",
    "    from modsim import *\n",
    "except ImportError:\n",
    "    print(\"Download modsim from the course repository at https://github.com/jeffwalton/AE470_Sp25\")"
   ]
  },
  {
   "cell_type": "code",
   "execution_count": null,
   "id": "5f61f0d5-5769-4a9f-8e68-13154b372107",
   "metadata": {},
   "outputs": [],
   "source": [
    "import numpy as np\n",
    "from matplotlib.pyplot import plot"
   ]
  },
  {
   "cell_type": "markdown",
   "id": "b464d592-aaac-4141-8cdd-2ab93d087751",
   "metadata": {},
   "source": [
    "### How do we solve differential equations numerically?\n",
    "\n",
    "#### Simple example of projectile motion\n",
    "\n",
    "A lacrosse ball is thrown at an angle $ \\theta $ to the horizontal at a speed of 40.23 m/s.  Determine the path of motion, trajectory, of the ball if $ \\theta $ = 38.0 deg.\n",
    "\n",
    "\\begin{equation}\n",
    "\\vec{\\mathbf{a}} = \\ddot{\\vec{\\mathbf{r}}} = 0\\hat{\\mathbf{i}} -9.8 \\mathrm{m} / \\mathrm{s}^2 \\hat{\\mathbf{j}}\n",
    "\\end{equation}\n",
    "\n",
    "This is a second order linear ordinary differential equation.  To use the numerical integration module, it has to be written as a system of first-order differential equations."
   ]
  },
  {
   "cell_type": "markdown",
   "id": "e03aaca9-1985-4476-8c78-3d9d993e3cf5",
   "metadata": {},
   "source": [
    "First, define the state array for this problem as:\n",
    "\\begin{equation}\n",
    "state = \\begin{bmatrix}\n",
    "          x \\\\\n",
    "          y \\\\\n",
    "          v_x \\\\\n",
    "          v_y\n",
    "        \\end{bmatrix}\n",
    "\\end{equation}\n",
    "\n",
    "We will use the the `State` object type from the `modsim` module to hold the state of the ball.\n"
   ]
  },
  {
   "cell_type": "code",
   "execution_count": null,
   "id": "9c305f49-97e4-4951-825b-babac78dcb7e",
   "metadata": {},
   "outputs": [],
   "source": [
    "v_mag = 40.23   # m/s\n",
    "theta_deg = 38.0\n",
    "theta = 38.0 * np.pi / 180  # convert degrees to radians, alternatively np.deg2rad(theta)\n",
    "init = State(x=0, y=2.0, vx=v_mag * np.cos(theta), vy=v_mag * np.sin(theta))  # initial conditions"
   ]
  },
  {
   "cell_type": "markdown",
   "id": "da7de518-886d-4343-ad43-307084b97d4a",
   "metadata": {},
   "source": [
    "A `System` object will hold the ball's initial state, `init`, and other simulation parameters, for this example the acceleration due to gravity, `g`, and the end time of the simulation, `t_end`."
   ]
  },
  {
   "cell_type": "code",
   "execution_count": null,
   "id": "6df78276-dfad-4d43-8858-cbe5d6cb7b7c",
   "metadata": {},
   "outputs": [],
   "source": [
    "system = System(init=init,\n",
    "                g=9.8,\n",
    "                t_end=10)"
   ]
  },
  {
   "cell_type": "markdown",
   "id": "282b460d-094d-46c8-9aad-feea6af2bb40",
   "metadata": {},
   "source": [
    "`init` and `system` are container variables holding the initial conditions and system parameters."
   ]
  },
  {
   "cell_type": "markdown",
   "id": "7c22567d-a10b-4897-a9a2-597111eda2e5",
   "metadata": {},
   "source": [
    "Create a 'slope' function containing the equations of motion for a simple projectile.  We write the second-order vector differential equation as a system of first-order scalar differential equations. \n",
    "\n",
    "\\begin{gather}\n",
    "\\dot{x} = \\frac{\\mathrm d x}{\\mathrm d t} = v_x \\\\\n",
    "\\dot{y} = \\frac{\\mathrm d y}{\\mathrm d t} = v_y \\\\\n",
    "\\ddot{x} = \\frac{\\mathrm d v_x}{\\mathrm d t} = 0.0 \\\\\n",
    "\\ddot{y} = \\frac{\\mathrm d v_y}{\\mathrm d t} = -g\n",
    "\\end{gather}\n"
   ]
  },
  {
   "cell_type": "code",
   "execution_count": null,
   "id": "6bafb5c7-0521-4fb3-99ec-02ee274f64b9",
   "metadata": {},
   "outputs": [],
   "source": [
    "def eom_projectile(t, state, system):\n",
    "    x, y, vx, vy = state  # unpack the individual variables from the state variable\n",
    "\n",
    "    dxdt = vx\n",
    "    dydt = vy\n",
    "    d2xdt = 0.0\n",
    "    d2ydt = -system.g\n",
    "\n",
    "    return dxdt, dydt, d2xdt, d2ydt \n",
    "    "
   ]
  },
  {
   "cell_type": "code",
   "execution_count": null,
   "id": "9c4a74c3-ecee-40b6-bc73-6b6f94257817",
   "metadata": {},
   "outputs": [],
   "source": [
    "# test the eom with the initial conditions\n",
    "dxdt, dydt, d2xdt, d2ydt = eom_projectile(0.0, system.init, system)\n",
    "dxdt, dydt, d2xdt, d2ydt"
   ]
  },
  {
   "cell_type": "markdown",
   "id": "0b765727-9627-4599-bfc1-7a268d34e994",
   "metadata": {},
   "source": [
    "We will use a wrapper function from `modsim` to propagate the equations from $ t = 0.0 $ to $ t = t_{end}$.  `run_solve_ivp()` simplifies some of the parameters of the SciPy function [scipy.integrate.solve_ivp](https://docs.scipy.org/doc/scipy/reference/generated/scipy.integrate.solve_ivp.html), SciPy's initial value problem solver.  It also handles some overhead, like storing the results in a pandas DataFrame.  By default, `run_solve_ivp()` uses a RK45 method, a Runge-Kutta method of order 5(4) where error is controlled by comparing fourth- and fifth-order solutions.\n",
    "\n",
    "`run_solve_ivp()` returns two variables, `results` (the DataFrame of the state variables at each time step) and `details` (information about the simulation run)."
   ]
  },
  {
   "cell_type": "code",
   "execution_count": null,
   "id": "0b1d97b2-7b92-475f-bea8-b1c2bd4e6ea8",
   "metadata": {},
   "outputs": [],
   "source": [
    "results, details = run_solve_ivp(system, eom_projectile)\n",
    "details.message"
   ]
  },
  {
   "cell_type": "markdown",
   "id": "f23df7f6-dd15-48b5-8562-55a22ef557b5",
   "metadata": {},
   "source": [
    "We can look at `results` and `details`.  \n"
   ]
  },
  {
   "cell_type": "code",
   "execution_count": null,
   "id": "18bdb7f0-4ed1-47d2-bcca-68079b709524",
   "metadata": {},
   "outputs": [],
   "source": [
    "results"
   ]
  },
  {
   "cell_type": "markdown",
   "id": "3b837dc2-63b1-4b43-8d2f-a230e628d7b8",
   "metadata": {},
   "source": [
    "The index (the value in the left column) of the DataFrame is time, $t$."
   ]
  },
  {
   "cell_type": "markdown",
   "id": "0e44b9de-77e3-4220-a265-536c75c61829",
   "metadata": {},
   "source": [
    "`details` contains information about the execution of `run_solve_ivp()` "
   ]
  },
  {
   "cell_type": "code",
   "execution_count": null,
   "id": "698d0760-28f4-460a-8861-510bd1438530",
   "metadata": {},
   "outputs": [],
   "source": [
    "details"
   ]
  },
  {
   "cell_type": "markdown",
   "id": "0ae8c906-bcf8-4232-9d90-8c36d58914b6",
   "metadata": {},
   "source": [
    "We can make simple plots directly from the results DataFrame.\n",
    "\n",
    "Plot y vs. time"
   ]
  },
  {
   "cell_type": "code",
   "execution_count": null,
   "id": "48ecf4cc-09a2-4140-ba73-6b650c103b0c",
   "metadata": {},
   "outputs": [],
   "source": [
    "results.y.plot()\n",
    "\n",
    "decorate(xlabel='Time (s)', ylabel='Height (m)')"
   ]
  },
  {
   "cell_type": "markdown",
   "id": "8cf57534-33a3-4348-8118-4ba77217ba4b",
   "metadata": {},
   "source": [
    "Plot y vs. x"
   ]
  },
  {
   "cell_type": "code",
   "execution_count": null,
   "id": "684c2519-1644-403d-91c3-64ac1c6a015e",
   "metadata": {},
   "outputs": [],
   "source": [
    "plot(results.x, results.y, label=f'{theta_deg} degrees', color='C2')\n",
    "\n",
    "decorate(xlabel='range (m)', ylabel='height (m)', title='Lacrosse Ball Projectile')"
   ]
  },
  {
   "cell_type": "markdown",
   "id": "6b1fda39-3546-4cef-8641-57c8d748d951",
   "metadata": {},
   "source": [
    "Whoa! It looks like the ball went below the surface of the ground!\n",
    "\n",
    "`modsim` provides access to the `events` in `scipy.integrate.solve_ivp()` that allows us to stop the simulation when an event has a value of zero.  Let's define an event for the the ground surface, $y=0$ and re-run the simulation."
   ]
  },
  {
   "cell_type": "code",
   "execution_count": null,
   "id": "aa81c94f-cec1-459f-89d5-d28c77d60bff",
   "metadata": {},
   "outputs": [],
   "source": [
    "def event_func(t, state, system):\n",
    "    x, y, vx, vy = state\n",
    "\n",
    "    return y"
   ]
  },
  {
   "cell_type": "code",
   "execution_count": null,
   "id": "3aebde5c-ad56-47ef-8a95-246a165af322",
   "metadata": {},
   "outputs": [],
   "source": [
    "results, details = run_solve_ivp(system, eom_projectile, events=event_func)\n",
    "details.message"
   ]
  },
  {
   "cell_type": "code",
   "execution_count": null,
   "id": "0477c0e2-e69a-4949-859c-0ffb982e5483",
   "metadata": {},
   "outputs": [],
   "source": [
    "plot(results.x, results.y, label=f'{theta_deg} degrees', color='C2')\n",
    "\n",
    "decorate(xlabel='range (m)', ylabel='height (m)', title='Lacrosse Ball Projectile')"
   ]
  },
  {
   "cell_type": "markdown",
   "id": "1c2c3b9f-020c-4fe1-bfdd-fb1aa18691f4",
   "metadata": {},
   "source": [
    "`head()` and `tail()` functions return the first and last rows of the DataFrame, respectively."
   ]
  },
  {
   "cell_type": "code",
   "execution_count": null,
   "id": "aaeafcd3-f0f1-4a8c-bf81-43f80795b2d4",
   "metadata": {},
   "outputs": [],
   "source": [
    "results.head()"
   ]
  },
  {
   "cell_type": "code",
   "execution_count": null,
   "id": "74232fda-ace2-4064-a738-b531629eb50d",
   "metadata": {},
   "outputs": [],
   "source": [
    "results.tail(2)"
   ]
  },
  {
   "cell_type": "markdown",
   "id": "b80a4071-3c8e-465c-acb6-23660f381ea0",
   "metadata": {},
   "source": [
    "* At what time did did the ball hit the ground?"
   ]
  },
  {
   "cell_type": "markdown",
   "id": "8a1fca39-8bbd-45d0-a58e-eca0615967b2",
   "metadata": {},
   "source": [
    "The pandas DataFrame [iloc(index) property](https://pandas.pydata.org/docs/reference/api/pandas.DataFrame.iloc.html) returns data at the `index` integer position. Remember Python has zero-based array indicies."
   ]
  },
  {
   "cell_type": "code",
   "execution_count": null,
   "id": "fd0c1fb4-85e4-4850-8875-e1f0a8d3e6a5",
   "metadata": {},
   "outputs": [],
   "source": [
    "results.iloc[2]"
   ]
  },
  {
   "cell_type": "markdown",
   "id": "58865813-8d2b-404b-a219-1ccec7273aae",
   "metadata": {},
   "source": [
    "The `[-1]` position returns the last row."
   ]
  },
  {
   "cell_type": "code",
   "execution_count": null,
   "id": "747329a9-0657-4932-a49c-dc6c7b62b058",
   "metadata": {},
   "outputs": [],
   "source": [
    "results.iloc[-1]"
   ]
  },
  {
   "cell_type": "markdown",
   "id": "10e780c7-8091-442e-851c-807fd4cc582e",
   "metadata": {},
   "source": [
    "Since index is the time value, `.index[-1]` will give us the time of the last row -- when the ball hit the ground.  "
   ]
  },
  {
   "cell_type": "code",
   "execution_count": null,
   "id": "c5146556-70f7-46ef-9975-fe374c7b01fa",
   "metadata": {},
   "outputs": [],
   "source": [
    "results.index[-1]"
   ]
  },
  {
   "cell_type": "markdown",
   "id": "367bc92c-eb81-405b-a872-45ad6a37e246",
   "metadata": {},
   "source": [
    "* How far did the ball go horizontally?"
   ]
  },
  {
   "cell_type": "markdown",
   "id": "ff2dc4c8-283b-4472-a3df-9297c43ffc56",
   "metadata": {},
   "source": [
    "Let's add some [format specifications](https://docs.python.org/3/library/string.html#formatspec)."
   ]
  },
  {
   "cell_type": "code",
   "execution_count": null,
   "id": "515ef095-4e6c-4039-9583-1dff3f92625a",
   "metadata": {},
   "outputs": [],
   "source": [
    "print(f\"The ball flew {results.iloc[-1].x} meters horizonally.\")"
   ]
  },
  {
   "cell_type": "code",
   "execution_count": null,
   "id": "0323b2cd-deb2-454a-99aa-4e107362e1c4",
   "metadata": {},
   "outputs": [],
   "source": [
    "print(f\"The ball flew {results.iloc[-1].x:.1f} meters horizonally in {results.index[-1]:.2f} seconds.\")"
   ]
  },
  {
   "cell_type": "markdown",
   "id": "7b7055d1-f4b5-488e-8a93-449fd6e59d54",
   "metadata": {},
   "source": [
    "### Now back to the two-body orbit problem..."
   ]
  },
  {
   "cell_type": "markdown",
   "id": "3978db1a-cbbb-4f37-addf-5f0395218918",
   "metadata": {},
   "source": [
    "#### Example Two-Body Orbit\n",
    "\n",
    "A 1000 kg satellite with initial position vector $ \\vec{\\mathbf{r}} = 8000\\hat{\\mathbf{i}} + 6000\\hat{\\mathbf{k}} (\\mathrm{km}) $ and initial velocity $ \\vec{\\mathbf{v}} = 7\\hat{\\mathbf{j}} (\\mathrm{km/s}) $ is orbiting the earth.  Solve for the path of the satellite over the next 4 hours. (Ref: Curtis, Example 2.3)\n"
   ]
  },
  {
   "cell_type": "markdown",
   "id": "6fcd2f96-a7d8-4603-8ffc-700340eb4d54",
   "metadata": {},
   "source": [
    "Let's define an initial state vector and a system object for the simulation."
   ]
  },
  {
   "cell_type": "code",
   "execution_count": null,
   "id": "e51f4e02-8a34-4ca8-8176-525f48f3c957",
   "metadata": {},
   "outputs": [],
   "source": [
    "r0 = Vector( 8000, 0, 6000 ) # km\n",
    "v0 = Vector( 0, 7, 0 ) # km/s\n",
    "\n",
    "init = State(x=r0.x, y=r0.y, z=r0.z, vx=v0.x, vy=v0.y, vz=v0.z)\n",
    "\n",
    "system = System(init=init,\n",
    "                mu=3.986000e+5, # earth, km^3/s^2\n",
    "                t_end=4 * 60 * 60, # s\n",
    "               )\n",
    "\n",
    "show(system)"
   ]
  },
  {
   "cell_type": "markdown",
   "id": "49feddd5-09e9-4831-bf4c-96876bea00f5",
   "metadata": {},
   "source": [
    "Now, the equations of motion for the two-body problem written as a system of first-order differential equations."
   ]
  },
  {
   "cell_type": "code",
   "execution_count": null,
   "id": "edaf7e79-141e-46c0-9410-945b45b70e86",
   "metadata": {},
   "outputs": [],
   "source": [
    "def eom_twobodies(t, state, system):\n",
    "    x, y, z, vx, vy, vz = state  # unpack the state vector\n",
    "    mu = system.mu\n",
    "    \n",
    "    R = Vector(x, y, z)\n",
    "    r = vector_mag(R)\n",
    "    V = Vector(vx, vy, vz)\n",
    "    # print(f\"time:{t}, R:[{R.x}, {R.y}, {R.z}]\")\n",
    "\n",
    "    R_dot = V\n",
    "    R_dotdot = -mu / r**3 * R\n",
    "\n",
    "    return R_dot.x, R_dot.y, R_dot.z, R_dotdot.x, R_dotdot.y, R_dotdot.z\n",
    "    \n",
    "    "
   ]
  },
  {
   "cell_type": "markdown",
   "id": "2f9a6f93-3809-4231-a701-58d300db342b",
   "metadata": {},
   "source": [
    "Test the equations of motion with the initial conditions."
   ]
  },
  {
   "cell_type": "code",
   "execution_count": null,
   "id": "33ab3283-0a58-428c-b2e4-8ec2f6647617",
   "metadata": {},
   "outputs": [],
   "source": [
    "eom_twobodies(0, init, system)"
   ]
  },
  {
   "cell_type": "markdown",
   "id": "350a1c61-6e08-4f34-ba9a-2e7fa103239f",
   "metadata": {},
   "source": [
    "Run the simulation for a short time interval, say 5 minutes.  The [SciPy solve_ivp()](https://docs.scipy.org/doc/scipy/reference/generated/scipy.integrate.solve_ivp.html) optional parameter `first_step` has been added to specify the the initial step size."
   ]
  },
  {
   "cell_type": "code",
   "execution_count": null,
   "id": "4642895f-5127-45dd-b3ae-92bbb311ded7",
   "metadata": {},
   "outputs": [],
   "source": [
    "system = System(init=init,\n",
    "                mu=3.986000e+5, # km^3/s^2\n",
    "                t_end=5 * 60, # s\n",
    "               )\n",
    "\n",
    "results, details = run_solve_ivp(system, eom_twobodies, first_step=10.0, rtol=1.0e-6)\n",
    "\n",
    "details.message"
   ]
  },
  {
   "cell_type": "code",
   "execution_count": null,
   "id": "288d39ab-b72e-4320-b481-fe6083ffe989",
   "metadata": {},
   "outputs": [],
   "source": [
    "results.head()"
   ]
  },
  {
   "cell_type": "markdown",
   "id": "ceb6c003-d4e8-4198-bb12-d32d4d443ec2",
   "metadata": {},
   "source": [
    "## Exercises\n",
    "\n",
    "1. Uncomment the print statement in the EOM function.  Run the simulation. What do you observe?\n",
    "2. Uncomment the print statement in the EOM function and remove the `first_step` parameter.  Run the simulation.  What is happening here?\n"
   ]
  },
  {
   "cell_type": "code",
   "execution_count": null,
   "id": "396ac5eb-baa1-431a-9bb9-40b165d12243",
   "metadata": {},
   "outputs": [],
   "source": []
  },
  {
   "cell_type": "markdown",
   "id": "48841c37-a545-4b8c-8869-64aaab2a8092",
   "metadata": {},
   "source": [
    "#### Run 2-body example for entire 4 hours\n",
    "\n",
    "Return the comment to the print statement in the EOM function.\n",
    "\n",
    "Now run for the full interval, 4 hours."
   ]
  },
  {
   "cell_type": "code",
   "execution_count": null,
   "id": "1e0ef114-09d1-4519-ac3f-75fe87cc5bb9",
   "metadata": {},
   "outputs": [],
   "source": [
    "system = System(init=init,\n",
    "                mu=3.986000e+5, # km^3/s^2\n",
    "                t_end=4 * 60 * 60, # s\n",
    "               )\n",
    "\n",
    "results, details = run_solve_ivp(system, eom_twobodies, first_step=10.0, rtol=1.0e-6)\n",
    "\n",
    "details.message"
   ]
  },
  {
   "cell_type": "code",
   "execution_count": null,
   "id": "c41bbdd3-0576-4f60-9b1d-b3ef39282638",
   "metadata": {},
   "outputs": [],
   "source": [
    "results.tail()"
   ]
  },
  {
   "cell_type": "markdown",
   "id": "8f5be2cc-2cbd-44c7-81ee-c0e996a1e121",
   "metadata": {},
   "source": [
    "#### Plot the position in 3 dimensions"
   ]
  },
  {
   "cell_type": "code",
   "execution_count": null,
   "id": "1a62318d-8c48-4603-9928-5b902809ce46",
   "metadata": {},
   "outputs": [],
   "source": [
    "import matplotlib.pyplot as plt"
   ]
  },
  {
   "cell_type": "code",
   "execution_count": null,
   "id": "45e3a5f7-159d-4ea9-88c3-c0a5884937d3",
   "metadata": {},
   "outputs": [],
   "source": [
    "fig = plt.figure()\n",
    "ax = fig.add_subplot(projection='3d')\n",
    "ax.scatter(results.x, results.y, results.z)\n",
    "ax.set_title(\"First Orbit 3D plot\")\n",
    "ax.set_xlabel('X')\n",
    "ax.set_ylabel('Y')\n",
    "ax.set_zlabel('Z')\n",
    "ax.scatter(0, 0, 0)\n",
    "\n",
    "\n",
    "plt.show()"
   ]
  },
  {
   "cell_type": "markdown",
   "id": "49d3c302-0f18-41ce-af73-b70f6ac8b2d6",
   "metadata": {},
   "source": [
    "#### Can we get interactive plots to work?"
   ]
  },
  {
   "cell_type": "markdown",
   "id": "b8ae6313-af08-4c1c-891f-b883e424466d",
   "metadata": {},
   "source": [
    "The [plotly](https://plotly.com/python/) library allows simple, interactive 3D plotting.\n",
    "\n",
    "plotly can be installed by typing `conda install plotly` in your `ae470sp25` virtual environment.\n",
    "1. Shutdown this notebook.\n",
    "2. In the Anaconda Prompt window, run `conda install plotly`.\n",
    "3. Restart Jupyter, `jupyter notebook`\n",
    "4. Reopen this notebook and run cells to this point."
   ]
  },
  {
   "cell_type": "code",
   "execution_count": null,
   "id": "931db591-2660-42bb-a3d9-e3fbb7e14553",
   "metadata": {},
   "outputs": [],
   "source": [
    "import plotly.graph_objects as go\n",
    "import plotly.express as px"
   ]
  },
  {
   "cell_type": "code",
   "execution_count": null,
   "id": "ba7d0a63-4076-4898-a491-320d0eed6dde",
   "metadata": {},
   "outputs": [],
   "source": [
    "fig = go.Figure(\n",
    "    data=[go.Scatter3d(\n",
    "        x=results.x,\n",
    "        y=results.y,\n",
    "        z=results.z,\n",
    "        mode='markers',\n",
    "        marker=dict(\n",
    "            size=2\n",
    "        )\n",
    "    )\n",
    "         ]\n",
    "    )\n",
    "fig.show()"
   ]
  },
  {
   "cell_type": "markdown",
   "id": "2c21d2cf-754c-47ca-b0bf-a573f2b6bd70",
   "metadata": {},
   "source": [
    "We can add the magnitude of the velocity to the results DataFrame."
   ]
  },
  {
   "cell_type": "code",
   "execution_count": null,
   "id": "2dd9e61a-dad2-450c-ad18-1a49d1335769",
   "metadata": {},
   "outputs": [],
   "source": [
    "def vector_mag_df(v_x, v_y, v_z):\n",
    "    return vector_mag(Vector(v_x, v_y, v_z))\n"
   ]
  },
  {
   "cell_type": "code",
   "execution_count": null,
   "id": "0b56381d-d8d5-4709-97e7-f3aa7440bc16",
   "metadata": {},
   "outputs": [],
   "source": [
    "results['v_mag'] = results.apply(lambda row: vector_mag_df(row.vx, row.vy, row.vz), axis=1)"
   ]
  },
  {
   "cell_type": "code",
   "execution_count": null,
   "id": "73d6be8a-b632-4561-be1d-7c7a1f65e16f",
   "metadata": {},
   "outputs": [],
   "source": [
    "results.head()"
   ]
  },
  {
   "cell_type": "code",
   "execution_count": null,
   "id": "20c88b32-c557-47a7-ade5-acb0d5c63e66",
   "metadata": {},
   "outputs": [],
   "source": [
    "fig = px.scatter_3d(results, x='x', y='y', z='z',\n",
    "              color='v_mag', \n",
    "              )\n",
    "\n",
    "fig.update_layout(margin=dict(l=0, r=0, b=0, t=0))\n",
    "fig.show()"
   ]
  },
  {
   "cell_type": "code",
   "execution_count": null,
   "id": "9b17523a-36fe-4efa-a3f4-44755c1ddf29",
   "metadata": {},
   "outputs": [],
   "source": []
  },
  {
   "cell_type": "code",
   "execution_count": null,
   "id": "de79f98d-5beb-45a5-8980-dcb983cf6274",
   "metadata": {},
   "outputs": [],
   "source": []
  },
  {
   "cell_type": "code",
   "execution_count": null,
   "id": "c956e70a-15f1-4d89-8ec6-3b2fa7f55c3b",
   "metadata": {},
   "outputs": [],
   "source": []
  }
 ],
 "metadata": {
  "kernelspec": {
   "display_name": "Python 3 (ipykernel)",
   "language": "python",
   "name": "python3"
  },
  "language_info": {
   "codemirror_mode": {
    "name": "ipython",
    "version": 3
   },
   "file_extension": ".py",
   "mimetype": "text/x-python",
   "name": "python",
   "nbconvert_exporter": "python",
   "pygments_lexer": "ipython3",
   "version": "3.12.8"
  }
 },
 "nbformat": 4,
 "nbformat_minor": 5
}
