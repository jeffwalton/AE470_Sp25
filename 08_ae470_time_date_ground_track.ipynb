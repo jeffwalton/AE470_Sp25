{
 "cells": [
  {
   "cell_type": "markdown",
   "id": "dea57411-61d2-4094-b876-3c5b8d5477a8",
   "metadata": {},
   "source": [
    "# Starting the Environment\n",
    "1. Open an Anaconda Prompt terminal,\n",
    "   - On windows, Search `anaconda prompt`, click to open\n",
    "2. Change directory (`cd`) into class directory on your computer,\n",
    "   - `cd C:\\JW\\Clarkson\\AE470`\n",
    "3. Change directory into the repository on your computer,\n",
    "   - `cd AE470_Sp25`\n",
    "4. Fetch the latest class repository from GitHub,\n",
    "   - **This will overwrite any changes you have made to files in your local repository directory, `AE470_Sp2025`.**\n",
    "   - **Be sure to rename any files where you make changes that you want to keep.**\n",
    "   - `git fetch origin`\n",
    "5. Reset your local branch repository to match the remote branch,\n",
    "   - `git reset --hard origin/main`\n",
    "6. Activate the virtual python environment,\n",
    "   - `conda activate ae470sp25`\n",
    "7. Start a Jupyter notebook session in a browser window.  Type the following into an Anaconda Prompt window,\n",
    "   - `jupyter notebook`\n",
    "8. Using the Jupyter browser, open this notebook: `08_ae470_time_date_ground_track`.\n"
   ]
  },
  {
   "cell_type": "code",
   "execution_count": null,
   "id": "c5bd37af-1fe7-4d2b-acc9-e95de21d71b0",
   "metadata": {},
   "outputs": [],
   "source": [
    "# Configure Jupyter so figures appear in the notebook\n",
    "# %matplotlib inline\n",
    "\n",
    "# Configure Jupyter to display the assigned value after an assignment\n",
    "%config InteractiveShell.ast_node_interactivity='last_expr_or_assign'"
   ]
  },
  {
   "cell_type": "code",
   "execution_count": null,
   "id": "9f887208-fa7a-450c-8eb6-c8591aff148c",
   "metadata": {},
   "outputs": [],
   "source": [
    "# import modsim and install if necessary\n",
    "try:\n",
    "    from modsim import *\n",
    "except ImportError:\n",
    "    print(\"Download modsim from the course repository at https://github.com/jeffwalton/AE470\")"
   ]
  },
  {
   "cell_type": "markdown",
   "id": "545f0004-58d5-42bc-8048-e5ab990d628f",
   "metadata": {},
   "source": [
    "## Julian Date\n",
    "\n",
    "*The Julian date (JD) is a continuous count of days from 1 January 4713 BC (= -4712 January 1), Greenwich mean noon (= 12h UT1). For example, AD 1978 January 1, 0h UT1 is JD 2443509.5 and AD 1978 July 21, 15h UT1, is JD 2443711.125.*\n",
    "See [Julian Date Formula](https://aa.usno.navy.mil/faq/JD_formula) and [Julian Date Converter](https://aa.usno.navy.mil/data/JulianDate) at the U.S. Naval Observatory.\n"
   ]
  },
  {
   "cell_type": "code",
   "execution_count": null,
   "id": "25ef9afc-5ff8-4ca5-ad82-23ca6651defb",
   "metadata": {},
   "outputs": [],
   "source": [
    "from math import copysign, trunc\n",
    "\n",
    "def julian_date( year, month, day, ut ):\n",
    "    jd = 367*year - trunc((7*(year+trunc((month+9)/12)))/4) + trunc((275*month)/9) + day + 1721013.5 + ut/24 - \\\n",
    "        0.5*copysign(1.0,100*year+month-190002.5) + 0.5\n",
    "    return jd"
   ]
  },
  {
   "cell_type": "code",
   "execution_count": null,
   "id": "8b64054a-05fc-44ad-8eda-d7cc2c4dbeb7",
   "metadata": {},
   "outputs": [],
   "source": [
    "# test\n",
    "print(julian_date(1970,1,1,0))\n",
    "print(julian_date(1978,1,1,0))\n",
    "print(julian_date(1978,7,21,15))\n",
    "print(julian_date(1877,8,11,7.5))"
   ]
  },
  {
   "cell_type": "markdown",
   "id": "92e01c12-6093-428a-a30f-31c9b6bab04f",
   "metadata": {},
   "source": [
    "## Universal Time (UT)\n",
    "\n",
    "See [Universal Time at the U.S. Naval Observatory](https://aa.usno.navy.mil/faq/UT).\n",
    "*The times of various events, particularly astronomical and weather phenomena, are often given in \"Universal Time\" (abbreviated UT) which is sometimes referred to, now colloquially, as \"Greenwich Mean Time\" (abbreviated GMT). The two terms are often used loosely to refer to time kept on the Greenwich meridian (longitude zero), five hours ahead of Eastern Standard Time. Times given in UT are almost always given in terms of a 24-hour clock. Thus, 14:42 (often written simply 1442) is 2:42 p.m., and 21:17 (2117) is 9:17 p.m. Sometimes a Z is appended to a time to indicate UT, as in 0935Z.*\n",
    "\n",
    "*When a precision of one second or better is needed, however, it is necessary to be more specific about the exact meaning of UT. For that purpose, different designations of Universal Time have been adopted. In astronomical and navigational usage, UT often refers to a specific time called UT1, which is a measure of the rotation angle of the Earth as observed astronomically. It is affected by small variations in the rotation of the Earth. UT1 is a modern form of <u>mean solar time</u> on the Greenwich meridian. Times which may be labeled \"Universal Time\" or \"UT\" in data provided by the Astronomical Applications Department of the U.S. Naval Observatory (for example, in the annual almanacs) conform to this definition.*\n",
    "\n",
    "*In the most common civil usage, UT refers to a time scale called \"Coordinated Universal Time\" (abbreviated **UTC**), which is the basis for the worldwide system of civil time. This time scale is kept by time laboratories around the world, including the U.S. Naval Observatory, and is determined using highly precise atomic clocks. The International Bureau of Weights and Measures makes use of data from the timing laboratories to provide the international standard UTC which is accurate to approximately a nanosecond (billionth of a second) per day. The length of a UTC second is defined in terms of an atomic transition of the element cesium under specific conditions, and is not directly related to any astronomical phenomena.*\n"
   ]
  },
  {
   "cell_type": "markdown",
   "id": "4a79772a-7a18-49f7-a23e-b8ffeba48219",
   "metadata": {
    "jp-MarkdownHeadingCollapsed": true
   },
   "source": [
    "## Other Time Terminology\n",
    "\n",
    "  - **UT0** - uncorrected observed rotational time - dependent on location of observer\n",
    "  - **UT1** - corrected for polar motion - independent of location of observer\n",
    "  - **UTC** - coordinated universal time - maintained within 0.9s of UT1 by adding one-second leap seconds\n",
    "  - **TAI** - international atomic time\n",
    "  - **GPS system time** - uncorrected, $ TAI - GPS = 19 seconds $\n"
   ]
  },
  {
   "cell_type": "markdown",
   "id": "f33f3b26-b51d-4135-b67a-02a9f9925a8b",
   "metadata": {},
   "source": [
    "## Computing Sidereal Time\n",
    "\n",
    "![greenwich sidereal time](images/greenwich_sidereal_time.jpg)\n",
    "\n",
    "See [Computing Approximate Sidereal Time at the U.S. Naval Observatory](https://aa.usno.navy.mil/faq/GAST).\n",
    "*Sidereal time is a system of timekeeping based on the rotation of the Earth with respect to the fixed stars in the sky. Specifically, it is the measure of the hour angle of the vernal equinox. If the hour angle is measured with respect to the mean equinox, mean sidereal time is being measured. When the measurement is made with respect to the meridian at Greenwich, the time is referred to as Greenwich mean sidereal time (GMST).*\n",
    "\n",
    "*Sidereal time is a function of both the rotation of the Earth on its axis and its motion about the Sun. Because the Earth's rotation rate is not constant the input needs to be split into two parts: Terrestrial Time, TT, and Universal Time, UT1. The input times are represented as Julian dates.*\n",
    "\n",
    "[Sidereal Time calculator](https://aa.usno.navy.mil/data/siderealtime)\n",
    "\n",
    "$ \\theta_G = \\theta_{G0} + 1.0027379093 \\times 2 \\pi \\times D $ [radians]"
   ]
  },
  {
   "cell_type": "code",
   "execution_count": null,
   "id": "2ee53bdd-cf30-4e09-89c6-2bf5d65d9a5a",
   "metadata": {},
   "outputs": [],
   "source": [
    "def gmst(jd0, h):\n",
    "    dut = jd0 - 2451545.0 \n",
    "    # gmst = (18.697375 + 24.065709824279*dut) % 24\n",
    "    gmst = (6.697375 + 0.065709824279*dut + 1.0027379*h) % 24\n",
    "    return gmst\n"
   ]
  },
  {
   "cell_type": "code",
   "execution_count": null,
   "id": "7ee26db9-d583-4ad4-a7b4-42e7018b812d",
   "metadata": {},
   "outputs": [],
   "source": [
    "# utility functions\n",
    "def decimal_hour(h, m, s):\n",
    "    return h + m/60 + s/60/60\n",
    "\n",
    "def hms(dh):\n",
    "    mm,ss = divmod(abs(dh)*3600, 60)\n",
    "    hh,mm = divmod(mm, 60)\n",
    "    return hh,mm,ss\n",
    "\n",
    "t1 = decimal_hour(12,10,2.989056)\n",
    "t2 = hms(t1)\n",
    "\n",
    "print(f\"{t1=}, {t2=}\")"
   ]
  },
  {
   "cell_type": "code",
   "execution_count": null,
   "id": "74e1c493-0c13-4dc5-86a0-77da0f81cf7f",
   "metadata": {},
   "outputs": [],
   "source": [
    "## test\n",
    "gmst(julian_date(2024,2,24,17.0),17.0)"
   ]
  },
  {
   "cell_type": "code",
   "execution_count": null,
   "id": "cc786b4c-0f9f-4716-929c-147db506a232",
   "metadata": {},
   "outputs": [],
   "source": [
    "# for degrees multiply by 15\n",
    "gmst(julian_date(2024,2,24,0),0)*15"
   ]
  },
  {
   "cell_type": "code",
   "execution_count": null,
   "id": "1bd36bfb-5d88-4f7c-bcab-c606fd2e1f53",
   "metadata": {},
   "outputs": [],
   "source": [
    "# example usage\n",
    "w_earth = 2*np.pi*(1+(1/365.26))/(24*60*60) # rad/s\n",
    "print(f\"{w_earth=}\")\n",
    "\n",
    "theta = np.deg2rad(gmst(julian_date(2024,2,24,0),0)*15) + w_earth*t"
   ]
  },
  {
   "cell_type": "markdown",
   "id": "1245388a-d516-46be-bd6e-109545855c64",
   "metadata": {},
   "source": [
    "## ECI to ECEF\n",
    "\n",
    "The orbit equations that we have been working with give the satellite's geocentric position in Earth Centered Inertial (ECI) coordinates. See [Earth-centered inertial](https://en.wikipedia.org/wiki/Earth-centered_inertial).\n",
    "\n",
    "The ground track longitude and latitude will be calculated from the position vector of the satellite in the Earth Centered, Earth Fixed (ECEF) frame, fixed to the rotating earth.  Obtaining ECEF coordinates is a simple coordinate transformation about the rotational axis (Z-axis) of the earth. See [Earth-centered, Earth-fixed coordinate system](https://en.wikipedia.org/wiki/Earth-centered,_Earth-fixed_coordinate_system).\n",
    "\n",
    "\\begin{equation}\n",
    "\\mathbf{R}_3(\\theta) = \n",
    " \\begin{bmatrix}\n",
    "  \\cos{\\theta} & \\sin{\\theta} & 0 \\\\\n",
    "  -\\sin{\\theta} & \\cos{\\theta} & 0 \\\\\n",
    "  0 & 0 & 1 \n",
    " \\end{bmatrix}\n",
    "\\end{equation}\n",
    "\n",
    "where $ \\theta = \\theta_0 + \\omega_{earth}( t - t_0 ) $ and $ \\omega_{earth} = 7.2921159 × 10^{−5} $ radians/second.  In this case, $ t_0 $ is the time when the prime meridian (Greenwich meridian) lines up with the ECI X-axis (vernal equinox direction).  $ \\theta $ is also known as the Greenwich Sidereal Time (or Greenwich Hour Angle).  See [Sidereal Time at the U.S. Naval Observatory](https://aa.usno.navy.mil/data/siderealtime).  \n",
    "\n",
    "\\begin{equation}\n",
    "\\vec{\\mathbf{r}}_{ECEF} = \\mathbf{R}_{ECEF,ECI}(\\theta) \\vec{\\mathbf{r}}_{ECI}\n",
    "\\end{equation}\n"
   ]
  },
  {
   "cell_type": "code",
   "execution_count": null,
   "id": "050df4ae-d6c0-423a-96a4-8942f26102bd",
   "metadata": {},
   "outputs": [],
   "source": [
    "def R3(theta):\n",
    "    c = np.cos(theta)\n",
    "    s = np.sin(theta)\n",
    "    return np.matrix([[ c, s, 0],\n",
    "                      [-s, c, 0],\n",
    "                      [0, 0, 1]])"
   ]
  },
  {
   "cell_type": "code",
   "execution_count": null,
   "id": "a4acd8c0-1be0-43fa-9898-d44c59e36b41",
   "metadata": {},
   "outputs": [],
   "source": [
    "def eci2ecef(vec_eci,gst):\n",
    "    return R3(gst)@vec_eci"
   ]
  },
  {
   "cell_type": "code",
   "execution_count": null,
   "id": "b619a6de-5602-4cae-bd82-689fcc391461",
   "metadata": {},
   "outputs": [],
   "source": []
  },
  {
   "cell_type": "code",
   "execution_count": null,
   "id": "774a85cf-fdbf-4540-a7d2-00b261cf0473",
   "metadata": {},
   "outputs": [],
   "source": []
  },
  {
   "attachments": {},
   "cell_type": "markdown",
   "id": "12eb54a0-d315-4e61-871a-4f214444a459",
   "metadata": {},
   "source": [
    "## Longitude and Latitude (right ascention and declination)\n",
    "\n",
    "Longitude ($lon$, $\\lambda$) is the angle measured in the equator eastward from the prime meridian to the meridian of the object. Latitude ($lat$, $\\phi$) is the angle measured from the equator to the object. See [Geocentric Latitude](https://en.wikipedia.org/wiki/Latitude#Geocentric_latitude).\n",
    "<br>\n",
    "![Latitude and Longitude](images/300px-Latitude_and_longitude_graticule_on_an_ellipsoid.svg.png)\n",
    "\n",
    "<br>\n",
    "\n",
    "On the celestial sphere the corresponding coordinates are called right ascension ($RA$, $\\alpha$) and declination ($dec$, $\\delta$).\n",
    "<br>\n",
    "![celestial sphere](images/celestial_sphere.jpg)"
   ]
  },
  {
   "cell_type": "code",
   "execution_count": null,
   "id": "08b7110b-f672-4684-9e3f-afde6d4c542c",
   "metadata": {},
   "outputs": [],
   "source": [
    "def vec_to_latlon(vec):\n",
    "    r = vector_mag(vec)\n",
    "    l = vec.x/r\n",
    "    m = vec.y/r\n",
    "    n = vec.z/r\n",
    "    lat = np.arcsin(n)\n",
    "    if m>0:\n",
    "        lon = np.arccos(l/np.cos(lat))\n",
    "    else:\n",
    "        lon = 2*np.pi - np.arccos(l/np.cos(lat))\n",
    "    return lon, lat\n"
   ]
  },
  {
   "cell_type": "markdown",
   "id": "99f18e26-98b4-4608-b897-b625ac580dd8",
   "metadata": {},
   "source": [
    "Test with:\n",
    "### Curtis, Example 4.1, page 187\n",
    "\n",
    "It the position vector of the International Space Station in the geocentric equatorial frame is $ \\vec{\\mathbf{r}} = -5368 \\hat{\\mathbf{i}} - 1784 \\hat{\\mathbf{j}} + 3691 \\hat{\\mathbf{k}} $ km, what are its longitude and latitude? \n"
   ]
  },
  {
   "cell_type": "code",
   "execution_count": null,
   "id": "6acf3eaa-c34b-443d-8ccc-cac2560c3c4d",
   "metadata": {},
   "outputs": [],
   "source": [
    "r_vec = Vector(-5368,-1784, 3691)\n",
    "lon, lat = vec_to_latlon(r_vec)\n",
    "print(np.rad2deg(lon),np.rad2deg(lat))"
   ]
  },
  {
   "cell_type": "code",
   "execution_count": null,
   "id": "1cf61f79-f015-4271-83a9-ba9153120a24",
   "metadata": {},
   "outputs": [],
   "source": []
  },
  {
   "cell_type": "markdown",
   "id": "4bc52278-fc06-4ae9-b720-2a4fd8ccdb42",
   "metadata": {},
   "source": [
    "## Ground Tracks\n",
    "\n"
   ]
  },
  {
   "cell_type": "markdown",
   "id": "91bef50e-9b80-4493-bb3a-1c0793134ae3",
   "metadata": {},
   "source": [
    "Please run `pip install basemap` in your command window with the AE470 virtual environment activated.\n"
   ]
  },
  {
   "cell_type": "code",
   "execution_count": null,
   "id": "119e36e7-f4d2-4e27-b50c-9cde878e6821",
   "metadata": {},
   "outputs": [],
   "source": [
    "from mpl_toolkits.basemap import Basemap\n",
    "import numpy as np\n",
    "import matplotlib.pyplot as plt\n",
    "\n",
    "def ground_track(ground_tracks, plot_title='Ground Track'):\n",
    "    \"\"\"\n",
    "    ground_tracks is a list of DataFrames of lon lat ground tracks\n",
    "    For example, [[orbit1.lon, orbit1.lat], [orbit2.lon, orbit2.lat]]\n",
    "    lon and lat are in degrees\n",
    "    \"\"\"\n",
    "    plt.rcParams['figure.figsize'] = [12, 10]\n",
    "    \n",
    "    # llcrnrlat,llcrnrlon,urcrnrlat,urcrnrlon\n",
    "    # are the lat/lon values of the lower left and upper right corners\n",
    "    # of the map.\n",
    "    # lat_ts is the latitude of true scale.\n",
    "    # resolution = 'c' means use crude resolution coastlines.\n",
    "    m = Basemap(projection='merc',llcrnrlat=-85,urcrnrlat=85,\\\n",
    "                llcrnrlon=-180,urcrnrlon=180,lat_ts=20,resolution='l')\n",
    "    m.drawcoastlines()\n",
    "    m.fillcontinents(color='coral',lake_color='aqua',alpha=0.6)\n",
    "    # draw parallels and meridians.\n",
    "    m.drawparallels(np.arange(-90.,91.,30.))\n",
    "    m.drawmeridians(np.arange(-180.,181.,60.))\n",
    "    m.drawmapboundary(fill_color='aqua') \n",
    "    plt.title(plot_title)\n",
    "\n",
    "    for gt in ground_tracks:\n",
    "        lon, lat = m(gt.lon, gt.lat)\n",
    "        m.plot(lon, lat)\n",
    "\n",
    "    plt.show()\n",
    "\n"
   ]
  },
  {
   "cell_type": "code",
   "execution_count": null,
   "id": "8e45ff7c-6cd6-4bf2-a6bb-729ba1236c0e",
   "metadata": {},
   "outputs": [],
   "source": [
    "# test with fake data\n",
    "import pandas as pd\n",
    "fake_lon = np.arange(-180.,180.,1.0)\n",
    "fake_lat = np.sin(np.arange(-np.pi,np.pi,np.deg2rad(1.0)))\n",
    "\n",
    "gt1 = pd.DataFrame({'lon': fake_lon, 'lat':fake_lat*63.0})\n",
    "gt2 = pd.DataFrame({'lon': fake_lon, 'lat':fake_lat*26.0})\n",
    "ground_tracks = [gt1,\n",
    "                 gt2]\n",
    "\n",
    "ground_track(ground_tracks, 'Fake Ground Tracks')"
   ]
  },
  {
   "cell_type": "markdown",
   "id": "87226d08-d90a-439b-ae69-d69136d8ff96",
   "metadata": {},
   "source": [
    "YouTube video: [Groundtracks Introduction](https://www.youtube.com/watch?v=lKt080AywZ4)"
   ]
  },
  {
   "cell_type": "markdown",
   "id": "eb2cfdad-c785-4c74-957f-4161d06ef12e",
   "metadata": {},
   "source": [
    "## Sky Plot\n",
    "\n",
    "![Sky plot example](images/VisualizeSatelliteTrajectoriesInSkyplotExample_01.png)\n",
    "from [Matlab skyplot](https://www.mathworks.com/help/nav/ref/skyplot.html).\n",
    "\n",
    "![ENU topocentric](images/ECEF_ENU_Longitude_Latitude_relationships.png)\n",
    "from [proj.org](https://proj.org/en/9.3/operations/conversions/topocentric.html).\n",
    "\n",
    "\n"
   ]
  },
  {
   "cell_type": "code",
   "execution_count": null,
   "id": "a81fb584-4220-448a-a927-be4397c4e2b5",
   "metadata": {},
   "outputs": [],
   "source": [
    "# See Algorithms for Global Positioning, Kai Borre and Gilbert Strang, Wellesley-Cambridge Press, 2012.\n",
    "\n",
    "def ecef2enu(x_vec, lon_obs, lat_obs):\n",
    "    clon = np.cos(lon_obs)\n",
    "    clat = np.cos(lat_obs)\n",
    "    slon = np.sin(lon_obs)\n",
    "    slat = np.sin(lat_obs)\n",
    "    F = np.matrix([[ -slon, -slat*clon, clat*clon],\n",
    "                   [  clon, -slat*slon, clat*slon],\n",
    "                   [     0,       clat,      slat]])\n",
    "    return F.transpose @ x_vec\n",
    "\n",
    "def azi_ele(enu_vec):\n",
    "    E = enu_vec.x\n",
    "    N = enu_vec.y\n",
    "    U = enu_vec.z\n",
    "    azi = np.arctan(E/N)\n",
    "    ele = np.arctan(U/np.sqrt(N**2 + E**2))\n",
    "    return azi,ele\n",
    "    "
   ]
  },
  {
   "cell_type": "code",
   "execution_count": null,
   "id": "0e373e4b-ef76-4d1b-ac8a-b0882154e9d0",
   "metadata": {},
   "outputs": [],
   "source": []
  },
  {
   "cell_type": "markdown",
   "id": "7ccc3785-f9f0-43bf-a925-06efd2a9d00e",
   "metadata": {},
   "source": [
    "## Two-Line Orbital Elements (TLE)\n",
    "\n",
    "*A two-line element set (TLE, or more rarely 2LE) or three-line element set (3LE) is a data format encoding a list of orbital elements of an Earth-orbiting object for a given point in time, the epoch. Using a suitable prediction formula, the state (position and velocity) at any point in the past or future can be estimated to some accuracy.*\n",
    "\n",
    "For the TLE format specification, see [Two-line element set from Wikipedia](https://en.wikipedia.org/wiki/Two-line_element_set)\n",
    "\n",
    "To request elsets (element sets), create an account at [www.space-track.org](https://www.space-track.org/) and submit an [ELSET search](https://www.space-track.org/#/gp)."
   ]
  },
  {
   "cell_type": "code",
   "execution_count": null,
   "id": "bde911d0-10dc-4995-a7d0-320e9c87178a",
   "metadata": {},
   "outputs": [],
   "source": [
    "import json\n",
    "import requests\n",
    "import configparser\n",
    "\n",
    "def elset_spacetrack(sat_catno='25544', print_els=True):\n",
    "    \"\"\"\n",
    "    requires space-track.ini file in current directory with these parameters\n",
    "        [configuration]\n",
    "        username = myUserName\n",
    "        password = MyPa55W0rd    \n",
    "    \"\"\"\n",
    "    uriBase                = \"https://www.space-track.org\"\n",
    "    requestLogin           = \"/ajaxauth/login\"\n",
    "    requestCmdAction       = \"/basicspacedata/query\" \n",
    "    \n",
    "    config = configparser.ConfigParser()\n",
    "    config.read(\"./space-track.ini\")\n",
    "    configUsr = config.get(\"configuration\",\"username\")\n",
    "    configPwd = config.get(\"configuration\",\"password\")\n",
    "    siteCred = {'identity': configUsr, 'password': configPwd}\n",
    "    \n",
    "    request_by_catno = f\"/class/gp/NORAD_CAT_ID/{sat_catno}/orderby/TLE_LINE1%20ASC/format/json\"\n",
    "\n",
    "    class MyError(Exception):\n",
    "        def __init___(self,args):\n",
    "            Exception.__init__(self,\"my exception was raised with arguments {0}\".format(args))\n",
    "            self.args = args\n",
    "\n",
    "    with requests.Session() as session:\n",
    "        # need to log in first. note that we get a 200 to say the web site got the data, not that we are logged in\n",
    "        resp = session.post(uriBase + requestLogin, data = siteCred)\n",
    "        if resp.status_code != 200:\n",
    "            raise MyError(resp, \"POST fail on login\")\n",
    "    \n",
    "        resp = session.get(uriBase + requestCmdAction + request_by_catno)\n",
    "        if resp.status_code != 200:\n",
    "            print(resp)\n",
    "            raise MyError(resp, \"GET fail on request for elset by catno\")\n",
    "    \n",
    "        retData = json.loads(resp.text)\n",
    "    \n",
    "        if print_els:\n",
    "            for e in retData:\n",
    "                print(e.keys())\n",
    "                for k in e.keys():\n",
    "                    print(f\"{k} = {e[k]}\")\n",
    "\n",
    "        session.close()\n",
    "    return retData[0]\n"
   ]
  },
  {
   "cell_type": "code",
   "execution_count": null,
   "id": "92406a47-c7a1-4f24-844d-f721f12e2a80",
   "metadata": {},
   "outputs": [],
   "source": [
    "e = elset_spacetrack('25544',True)\n",
    "\n",
    "epoch = e['EPOCH']\n",
    "a = e['SEMIMAJOR_AXIS']\n",
    "inc = e['INCLINATION']\n",
    "ecc = e['ECCENTRICITY']\n",
    "raan = e['RA_OF_ASC_NODE']\n",
    "arg_w = e['ARG_OF_PERICENTER']\n",
    "M_A = e['MEAN_ANOMALY']\n",
    "print(a, inc, ecc, raan, arg_w, M_A)"
   ]
  },
  {
   "cell_type": "code",
   "execution_count": null,
   "id": "2911d28b-2506-4f22-ab2c-a27e44539d77",
   "metadata": {},
   "outputs": [],
   "source": [
    "epoch"
   ]
  },
  {
   "cell_type": "markdown",
   "id": "169b85fb-960e-4e5a-a5d9-91f6b59dae5b",
   "metadata": {},
   "source": [
    "## References\n",
    "\n",
    "R.R. Bate, D.D. Mueller, J.E. White, W.W. Saylor; Fundamentals of Astrodynamics, Dover, 2nd Ed, 2020.  \n",
    "\n",
    "H.D. Curtis; Orbital Mechanics for Engineering Students; Butterworth-Heinemann, 4th Ed, 2021.  \n",
    "[Matlab code from Curtis text](https://github.com/jorgepiloto/astrodynamics/tree/master)\n",
    "\n",
    "A.H.J. de Ruiter, C.J. Damaren, J.R. Forbes; Spacecraft Dynamics and Control: An Introduction; Wiley, 2013.\n",
    "\n",
    "[Matlab - Orbital Mechanics Library](https://www.mathworks.com/matlabcentral/fileexchange/13439-orbital-mechanics-library)\n"
   ]
  },
  {
   "cell_type": "code",
   "execution_count": null,
   "id": "79729e72-8b2f-4bdf-867c-4b42ce72e34d",
   "metadata": {},
   "outputs": [],
   "source": []
  }
 ],
 "metadata": {
  "kernelspec": {
   "display_name": "Python 3 (ipykernel)",
   "language": "python",
   "name": "python3"
  },
  "language_info": {
   "codemirror_mode": {
    "name": "ipython",
    "version": 3
   },
   "file_extension": ".py",
   "mimetype": "text/x-python",
   "name": "python",
   "nbconvert_exporter": "python",
   "pygments_lexer": "ipython3",
   "version": "3.12.8"
  }
 },
 "nbformat": 4,
 "nbformat_minor": 5
}
