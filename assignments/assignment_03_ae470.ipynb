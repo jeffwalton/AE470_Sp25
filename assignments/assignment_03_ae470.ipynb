{
 "cells": [
  {
   "cell_type": "markdown",
   "id": "50aea7eb-817d-4619-b695-da0059bf79c6",
   "metadata": {},
   "source": [
    "### AE 470 - Assignment 3\n",
    "## Due in 1 week (Tuesday, Febuary 25, 2025 at 11:59 pm)\n",
    "\n",
    "Submit your solutions to Moodle in the this Jupyter notebook.  \n"
   ]
  },
  {
   "cell_type": "code",
   "execution_count": null,
   "id": "833c49f2-fb4b-4ebb-a22d-94ce9b2928bf",
   "metadata": {},
   "outputs": [],
   "source": [
    "# Do a \"Save Notebook As...\" with your name in the filename.  For example, \"Collins,Eileen_assignment_02_ae470.ipynb\"\n",
    "\n",
    "# Put your name here\n",
    "\n",
    "# Add your collaborators names here\n"
   ]
  },
  {
   "cell_type": "code",
   "execution_count": null,
   "id": "a3d26faa-b487-4269-a0f4-8cdb4e489a58",
   "metadata": {},
   "outputs": [],
   "source": [
    "# Configure Jupyter so figures appear in the notebook\n",
    "# %matplotlib inline\n",
    "\n",
    "# Configure Jupyter to display the assigned value after an assignment\n",
    "%config InteractiveShell.ast_node_interactivity='last_expr_or_assign'"
   ]
  },
  {
   "cell_type": "code",
   "execution_count": null,
   "id": "c0355495-256c-4513-abbc-e7348426b21f",
   "metadata": {},
   "outputs": [],
   "source": [
    "try:\n",
    "    from modsim import *\n",
    "except ImportError:\n",
    "    print(\"Download modsim from the course repository at https://github.com/jeffwalton/AE470\")"
   ]
  },
  {
   "cell_type": "markdown",
   "id": "6343bc87",
   "metadata": {},
   "source": [
    "## 1. $ \\vec{\\mathbf{r}} $, $ \\vec{\\mathbf{v}} $ to COE\n",
    "\n",
    "Write a python function to calculate orbital elements from the state vectors, $ \\vec{\\mathbf{r}} $ and $ \\vec{\\mathbf{v}} $. "
   ]
  },
  {
   "cell_type": "code",
   "execution_count": null,
   "id": "a4d37e49",
   "metadata": {},
   "outputs": [],
   "source": [
    "def state_vector_to_coe(r_vec, v_vec, mu ):\n",
    "    # put code here\n",
    "    return h, ecc, theta, raan, incl, omega"
   ]
  },
  {
   "cell_type": "code",
   "execution_count": null,
   "id": "838a5a36",
   "metadata": {},
   "outputs": [],
   "source": []
  },
  {
   "cell_type": "markdown",
   "id": "d4d17522",
   "metadata": {},
   "source": [
    "## 2. COE to $ \\vec{\\mathbf{r}} $, $ \\vec{\\mathbf{v}} $\n",
    "\n",
    "Write a python function to calculate the state vectors, $ \\vec{\\mathbf{r}} $ and $ \\vec{\\mathbf{v}} $, from orbital elements."
   ]
  },
  {
   "cell_type": "code",
   "execution_count": null,
   "id": "d47afe6f",
   "metadata": {},
   "outputs": [],
   "source": [
    "def coe_to_state_vector(h, ecc, theta, raan, incl, omega, mu ):\n",
    "    # put code here\n",
    "    return r_vec, v_vec"
   ]
  },
  {
   "cell_type": "code",
   "execution_count": null,
   "id": "c9049e98",
   "metadata": {},
   "outputs": [],
   "source": []
  },
  {
   "cell_type": "markdown",
   "id": "0227c764",
   "metadata": {},
   "source": [
    "## 3. Test Functions\n",
    "\n",
    "Test your functions on the following state vectors and orbital elements.\n",
    "\n",
    "$ \\vec{\\mathbf{r}} = -6045 \\hat{\\mathbf{I}} - 3490 \\hat{\\mathbf{J}} + 2500 \\hat{\\mathbf{K}} $ km \n",
    "\n",
    "$ \\vec{\\mathbf{v}} = -3.457 \\hat{\\mathbf{I}} + 6.618 \\hat{\\mathbf{J}} + 2.533 \\hat{\\mathbf{K}} $ km/s\n",
    "\n",
    "$ h = 58,310 $ km^2/s\n",
    "\n",
    "$ i = 153.2^{\\circ} $,\n",
    "\n",
    "$ \\Omega = 255.3^{\\circ} $, \n",
    "\n",
    "$ e = 0.1712 $, \n",
    "\n",
    "$ \\omega = 20.07^{\\circ} $,\n",
    "\n",
    "$ \\theta = 28.45^{\\circ} $\n",
    "\n"
   ]
  },
  {
   "cell_type": "code",
   "execution_count": null,
   "id": "ff642949",
   "metadata": {},
   "outputs": [],
   "source": []
  },
  {
   "cell_type": "code",
   "execution_count": null,
   "id": "daed14ba",
   "metadata": {},
   "outputs": [],
   "source": []
  },
  {
   "cell_type": "code",
   "execution_count": null,
   "id": "a9ed6c87-5338-44cf-9561-edbf6eaa029c",
   "metadata": {},
   "outputs": [],
   "source": []
  },
  {
   "cell_type": "code",
   "execution_count": null,
   "id": "e0eec1ad-d58c-4b32-af68-23758505cb53",
   "metadata": {},
   "outputs": [],
   "source": []
  },
  {
   "cell_type": "code",
   "execution_count": null,
   "id": "41a0275a-3d9e-46d3-bb8b-ba37e63dcd61",
   "metadata": {},
   "outputs": [],
   "source": []
  }
 ],
 "metadata": {
  "kernelspec": {
   "display_name": "Python 3 (ipykernel)",
   "language": "python",
   "name": "python3"
  },
  "language_info": {
   "codemirror_mode": {
    "name": "ipython",
    "version": 3
   },
   "file_extension": ".py",
   "mimetype": "text/x-python",
   "name": "python",
   "nbconvert_exporter": "python",
   "pygments_lexer": "ipython3",
   "version": "3.12.8"
  }
 },
 "nbformat": 4,
 "nbformat_minor": 5
}
