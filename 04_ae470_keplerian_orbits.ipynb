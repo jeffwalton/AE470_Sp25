{
 "cells": [
  {
   "cell_type": "markdown",
   "id": "31380300-1194-43cd-8d0d-b7d408e68d7b",
   "metadata": {},
   "source": [
    "# Starting the Environment\n",
    "1. Open an Anaconda Prompt terminal,\n",
    "   - On windows, Search `anaconda prompt`, click to open\n",
    "2. Change directory (`cd`) into class directory on your computer,\n",
    "   - `cd C:\\JW\\Clarkson\\AE470`\n",
    "3. Change directory into the repository on your computer,\n",
    "   - `cd AE470_Sp25`\n",
    "4. Fetch the latest class repository from GitHub,\n",
    "   - **This will overwrite any changes you have made to files in your local repository directory, `AE470_Sp2025`.**\n",
    "   - **Be sure to rename any files where you make changes that you want to keep.**\n",
    "   - `git fetch origin`\n",
    "5. Reset your local branch repository to match the remote branch,\n",
    "   - `git reset --hard origin/main`\n",
    "6. Activate the virtual python environment,\n",
    "   - `conda activate ae470sp25`\n",
    "7. Start a Jupyter notebook session in a browser window.  Type the following into an Anaconda Prompt window,\n",
    "   - `jupyter notebook`\n",
    "8. Using the Jupyter browser, open this notebook: `04_ae470_keplerian_orbits.ipynb`.\n"
   ]
  },
  {
   "cell_type": "code",
   "execution_count": null,
   "id": "eb0539b0-fd7a-4c1e-9189-090994f9ae81",
   "metadata": {},
   "outputs": [],
   "source": [
    "# Configure Jupyter so figures appear in the notebook\n",
    "# %matplotlib inline\n",
    "\n",
    "# Configure Jupyter to display the assigned value after an assignment\n",
    "%config InteractiveShell.ast_node_interactivity='last_expr_or_assign'"
   ]
  },
  {
   "cell_type": "code",
   "execution_count": null,
   "id": "093f6e48-7b93-4a8f-b37e-21055ac3d74e",
   "metadata": {},
   "outputs": [],
   "source": [
    "# import modsim and install if necessary\n",
    "try:\n",
    "    from modsim import *\n",
    "except ImportError:\n",
    "    print(\"Download modsim from the course repository at https://github.com/jeffwalton/AE470_Sp25\")"
   ]
  },
  {
   "cell_type": "markdown",
   "id": "7902162f-d4df-48dd-be3d-3ff663439d91",
   "metadata": {},
   "source": [
    "# Keplerian Orbits\n",
    "\n",
    "## Polar Equation of a Conic Section\n",
    "\n",
    "The eccentritity vector is fixed in the orbital plane and defined as\n",
    "\n",
    "\\begin{equation} \n",
    "\\vec{\\mathbf{e}} \\triangleq \\frac{ \\dot{\\vec{\\mathbf{r}}} \\times \\vec{\\mathbf{h}} }{\\mu} - \\frac{ \\vec{\\mathbf{r}}}{r}\n",
    "\\end{equation} \n",
    "\n",
    "Now, let's describe the motion of $ m_2 $ with respect to $ m_1 $ within the orbital plane, relative to  $ \\vec{\\mathbf{e}} $ using $ r $ and $ \\theta $.\n",
    "\n",
    "![two-body problem inertial frame](images/tbp_eccentricity_vector.png)\n",
    "\n",
    "Start by taking the dot prduct of $ \\vec{\\mathbf{r}} $ and $ \\vec{\\mathbf{e}} $ then apply the triple scalar product, $ \\vec{a} \\cdot (\\vec{b} \\times \\vec{c}) = (\\vec{a} \\times \\vec{b}) \\cdot \\vec{c} $.\n",
    "\n",
    "\\begin{equation} \n",
    "\\vec{\\mathbf{r}} \\cdot \\vec{\\mathbf{e}} = \\frac{ \\vec{\\mathbf{r}} \\cdot ( \\dot{\\vec{\\mathbf{r}}} \\times \\vec{\\mathbf{h}}) }{\\mu} - \\frac{ \\vec{\\mathbf{r}} \\cdot \\vec{\\mathbf{r}}}{r} = \\frac{ \\vec{\\mathbf{h}} \\cdot ( \\vec{\\mathbf{r}} \\times \\vec{\\mathbf{v}}) }{\\mu} - \\frac{ \\vec{\\mathbf{r}} \\cdot \\vec{\\mathbf{r}}}{r} = \\frac{ \\vec{\\mathbf{h}} \\cdot \\vec{\\mathbf{h}} }{\\mu} - \\frac{ {r}^2}{r} \\implies r e \\cos{\\theta} = \\frac{h^2}{\\mu} - r \\implies r  = \\frac{h^2/\\mu}{1 + e \\cos{\\theta}} \n",
    "\\end{equation} \n",
    "\n",
    "\\begin{equation} \n",
    " \\boxed{r  = \\frac{p}{1 + e \\cos{\\theta}}} \n",
    "\\end{equation} \n",
    "\n",
    "where $ p $ is the *semi-latus rectum*, or *parameter* of the orbit, $ p = \\frac{h^2}{\\mu} $. This equation describes the shape of the orbit within the orbital plane. $ \\theta $ is called the *true anamoly*. \n",
    "\n",
    "$ r $ is a minimum when $ \\theta = 0 $. The closest point of $ m_2 $ to $ m_1 $ is called *periapsis* and lies along the eccentricity vector $ \\vec{\\mathbf{e}} $.\n",
    "\n",
    "\\begin{equation} \n",
    "r_{min}  = \\frac{p}{1 + e} = r_p\n",
    "\\end{equation} \n",
    "\n",
    "$ r $ is a maximum when $ \\theta = 180^{\\circ}$ ( $\\pi$ radians) . The farthest point of $ m_2 $ from $ m_1 $ is called *apoapsis* and lies along the negative eccentricity vector $ \\vec{\\mathbf{e}} $.\n",
    "\n",
    "\\begin{equation} \n",
    "r_{max}  = \\frac{p}{1 - e} = r_a\n",
    "\\end{equation} \n",
    "\n",
    "Also, when $ e = 0 $, $ r = p = constant $; the orbit is circular.\n"
   ]
  },
  {
   "cell_type": "markdown",
   "id": "3f04786d-8cee-48b5-b3f2-cc7397b46630",
   "metadata": {},
   "source": [
    "Note: $ h = r_p v_p = r_a v_a $ because the velocity is perpedicular to the position vector at periapsis and apoapsis."
   ]
  },
  {
   "cell_type": "markdown",
   "id": "fc66e6ce-0dc6-4d56-87e1-0ccbe57b0605",
   "metadata": {},
   "source": [
    "*Periapsis* and *apoapsis* are the generic terms for the location in the orbit closest and farthest from $ m_1 $.\n",
    "\n",
    "For orbits around,\n",
    "| central body | closest point | farthest point |\n",
    "| --- | --- | --- |\n",
    "|  | periapsis | apoapsis |\n",
    "| Earth | perigee | apogee |\n",
    "| Sun | perihelion | apohelion |\n",
    "| Moon | perilune | apolune |\n"
   ]
  },
  {
   "cell_type": "markdown",
   "id": "dfb28ca6-daff-43b5-a8c1-4d7ba76a1522",
   "metadata": {},
   "source": [
    "Let's make some orbit plots with various values of $ e $.  We will pick $ r_{min} $ to be 200 km."
   ]
  },
  {
   "cell_type": "code",
   "execution_count": null,
   "id": "33e556c8-931e-4635-a471-4346d2703956",
   "metadata": {},
   "outputs": [],
   "source": [
    "import numpy as np\n",
    "import pandas as pd\n",
    "import matplotlib.pyplot as plt\n"
   ]
  },
  {
   "cell_type": "code",
   "execution_count": null,
   "id": "179be5af-3439-42a4-a0a7-8f48298027a8",
   "metadata": {},
   "outputs": [],
   "source": [
    "r_min = 200 # km\n",
    "theta_array = np.linspace(0, 2*np.pi, 200)\n",
    "e_array = np.linspace(0, 0.9, 10)\n",
    "\n",
    "for e in e_array:\n",
    "    p = r_min*(1+e)\n",
    "    one_orbit = pd.DataFrame(columns=['r', 'x', 'y'], index=theta_array)\n",
    "    for theta in theta_array:\n",
    "        r = p / (1 + e*np.cos(theta))\n",
    "        one_orbit.loc[theta,'r'] = r\n",
    "        one_orbit.loc[theta,'x'] = r * np.cos(theta)\n",
    "        one_orbit.loc[theta,'y'] = r * np.sin(theta)\n",
    "    plt.plot(one_orbit.x, one_orbit.y, label=f'eccentricity = {e:.2f}')\n",
    "\n",
    "plt.plot(0,0,0, marker='o')\n",
    "plt.gca().set_aspect('equal')\n",
    "decorate(xlabel='x', ylabel='y', title='')"
   ]
  },
  {
   "cell_type": "markdown",
   "id": "852c9ea9-5f93-462c-a19d-bf502810f5b9",
   "metadata": {},
   "source": [
    "## Semi-major axis, $ a $\n",
    "\n",
    "Let's examine $ e $ further.\n",
    "\\begin{equation} \n",
    "\\vec{\\mathbf{e}} \\triangleq \\frac{ \\dot{\\vec{\\mathbf{r}}} \\times \\vec{\\mathbf{h}} }{\\mu} - \\frac{ \\vec{\\mathbf{r}}}{r}\n",
    "\\end{equation} \n",
    " \r\n",
    "\n"
   ]
  },
  {
   "cell_type": "markdown",
   "id": "f6c80792-1c7c-4f6e-9755-2df99382558f",
   "metadata": {},
   "source": [
    "\n",
    "\\begin{align} \n",
    "\\vec{\\mathbf{e}} \\cdot \\vec{\\mathbf{e}} &=  \\bigg( \\frac{ \\dot{\\vec{\\mathbf{r}}} \\times \\vec{\\mathbf{h}} }{\\mu} - \\frac{ \\vec{\\mathbf{r}}}{r} \\bigg) \\cdot \\bigg( \\frac{ \\dot{\\vec{\\mathbf{r}}} \\times \\vec{\\mathbf{h}} }{\\mu} - \\frac{ \\vec{\\mathbf{r}}}{r} \\bigg) \\\\ \n",
    "e^2 &=  \\frac{ ( \\vec{\\mathbf{v}} \\times \\vec{\\mathbf{h}} ) \\cdot ( \\vec{\\mathbf{v}} \\times \\vec{\\mathbf{h}} ) }{\\mu^2 } - 2 \\frac{ \\vec{\\mathbf{r}} \\cdot ( \\vec{\\mathbf{v}} \\times \\vec{\\mathbf{h}} ) }{\\mu r} + \\frac{ \\vec{\\mathbf{r}} \\cdot \\vec{\\mathbf{r}}}{r^2}  \\\\\n",
    "\\end{align} \n"
   ]
  },
  {
   "cell_type": "markdown",
   "id": "e74aa87c-0aef-48ad-861a-a9ac71e35e51",
   "metadata": {},
   "source": [
    "Apply $ (\\vec{a} \\times \\vec{b}) \\cdot (\\vec{c} \\times \\vec{d}) = (\\vec{a} \\cdot \\vec{c})(\\vec{b} \\cdot \\vec{d}) - (\\vec{a} \\cdot \\vec{d})(\\vec{b} \\cdot \\vec{c}) $\n"
   ]
  },
  {
   "cell_type": "markdown",
   "id": "e973eb27-11e5-4309-8f22-8c27c0f6601a",
   "metadata": {},
   "source": [
    "\\begin{align} \n",
    "(\\vec{\\mathbf{v}} \\times \\vec{\\mathbf{h}}) \\cdot (\\vec{\\mathbf{v}} \\times \\vec{\\mathbf{h}}) &= (\\vec{\\mathbf{v}} \\cdot \\vec{\\mathbf{v}})(\\vec{\\mathbf{h}} \\cdot \\vec{\\mathbf{h}}) - (\\vec{\\mathbf{v}} \\cdot \\vec{\\mathbf{h}})(\\vec{\\mathbf{h}} \\cdot \\vec{\\mathbf{v}}) \\\\\n",
    "&= v^2 h^2, \\\\\n",
    "\\end{align}\n",
    "\n",
    "also noting that $ \\vec{\\mathbf{v}} $ is perpendicular to $ \\vec{\\mathbf{h}} $, so $ \\vec{\\mathbf{h}} \\cdot \\vec{\\mathbf{v}} = 0 $.\n"
   ]
  },
  {
   "cell_type": "markdown",
   "id": "6e011fb4-0b0b-4406-ac56-605be28fa1f5",
   "metadata": {},
   "source": [
    "Reduce $ \\vec{\\mathbf{r}} \\cdot ( \\vec{\\mathbf{v}} \\times \\vec{\\mathbf{h}} ) $ using triple scalar product ( $ \\vec{a} \\cdot (\\vec{b} \\times \\vec{c}) = (\\vec{a} \\times \\vec{b}) \\cdot \\vec{c} $), \n",
    "\\begin{equation} \n",
    "\\vec{\\mathbf{r}} \\cdot ( \\vec{\\mathbf{v}} \\times \\vec{\\mathbf{h}} ) = \\vec{\\mathbf{h}} \\cdot ( \\vec{\\mathbf{r}} \\times \\vec{\\mathbf{v}} ) = \\vec{\\mathbf{h}} \\cdot \\vec{\\mathbf{h}} = h^2\n",
    "\\end{equation}\n"
   ]
  },
  {
   "cell_type": "markdown",
   "id": "4976ee4a-dc75-418d-87ee-d8181470582d",
   "metadata": {},
   "source": [
    "Now, \n",
    "\\begin{equation}\n",
    "e^2 = \\frac{ v^2 h^2 }{\\mu^2 } - \\frac{ 2 h^2 }{\\mu r} + 1\n",
    "\\end{equation}"
   ]
  },
  {
   "cell_type": "markdown",
   "id": "cf00ff95-c26c-44af-a09e-c4c2d5dc9678",
   "metadata": {},
   "source": [
    "After rearranging,\n",
    "\n",
    "\\begin{align}\n",
    "1 - e^2 &= \\frac{ h^2 }{\\mu} \\bigg( \\frac{2}{r} - \\frac{ v^2 }{\\mu} \\bigg) \\\\\n",
    "&= p \\bigg( \\frac{2}{r} - \\frac{ v^2 }{\\mu} \\bigg) \\\\\n",
    "\\end{align}\n"
   ]
  },
  {
   "cell_type": "markdown",
   "id": "f6af9670-f331-4ef8-aeb0-be0e103ab122",
   "metadata": {},
   "source": [
    "Define the parameter $ a $ (*semi-major axis*),\n",
    "\\begin{equation}\n",
    "a = \\bigg( \\frac{2}{r} - \\frac{ v^2 }{\\mu} \\bigg)^{-1}\n",
    "\\end{equation}\n",
    "\n",
    "This defines the relationship between $ a $, $ p $ and $ e $ as\n",
    "\\begin{equation}\n",
    "\\boxed{ a = \\frac{p}{1-e^2} }\n",
    "\\end{equation}\n",
    "\n",
    "For a given orbit, $ p $ and $ e $ are constant; therefore, $ a $ is also constant.\n",
    "\n",
    "Because $ p = h^2 / \\mu $, $ p > 0 $.\n",
    "\n",
    "The relationship between $ a $ and $ e $ is as follows,\n",
    "  * $ a < 0 $ when $ e > 1 $,\n",
    "  * $ a > 0 $ when $ e < 1 $, and\n",
    "  * $ a $ is undefined when $ e = 1 $.\n"
   ]
  },
  {
   "cell_type": "markdown",
   "id": "531914d3-ed5b-47cf-8489-49ba2e24a6fd",
   "metadata": {},
   "source": [
    "##  Eccentricity, $ e $\n",
    "\n",
    "Examining, \n",
    "\\begin{equation}\n",
    "a^{-1} = \\frac{2}{r} - \\frac{ v^2 }{\\mu} = \\frac{2}{\\mu} \\bigg( \\frac{\\mu}{r} - \\frac{ v^2 }{2} \\bigg) = \\frac{2}{\\mu} ( - \\mathcal{E} )\n",
    "\\end{equation}\n",
    "\n",
    "\\begin{equation}\n",
    "\\boxed{ \\mathcal{E} = -\\frac{\\mu}{2 a} }\n",
    "\\end{equation}\n",
    "\n",
    "Substituting in $ a $ and  $ p = h^2/\\mu $,\n",
    "\n",
    "\\begin{equation}\n",
    "\\mathcal{E} = -\\frac{\\mu}{2 a} = -\\frac{\\mu (1-e^2)}{2 p} = -\\frac{\\mu^2 (1-e^2)}{2 h^2}\n",
    "\\end{equation}\n",
    "\n",
    "\\begin{equation}\n",
    "\\boxed{ \\mathcal{E} = \\frac{\\mu^2 (e^2 - 1)}{2 h^2} }\n",
    "\\end{equation}\n",
    "\n",
    "From this, we see that\n",
    "  * $ e > 1  \\implies \\mathcal{E} > 0 $ (hyperbolic orbit),\n",
    "  * $ e = 1  \\implies \\mathcal{E} = 0 $ (parabolic orbit), and\n",
    "  * $ e < 1  \\implies \\mathcal{E} < 0 $ (elliptic orbit).\n",
    "\n",
    "For any conic orbit,\n",
    "\n",
    "\\begin{equation}\n",
    "\\boxed{ e = \\sqrt{ 1+ \\frac{2 \\mathcal{E} h^2}{\\mu^2} } }\n",
    "\\end{equation}\n"
   ]
  },
  {
   "cell_type": "markdown",
   "id": "a444f508-61bb-4877-b5e3-c9369e210af3",
   "metadata": {},
   "source": [
    "## Vis-Viva Equation\n",
    "\n",
    "If we equate\n",
    "\\begin{equation} \n",
    "\\mathcal{E} \\triangleq \\frac{v^2}{2} - \\frac{\\mu}{r}\n",
    "\\end{equation}\n",
    "\n",
    "and \n",
    "\n",
    "\\begin{equation} \n",
    "\\mathcal{E} = -\\frac{\\mu}{2 a}\n",
    "\\end{equation}\n",
    "\n",
    "\"after some work\", \n",
    "\n",
    "\\begin{equation} \n",
    "\\boxed{ v = \\sqrt{ \\mu \\bigg( \\frac{2}{r} - \\frac{1}{a} \\bigg) } }\n",
    "\\end{equation}\n",
    "\n",
    "This is known as the *vis-viva equation* (\"living force\").  It relates the orbital speed in terms of energy.\n"
   ]
  },
  {
   "cell_type": "markdown",
   "id": "0b643b37-0920-4755-b229-844d21c78112",
   "metadata": {},
   "source": [
    "## Orbit Terminology\n",
    "\n",
    "![orbit terminology 1](images/bazzocchi_orbit_terminology1.png)\n",
    "\n",
    "![orbit terminology 2](images/bazzocchi_orbit_terminology2.png)\n"
   ]
  },
  {
   "cell_type": "markdown",
   "id": "03d6cb27-2fa1-4c90-b719-d94c99ca9466",
   "metadata": {},
   "source": [
    "## Conic Sections\n",
    "\n",
    "### Circular Orbits ($ e = 0 $)\n",
    "\n",
    "Setting $ e = 0 $ in the orbit equation $ r = (h^2/\\mu)/(1 + e \\cos{ \\theta } ) $ yields\n",
    "\n",
    "\\begin{equation}\n",
    "r = \\frac{h^2}{\\mu}\n",
    "\\end{equation}\n",
    "\n",
    "Since $ h $ is constant, $ r $ is constant; the orbit is a circle.\n",
    "\n",
    "Since the radial velocity $ \\dot{r} $ is zero, the angular momentum is $ h =  r v $.\n",
    "\n",
    "\\begin{equation}\n",
    "r = \\frac{h^2}{\\mu} = \\frac{r^2 v^2}{\\mu}\n",
    "\\end{equation}\n",
    "\n",
    "\\begin{equation}\n",
    "v_{circular} = \\sqrt{ \\frac{\\mu}{r} }\n",
    "\\end{equation}\n",
    "\n",
    "The orbital period $ T $, the time it takes for one orbit, is\n",
    "\\begin{equation}\n",
    "T_{circular} = \\frac{2 \\pi r}{\\sqrt{ \\mu / r } } = \\frac{2 \\pi }{\\sqrt{ \\mu} }r^{\\frac{3}{2}}\n",
    "\\end{equation}\n",
    "\n",
    "After setting $ e = 0 $ and substituting $ r = h^2 / \\mu $, the specific energy is \n",
    "\\begin{equation}\n",
    "\\mathcal{E}_{circular} = -\\frac{\\mu^2 (1-e^2)}{2 h^2} = -\\frac{\\mu^2}{2 h^2} = -\\frac{\\mu}{2 r}\n",
    "\\end{equation}\n"
   ]
  },
  {
   "cell_type": "markdown",
   "id": "a96c5f17-e3a3-4d1e-8613-fe79b4952903",
   "metadata": {},
   "source": [
    "### Elliptical Orbits ($ 0 < e < 1 $)\n",
    "\n",
    "![elliptical orbits](images/bazzocchi_elliptical_orbits.png)\n",
    "\n",
    "Additionally, \n",
    "\n",
    "\\begin{equation}\n",
    "r_p + r_a = 2 a\n",
    "\\end{equation}\n",
    "\n",
    "\\begin{equation}\n",
    "e = \\frac{r_a - r_p}{r_a + r_p}\n",
    "\\end{equation}\n",
    "\n",
    "#### Period of an Elliptical Orbit\n",
    "\n",
    "![area segment](images/tbp_area_segment.png)\n",
    "\n",
    "An infinitessimal area segment is given by \n",
    "\n",
    "\\begin{equation}\n",
    "\\mathrm{d} A = \\frac{1}{2} r^2 \\mathrm{d} \\theta\n",
    "\\end{equation}\n",
    "\n",
    "Since $ \\mathrm{d} \\theta = \\dot{\\theta} \\mathrm{d} t $ , \n",
    "\n",
    "\\begin{equation}\n",
    "\\mathrm{d} A = \\frac{1}{2} r^2 \\dot{\\theta} \\mathrm{d} t\n",
    "\\end{equation}\n",
    "\n",
    "and\n",
    "\n",
    "\\begin{equation}\n",
    "\\frac{\\mathrm{d} A}{\\mathrm{d} t} = \\frac{1}{2} r^2 \\dot{\\theta}\n",
    "\\end{equation}\n",
    "\n",
    "$ r^2 \\dot{\\theta} = h $\n",
    "\n",
    "\\begin{equation}\n",
    "\\boxed{ \\frac{\\mathrm{d} A}{\\mathrm{d} t} = \\frac{h}{2} = constant }\n",
    "\\end{equation}\n",
    "\n",
    "This is Kelper's second law.\n",
    "\n",
    "![Kepler's Second Law](images/bazzocchi_Keplers_second_law.png)"
   ]
  },
  {
   "cell_type": "markdown",
   "id": "9d66d9dc-528b-4c6e-b698-093cc50ddb90",
   "metadata": {},
   "source": [
    "Let T be the orbital period -- the time it takes for one revolution of the ellipse.\n",
    "\n",
    "\\begin{equation}\n",
    "A = \\int_0^T \\frac{\\mathrm{d} A}{\\mathrm{d} t} \\mathrm{d} t\n",
    "\\end{equation}\n",
    "\n",
    "\\begin{equation}\n",
    "A = \\frac{h}{2} T\n",
    "\\end{equation}\n",
    "\n",
    "The area of an ellipse is $ A = \\pi a b $ where $ a $ is the semi-major axis and $ b $ is the semi-minor axis.\n",
    "\n",
    "\\begin{equation}\n",
    "T = \\frac{2 \\pi a b}{h}\n",
    "\\end{equation}\n",
    "\n",
    "For an elliptical orbit, $ h = \\sqrt{ \\mu p } = \\sqrt{ \\mu a ( 1 - e^2 ) } $ and $ b = a \\sqrt{ 1 - e^2 } $.\n",
    "\n",
    "\\begin{align}\n",
    "T &= \\frac{2 \\pi a^2 \\sqrt{1-e^2}}{ \\sqrt{ \\mu a ( 1 - e^2 ) } } \\\\\n",
    "&= \\frac{2 \\pi a^{\\frac{3}{2}}}{\\sqrt{\\mu}} \\\\\n",
    "&= 2 \\pi \\sqrt{ \\frac{a^3}{\\mu} } \\\\\n",
    "T^2 &= \\frac{ 4 \\pi^2 }{\\mu}a^3 \\\\\n",
    "\\end{align}\n",
    "\n",
    "\\begin{equation}\n",
    "\\boxed{T^2 \\propto a^3}\n",
    "\\end{equation}\n",
    "\n",
    "This is Kepler's third law.\n",
    "\n",
    "![Kepler's Third Law](images/bazzocchi_Keplers_third_law.png)\n"
   ]
  },
  {
   "cell_type": "markdown",
   "id": "4e47ef99-ed27-4511-94fe-5a31b81a73bf",
   "metadata": {},
   "source": [
    "#### Keplers Laws\n",
    "\n",
    "Johannes Kelper postulated the following laws based on empirical data collected by Tycho Brahe:\n",
    "\n",
    "  1. The orbit of each planet is an ellipse with the sun at one focus.\n",
    "  2. The radius vector drawn from the sun to the planet sweeps out equal area in equal times.\n",
    "  3. The square of the periods of the planetary orbits are proportional to the cubes of the semi-major axes of the orbits.\n",
    "\n",
    "[![Kepler's Laws Videos](http://img.youtube.com/vi/djgPfNrEkp0/0.jpg)](http://www.youtube.com/watch?v=djgPfNrEkp0)\n",
    "\n",
    "#### Slides \n",
    "\n",
    "\n",
    "![Kepler's Laws 1](images/bazzocchi_Keplers_laws1.png)\n",
    "\n",
    "![Kepler's Laws 2](images/bazzocchi_Keplers_laws2.png)\n",
    "\n",
    "![Kepler's Laws 3](images/bazzocchi_Keplers_laws3.png)\n",
    "\n",
    "![Kepler's Laws 4](images/bazzocchi_Keplers_laws4.png)"
   ]
  },
  {
   "cell_type": "markdown",
   "id": "287c410d-4c7c-4f7f-a3a5-e3d32ed881d8",
   "metadata": {},
   "source": [
    "### Parabolic Orbits ($ e = 1 $)\n",
    "\n",
    "![parabolic orbits](images/bazzocchi_parabolic_orbits.png)\n"
   ]
  },
  {
   "cell_type": "markdown",
   "id": "6290703a-e8ae-4ad2-8631-75f83bb55805",
   "metadata": {},
   "source": [
    "### Hyperbolic Orbits ($ e > 1 $)\n",
    "\n",
    "![hyperbolic orbits 1](images/bazzocchi_hyperbolic_orbits1.png)\n",
    "\n",
    "![hyperbolic orbits 2](images/bazzocchi_hyperbolic_orbits2.png)\n",
    "\n",
    "![hyperbolic orbits 3](images/bazzocchi_hyperbolic_orbits3.png)\n"
   ]
  },
  {
   "cell_type": "code",
   "execution_count": null,
   "id": "54be3c9f-8ea5-4064-9b73-ffc239a75604",
   "metadata": {},
   "outputs": [],
   "source": []
  },
  {
   "cell_type": "code",
   "execution_count": null,
   "id": "844f9684-3375-40a2-813a-160c140f0022",
   "metadata": {},
   "outputs": [],
   "source": []
  },
  {
   "cell_type": "markdown",
   "id": "f9f759e7-4c6a-465a-a04c-c3590fde8eb1",
   "metadata": {},
   "source": [
    "## References\n",
    "\n",
    "    R.R. Bate, D.D. Mueller, J.E. White, W.W. Saylor; Fundamentals of Astrodynamics, Dover, 2nd Ed, 2020.  \n",
    "\n",
    "    H.D. Curtis; Orbital Mechanics for Engineering Students; Butterworth-Heinemann, 4th Ed, 2021.  \n",
    "\n",
    "    A.H.J. de Ruiter, C.J. Damaren, J.R. Forbes; Spacecraft Dynamics and Control: An Introduction; Wiley, 2013.\n",
    "\n",
    "## Acknowledgement\n",
    "\n",
    "   Slide images generously provided by []()[Michael Bazzochi](https://www.clarkson.edu/people/michael-bazzocchi).\n"
   ]
  },
  {
   "cell_type": "code",
   "execution_count": null,
   "id": "3f406e83-0efb-4a72-bf3d-34ab938a95aa",
   "metadata": {},
   "outputs": [],
   "source": []
  }
 ],
 "metadata": {
  "kernelspec": {
   "display_name": "Python 3 (ipykernel)",
   "language": "python",
   "name": "python3"
  },
  "language_info": {
   "codemirror_mode": {
    "name": "ipython",
    "version": 3
   },
   "file_extension": ".py",
   "mimetype": "text/x-python",
   "name": "python",
   "nbconvert_exporter": "python",
   "pygments_lexer": "ipython3",
   "version": "3.12.8"
  }
 },
 "nbformat": 4,
 "nbformat_minor": 5
}
