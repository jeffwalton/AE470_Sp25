{
 "cells": [
  {
   "cell_type": "markdown",
   "id": "1c908a8f-e312-4b5d-bf50-0d91c300a806",
   "metadata": {},
   "source": [
    "# Starting the Environment\n",
    "1. Open an Anaconda Prompt terminal,\n",
    "   - On windows, Search `anaconda prompt`, click to open\n",
    "2. Change directory (`cd`) into class directory on your computer,\n",
    "   - `cd C:\\JW\\Clarkson\\AE470`\n",
    "3. Change directory into the repository on your computer,\n",
    "   - `cd AE470_Sp25`\n",
    "4. Fetch the latest class repository from GitHub,\n",
    "   - **This will overwrite any changes you have made to files in your local repository directory, `AE470_Sp2025`.**\n",
    "   - **Be sure to rename any files where you make changes that you want to keep.**\n",
    "   - `git fetch origin`\n",
    "5. Reset your local branch repository to match the remote branch,\n",
    "   - `git reset --hard origin/main`\n",
    "6. Activate the virtual python environment,\n",
    "   - `conda activate ae470sp25`\n",
    "7. Start a Jupyter notebook session in a browser window.  Type the following into an Anaconda Prompt window,\n",
    "   - `jupyter notebook`\n",
    "8. Using the Jupyter browser, open this notebook: `07_ae470_classical_orbital_elements`.\n"
   ]
  },
  {
   "cell_type": "code",
   "execution_count": null,
   "id": "c5bd37af-1fe7-4d2b-acc9-e95de21d71b0",
   "metadata": {},
   "outputs": [],
   "source": [
    "# Configure Jupyter so figures appear in the notebook\n",
    "# %matplotlib inline\n",
    "\n",
    "# Configure Jupyter to display the assigned value after an assignment\n",
    "%config InteractiveShell.ast_node_interactivity='last_expr_or_assign'"
   ]
  },
  {
   "cell_type": "code",
   "execution_count": null,
   "id": "9f887208-fa7a-450c-8eb6-c8591aff148c",
   "metadata": {},
   "outputs": [],
   "source": [
    "# import modsim and install if necessary\n",
    "try:\n",
    "    from modsim import *\n",
    "except ImportError:\n",
    "    print(\"Download modsim from the course repository at https://github.com/jeffwalton/AE470\")"
   ]
  },
  {
   "cell_type": "markdown",
   "id": "4bc52278-fc06-4ae9-b720-2a4fd8ccdb42",
   "metadata": {},
   "source": [
    "# Classical Orbital Elements\n"
   ]
  },
  {
   "cell_type": "markdown",
   "id": "50e75236-80f5-457f-b8e7-80f9f694cb04",
   "metadata": {},
   "source": [
    "## Exercises"
   ]
  },
  {
   "cell_type": "markdown",
   "id": "7e2ebcfb-fb57-4334-bb30-d7937f8fcab6",
   "metadata": {},
   "source": [
    "### 1.  Curtis, Example 4.7, page 211\n",
    "For a given earth orbit, the elements are $ h = 80,000 km^2/s $, $ e = 1.4 $, $ i = 30^{\\circ} $, $ \\Omega = 40^{\\circ} $, $ \\omega = 60^{\\circ} $, $ \\theta = 30^{\\circ} $.\n",
    "\n",
    "Find the state vectors $ \\vec{\\mathbf{r}} $ and $ \\vec{\\mathbf{v}} $ in the geocentric equatorial frame.\n",
    "\n"
   ]
  },
  {
   "cell_type": "code",
   "execution_count": null,
   "id": "d385cf5f-2593-491e-84b9-2560561f549a",
   "metadata": {},
   "outputs": [],
   "source": [
    "import numpy as np"
   ]
  },
  {
   "cell_type": "code",
   "execution_count": null,
   "id": "c960b53e-1e52-434f-b157-ba41754cbffd",
   "metadata": {},
   "outputs": [],
   "source": [
    "mu_e = 3.986000e+5 # km^3/s^2\n"
   ]
  },
  {
   "cell_type": "code",
   "execution_count": null,
   "id": "ce09a7a2-797f-4ce3-af8f-f9ac4d8fe86a",
   "metadata": {},
   "outputs": [],
   "source": [
    "h = 80_000 # km^2/s\n",
    "ecc = 1.4\n",
    "\n",
    "inc = np.deg2rad(30.0)\n",
    "Om = np.deg2rad(40.0)\n",
    "w = np.deg2rad(60.0)\n",
    "theta = np.deg2rad(30.0)\n",
    "\n",
    "h, ecc, inc, Om, w, theta"
   ]
  },
  {
   "cell_type": "code",
   "execution_count": null,
   "id": "b46e0ef1-b11b-43dd-8505-7a4609b6dde6",
   "metadata": {},
   "outputs": [],
   "source": [
    "r = ((h**2)/mu_e)/(1 + ecc*np.cos(theta))"
   ]
  },
  {
   "cell_type": "code",
   "execution_count": null,
   "id": "32db2bab-ad8c-441c-a006-ccc113ea9e37",
   "metadata": {},
   "outputs": [],
   "source": [
    "rp_vec = Vector(r*np.cos(theta),r*np.sin(theta),0)"
   ]
  },
  {
   "cell_type": "code",
   "execution_count": null,
   "id": "7acfd708-82e0-4f9f-b8ea-949d0d133ad4",
   "metadata": {},
   "outputs": [],
   "source": [
    "vp_vec = Vector(-mu_e/h*np.sin(theta),mu_e/h*(ecc+np.cos(theta)),0)"
   ]
  },
  {
   "cell_type": "code",
   "execution_count": null,
   "id": "44d3071f-d1f6-4e64-8ff4-7146c51e059f",
   "metadata": {},
   "outputs": [],
   "source": [
    "def C1(theta):\n",
    "    c = np.cos(theta)\n",
    "    s = np.sin(theta)\n",
    "    return np.matrix([[ 1, 0, 0],\n",
    "            [0, c, s],\n",
    "            [0, -s, c]])\n",
    "\n",
    "def C2(theta):\n",
    "    c = np.cos(theta)\n",
    "    s = np.sin(theta)\n",
    "    return np.matrix([[ c, 0, -s],\n",
    "            [0, 1, 0],\n",
    "            [s, 0, c]])\n",
    "\n",
    "def C3(theta):\n",
    "    c = np.cos(theta)\n",
    "    s = np.sin(theta)\n",
    "    return np.matrix([[ c, s, 0],\n",
    "            [-s, c, 0],\n",
    "            [0, 0, 1]])"
   ]
  },
  {
   "cell_type": "code",
   "execution_count": null,
   "id": "3e1a9b0b-4c8c-4ddb-99e8-7df543d94f65",
   "metadata": {},
   "outputs": [],
   "source": [
    "C3(Om), C1(inc), C3(w)"
   ]
  },
  {
   "cell_type": "code",
   "execution_count": null,
   "id": "9ed10ef3-a450-4fe1-abbd-966eb78c07b9",
   "metadata": {},
   "outputs": [],
   "source": [
    "rot_mat_geoinertial_to_perifocal = C3(w) @ C1(inc) @ C3(Om)"
   ]
  },
  {
   "cell_type": "code",
   "execution_count": null,
   "id": "8f912bc9-662e-482f-9428-8fdbda493717",
   "metadata": {},
   "outputs": [],
   "source": [
    "rot_mat_perifocal_to_geoinertial = (C3(w) @ C1(inc) @ C3(Om)).transpose()"
   ]
  },
  {
   "cell_type": "code",
   "execution_count": null,
   "id": "89b871ec-2c42-4ef0-b690-2e537ec55a65",
   "metadata": {},
   "outputs": [],
   "source": [
    "r_vec = rot_mat_perifocal_to_geoinertial @ rp_vec"
   ]
  },
  {
   "cell_type": "code",
   "execution_count": null,
   "id": "093bc258-d34e-4097-93be-3a3d9a0b2b6a",
   "metadata": {},
   "outputs": [],
   "source": [
    "v_vec = rot_mat_perifocal_to_geoinertial @ vp_vec"
   ]
  },
  {
   "cell_type": "code",
   "execution_count": null,
   "id": "61567f34-5465-40d5-a204-8ff8ff7401af",
   "metadata": {},
   "outputs": [],
   "source": []
  },
  {
   "cell_type": "code",
   "execution_count": null,
   "id": "859d9ee1-b3d5-4fb6-81f7-211444eba56e",
   "metadata": {},
   "outputs": [],
   "source": []
  },
  {
   "cell_type": "markdown",
   "id": "238daa1c-e0f1-4ad6-8058-31eaf2625068",
   "metadata": {},
   "source": [
    " ## Problem from Slides"
   ]
  },
  {
   "cell_type": "code",
   "execution_count": null,
   "id": "a81fb584-4220-448a-a927-be4397c4e2b5",
   "metadata": {},
   "outputs": [],
   "source": [
    "h = 70_000 # km^2/s\n",
    "ecc = 0.74\n",
    "\n",
    "inc = np.deg2rad(63.4)\n",
    "Om = np.deg2rad(40.0)\n",
    "w = np.deg2rad(270.0)\n",
    "theta = np.deg2rad(30.0)\n",
    "\n",
    "h, ecc, inc, Om, w, theta"
   ]
  },
  {
   "cell_type": "code",
   "execution_count": null,
   "id": "db2ad2ec-178c-4577-93ff-e14973a19883",
   "metadata": {},
   "outputs": [],
   "source": [
    "r = ((h**2)/mu_e)/(1 + ecc*np.cos(theta))"
   ]
  },
  {
   "cell_type": "code",
   "execution_count": null,
   "id": "2dcf8252-3ca5-40ab-a247-9f1e589a99f0",
   "metadata": {},
   "outputs": [],
   "source": [
    "rp_vec = Vector(r*np.cos(theta),r*np.sin(theta),0)"
   ]
  },
  {
   "cell_type": "code",
   "execution_count": null,
   "id": "fa8a6d70-9111-4595-b029-9230cf3eb816",
   "metadata": {},
   "outputs": [],
   "source": [
    "vp_vec = Vector(-mu_e/h*np.sin(theta),mu_e/h*(ecc+np.cos(theta)),0)"
   ]
  },
  {
   "cell_type": "code",
   "execution_count": null,
   "id": "01dcefdd-186a-452e-a81f-503240a12b44",
   "metadata": {},
   "outputs": [],
   "source": [
    "rot_mat_perifocal_to_geoinertial = (C3(w) @ C1(inc) @ C3(Om)).transpose()\n"
   ]
  },
  {
   "cell_type": "code",
   "execution_count": null,
   "id": "a33ba990-1f4c-413b-9f52-b45b1cbc8d96",
   "metadata": {},
   "outputs": [],
   "source": [
    "r_vec = rot_mat_perifocal_to_geoinertial @ rp_vec"
   ]
  },
  {
   "cell_type": "code",
   "execution_count": null,
   "id": "eb3bf33d-2a3f-47b8-8a29-92c56216ebb1",
   "metadata": {},
   "outputs": [],
   "source": [
    "v_vec = rot_mat_perifocal_to_geoinertial @ vp_vec"
   ]
  },
  {
   "cell_type": "code",
   "execution_count": null,
   "id": "eb2c8f30-b385-498e-aed7-507ab30e94ee",
   "metadata": {},
   "outputs": [],
   "source": []
  }
 ],
 "metadata": {
  "kernelspec": {
   "display_name": "Python 3 (ipykernel)",
   "language": "python",
   "name": "python3"
  },
  "language_info": {
   "codemirror_mode": {
    "name": "ipython",
    "version": 3
   },
   "file_extension": ".py",
   "mimetype": "text/x-python",
   "name": "python",
   "nbconvert_exporter": "python",
   "pygments_lexer": "ipython3",
   "version": "3.12.8"
  }
 },
 "nbformat": 4,
 "nbformat_minor": 5
}
