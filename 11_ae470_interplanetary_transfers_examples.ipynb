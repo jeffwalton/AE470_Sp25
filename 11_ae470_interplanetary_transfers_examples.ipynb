{
 "cells": [
  {
   "cell_type": "markdown",
   "id": "2e7b154a-22f6-471d-925d-b29f0c4accd0",
   "metadata": {},
   "source": [
    "# Starting the Environment\n",
    "1. Open an Anaconda Prompt terminal,\n",
    "   - On windows, Search `anaconda prompt`, click to open\n",
    "2. Change directory (`cd`) into class directory on your computer,\n",
    "   - `cd C:\\JW\\Clarkson\\AE470`\n",
    "3. Change directory into the repository on your computer,\n",
    "   - `cd AE470_Sp25`\n",
    "4. Fetch the latest class repository from GitHub,\n",
    "   - **This will overwrite any changes you have made to files in your local repository directory, `AE470_Sp2025`.**\n",
    "   - **Be sure to rename any files where you make changes that you want to keep.**\n",
    "   - `git fetch origin`\n",
    "5. Reset your local branch repository to match the remote branch,\n",
    "   - `git reset --hard origin/main`\n",
    "6. Activate the virtual python environment,\n",
    "   - `conda activate ae470sp25`\n",
    "7. Start a Jupyter notebook session in a browser window.  Type the following into an Anaconda Prompt window,\n",
    "   - `jupyter notebook`\n",
    "8. Using the Jupyter browser, open this notebook: `11_ae470_interplanetary_transfers_examples`."
   ]
  },
  {
   "cell_type": "code",
   "execution_count": 4,
   "id": "c5bd37af-1fe7-4d2b-acc9-e95de21d71b0",
   "metadata": {},
   "outputs": [],
   "source": [
    "# Configure Jupyter so figures appear in the notebook\n",
    "# %matplotlib inline\n",
    "\n",
    "# Configure Jupyter to display the assigned value after an assignment\n",
    "%config InteractiveShell.ast_node_interactivity='last_expr_or_assign'\n",
    "\n",
    "import numpy as np"
   ]
  },
  {
   "cell_type": "markdown",
   "id": "e7d5dd83-faed-4472-9447-a9cc79fc1ad1",
   "metadata": {},
   "source": [
    "# Interplanetary Transfers"
   ]
  },
  {
   "cell_type": "markdown",
   "id": "7a99e6aa-b896-42ec-8285-b83e3d3c6bbe",
   "metadata": {},
   "source": [
    "## SOI Earth\n"
   ]
  },
  {
   "cell_type": "code",
   "execution_count": 50,
   "id": "f50fe044-69c3-4ec2-9e6d-ee051b0aada0",
   "metadata": {},
   "outputs": [
    {
     "data": {
      "text/plain": [
       "1.989e+30"
      ]
     },
     "execution_count": 50,
     "metadata": {},
     "output_type": "execute_result"
    }
   ],
   "source": [
    "r_Earth = 149.6e6 # km\n",
    "m_Earth = 5.974e24 # kg\n",
    "m_Sun = 1.989e30 # kg"
   ]
  },
  {
   "cell_type": "code",
   "execution_count": 51,
   "id": "aa6463eb-7d05-4a2f-ba45-139797e0070c",
   "metadata": {},
   "outputs": [
    {
     "data": {
      "text/plain": [
       "924663.6125892245"
      ]
     },
     "execution_count": 51,
     "metadata": {},
     "output_type": "execute_result"
    }
   ],
   "source": [
    "r_soi_Earth = r_Earth * ( m_Earth / m_Sun )**(2/5)"
   ]
  },
  {
   "cell_type": "code",
   "execution_count": 52,
   "id": "8f33f61a-5f28-4797-b1ac-687ba60a7786",
   "metadata": {},
   "outputs": [
    {
     "data": {
      "text/plain": [
       "0.00618090650126487"
      ]
     },
     "execution_count": 52,
     "metadata": {},
     "output_type": "execute_result"
    }
   ],
   "source": [
    "r_soi_Earth / r_Earth"
   ]
  },
  {
   "cell_type": "code",
   "execution_count": 55,
   "id": "e7c79cbd-686a-4c82-8510-44b767e0c028",
   "metadata": {},
   "outputs": [
    {
     "data": {
      "text/plain": [
       "144.97393401697462"
      ]
     },
     "execution_count": 55,
     "metadata": {},
     "output_type": "execute_result"
    }
   ],
   "source": [
    "r_soi_Earth / 6378.137"
   ]
  },
  {
   "cell_type": "markdown",
   "id": "60fcd620-757d-4529-895a-bebe9b14cfea",
   "metadata": {},
   "source": [
    "## Example 1\n",
    "\n",
    "Elon Musk plans to have SpaceX’s Starship travel to Mars on an uncrewed mission in 2026. In your interview with\n",
    "SpaceX, Musk asks you to estimate the following in days: \n",
    "\n",
    "1. the transfer time from Earth to Mars,\n",
    "2. the time required for an Earth-Mars round trip, and\n",
    "3. approximately how long will they have to wait for the next launch window if they miss the 2026 launch?\n",
    "\n",
    "Assume you are using an interplanetary Hohmann transfer and that the planetary orbits are circular."
   ]
  },
  {
   "cell_type": "code",
   "execution_count": 6,
   "id": "a969cf51-0959-4803-9d5c-31ebb26b76d4",
   "metadata": {},
   "outputs": [
    {
     "data": {
      "text/plain": [
       "132700000000.0"
      ]
     },
     "execution_count": 6,
     "metadata": {},
     "output_type": "execute_result"
    }
   ],
   "source": [
    "r_Earth = 149.6e6 # km\n",
    "r_Mars = 227.9e6 # km\n",
    "mu_Sun = 132.7e9 # km^3/s^2"
   ]
  },
  {
   "cell_type": "code",
   "execution_count": 43,
   "id": "1c004bb5-38f2-4ba1-b82b-ea8100d58522",
   "metadata": {},
   "outputs": [
    {
     "name": "stdout",
     "output_type": "stream",
     "text": [
      "a_t=1.888E+08\n",
      "TOF_12=22363761.5 s\n",
      "TOF_12/60/60/24=258.84 days\n"
     ]
    }
   ],
   "source": [
    "a_t = (r_Earth + r_Mars)/2\n",
    "print(f\"{a_t=:.3E}\")\n",
    "\n",
    "TOF_12 = np.pi * np.sqrt( a_t**3/mu_Sun)\n",
    "print(f\"{TOF_12=:.1f} s\")\n",
    "print(f\"{TOF_12/60/60/24=:.2f} days\")\n"
   ]
  },
  {
   "cell_type": "code",
   "execution_count": 14,
   "id": "3d59ec8b-7ce1-43b5-a8bf-d3942ead1d5a",
   "metadata": {},
   "outputs": [
    {
     "data": {
      "text/plain": [
       "1.9908478531189116e-07"
      ]
     },
     "execution_count": 14,
     "metadata": {},
     "output_type": "execute_result"
    }
   ],
   "source": [
    "n_E = np.sqrt(mu_Sun/r_Earth**3)"
   ]
  },
  {
   "cell_type": "code",
   "execution_count": 15,
   "id": "e93ccab4-40b1-4e07-8425-69b7dc02c0ba",
   "metadata": {},
   "outputs": [
    {
     "data": {
      "text/plain": [
       "1.058812289992724e-07"
      ]
     },
     "execution_count": 15,
     "metadata": {},
     "output_type": "execute_result"
    }
   ],
   "source": [
    "n_M = np.sqrt(mu_Sun/r_Mars**3)"
   ]
  },
  {
   "cell_type": "code",
   "execution_count": 16,
   "id": "6f857426-0ff7-4ec5-8f31-97698461c23b",
   "metadata": {},
   "outputs": [
    {
     "data": {
      "text/plain": [
       "-1.3106920000032076"
      ]
     },
     "execution_count": 16,
     "metadata": {},
     "output_type": "execute_result"
    }
   ],
   "source": [
    "phi_arr = np.pi - n_E*TOF_12"
   ]
  },
  {
   "cell_type": "code",
   "execution_count": 34,
   "id": "93cc2ba8-f94e-4ce4-9b29-7eb65febdfa4",
   "metadata": {},
   "outputs": [
    {
     "data": {
      "text/plain": [
       "-1"
      ]
     },
     "execution_count": 34,
     "metadata": {},
     "output_type": "execute_result"
    }
   ],
   "source": [
    "N = -1"
   ]
  },
  {
   "cell_type": "code",
   "execution_count": 35,
   "id": "8ba7a6e8-bb36-4f15-ac67-df6b0d34e691",
   "metadata": {},
   "outputs": [
    {
     "data": {
      "text/plain": [
       "2.6213840000064152"
      ]
     },
     "execution_count": 35,
     "metadata": {},
     "output_type": "execute_result"
    }
   ],
   "source": [
    "-2*phi_arr"
   ]
  },
  {
   "cell_type": "code",
   "execution_count": 36,
   "id": "b1d49e9f-6598-4bdb-9add-3cd789c8ea22",
   "metadata": {},
   "outputs": [
    {
     "data": {
      "text/plain": [
       "39288214.44206419"
      ]
     },
     "execution_count": 36,
     "metadata": {},
     "output_type": "execute_result"
    }
   ],
   "source": [
    "T_wait = (-2*phi_arr + N*2*np.pi) / (n_M - n_E)"
   ]
  },
  {
   "cell_type": "code",
   "execution_count": 37,
   "id": "79729e72-8b2f-4bdf-867c-4b42ce72e34d",
   "metadata": {},
   "outputs": [
    {
     "data": {
      "text/plain": [
       "84015737.40789948"
      ]
     },
     "execution_count": 37,
     "metadata": {},
     "output_type": "execute_result"
    }
   ],
   "source": [
    "T_trip = T_wait + 2*TOF_12"
   ]
  },
  {
   "cell_type": "code",
   "execution_count": 39,
   "id": "08243004-bcbc-48e9-b310-d5ed2c427520",
   "metadata": {},
   "outputs": [
    {
     "name": "stdout",
     "output_type": "stream",
     "text": [
      "T_trip/60/60/24=972.40 days\n"
     ]
    }
   ],
   "source": [
    "print(f\"{T_trip/60/60/24=:.2f} days\")"
   ]
  },
  {
   "cell_type": "code",
   "execution_count": 41,
   "id": "2250e6ae-1f3a-4bef-a347-e2bfd023334b",
   "metadata": {},
   "outputs": [
    {
     "data": {
      "text/plain": [
       "67413579.0066297"
      ]
     },
     "execution_count": 41,
     "metadata": {},
     "output_type": "execute_result"
    }
   ],
   "source": [
    "# Time between launch windows, synodic period\n",
    "\n",
    "T_syn = 2*np.pi/np.abs(n_M - n_E)\n"
   ]
  },
  {
   "cell_type": "code",
   "execution_count": 42,
   "id": "164ad227-4c6f-47df-86dc-a6ad61049a3b",
   "metadata": {},
   "outputs": [
    {
     "name": "stdout",
     "output_type": "stream",
     "text": [
      "T_syn/60/60/24=780.25 days\n"
     ]
    }
   ],
   "source": [
    "print(f\"{T_syn/60/60/24=:.2f} days\")"
   ]
  },
  {
   "cell_type": "code",
   "execution_count": null,
   "id": "161974c9-07ec-4253-ae77-02afedb4d5f5",
   "metadata": {},
   "outputs": [],
   "source": []
  },
  {
   "cell_type": "markdown",
   "id": "fe42ffb1-0b70-46ec-8fa1-41c602066f26",
   "metadata": {},
   "source": [
    "## Example 2\n",
    "\n",
    "As part of a preliminary study for an exploration trip to Mars, it has been decided that a Hohmann transfer will be used to travel from the Earth to Mars. You may assume that the orbits of the Earth and Mars are circular and lie in the same plane. The spacecraft is initially in a circular parking orbit around the Earth of radius $ r_{park} $ = 100,000 km. It is desired to place the spacecraft in a circular orbit around Mars of radius $ r_{cap} $ = 50,000 km."
   ]
  },
  {
   "cell_type": "code",
   "execution_count": 1,
   "id": "75185f1f-3201-4a70-9263-393c28bc544a",
   "metadata": {},
   "outputs": [],
   "source": [
    "r_Earth = 149.6e6 # km\n",
    "r_Mars = 227.9e6 # km\n",
    "mu_Sun = 132.7e9 # km^3/s^2\n",
    "mu_Earth = 3.986e5 # km^3/s^2\n",
    "mu_Mars = 4.305e4 # km^3/s^2"
   ]
  },
  {
   "cell_type": "code",
   "execution_count": 17,
   "id": "f8c25ce2-da43-4c47-bb2f-a77bdc76b428",
   "metadata": {},
   "outputs": [
    {
     "data": {
      "text/plain": [
       "50000"
      ]
     },
     "execution_count": 17,
     "metadata": {},
     "output_type": "execute_result"
    }
   ],
   "source": [
    "r_park = 100000 # km\n",
    "r_cap = 50000 # km"
   ]
  },
  {
   "cell_type": "markdown",
   "id": "38c53099-373b-49bc-9219-a0062446ff8d",
   "metadata": {},
   "source": [
    "##### Compute the semi-major axis of the Hohmann transfer orbit."
   ]
  },
  {
   "cell_type": "code",
   "execution_count": 2,
   "id": "3af59469-ba2b-46dc-8a3f-270a5a357589",
   "metadata": {},
   "outputs": [
    {
     "name": "stdout",
     "output_type": "stream",
     "text": [
      "a_t=1.888E+08\n"
     ]
    }
   ],
   "source": [
    "a_t = (r_Earth + r_Mars)/2\n",
    "print(f\"{a_t=:.3E}\")"
   ]
  },
  {
   "cell_type": "markdown",
   "id": "4196dc1a-545e-4aa7-9f21-9370fd806d62",
   "metadata": {},
   "source": [
    "##### Compute the time-of-flight for the Hohmann transfer orbit."
   ]
  },
  {
   "cell_type": "code",
   "execution_count": 5,
   "id": "7b098271-c7cb-4145-95af-4a8f192b0975",
   "metadata": {},
   "outputs": [
    {
     "name": "stdout",
     "output_type": "stream",
     "text": [
      "TOF_12=22363761.5 s\n",
      "TOF_12/60/60/24=258.84 days\n"
     ]
    }
   ],
   "source": [
    "TOF_12 = np.pi * np.sqrt( a_t**3/mu_Sun)\n",
    "print(f\"{TOF_12=:.1f} s\")\n",
    "print(f\"{TOF_12/60/60/24=:.2f} days\")"
   ]
  },
  {
   "cell_type": "markdown",
   "id": "1982f0cc-ec0d-44e0-9c7f-d5156204b599",
   "metadata": {},
   "source": [
    "##### Assuming that the Earth, Mars the Sun lie on the same line at 𝑡 = 0, with Earth and Mars on opposite sides of the Sun, compute the time 𝑡 in days of the required departure from Earth."
   ]
  },
  {
   "cell_type": "code",
   "execution_count": 6,
   "id": "7e0461e8-cf69-4dee-b244-44528aff19ff",
   "metadata": {},
   "outputs": [
    {
     "data": {
      "text/plain": [
       "1.9908478531189116e-07"
      ]
     },
     "execution_count": 6,
     "metadata": {},
     "output_type": "execute_result"
    }
   ],
   "source": [
    "n_E = np.sqrt(mu_Sun/r_Earth**3)"
   ]
  },
  {
   "cell_type": "code",
   "execution_count": 7,
   "id": "2f72acb3-81f3-4ef6-ad81-ca056e016e37",
   "metadata": {},
   "outputs": [
    {
     "data": {
      "text/plain": [
       "1.058812289992724e-07"
      ]
     },
     "execution_count": 7,
     "metadata": {},
     "output_type": "execute_result"
    }
   ],
   "source": [
    "n_M = np.sqrt(mu_Sun/r_Mars**3)"
   ]
  },
  {
   "cell_type": "code",
   "execution_count": 8,
   "id": "4841982e-9ec1-4684-afb6-5c9f1b28f1b4",
   "metadata": {},
   "outputs": [
    {
     "name": "stdout",
     "output_type": "stream",
     "text": [
      "phi_d=0.7737 rad = 44.33 deg\n"
     ]
    }
   ],
   "source": [
    "# the phase angle of Mars at departure\n",
    "phi_d = np.pi - n_M*TOF_12\n",
    "\n",
    "print(f\"{phi_d=:.4f} rad = {np.rad2deg(phi_d):.2f} deg\")"
   ]
  },
  {
   "cell_type": "code",
   "execution_count": 65,
   "id": "a21a759d-30f5-4e18-b9a7-5f61328adaa2",
   "metadata": {},
   "outputs": [
    {
     "name": "stdout",
     "output_type": "stream",
     "text": [
      "t_wait=2.541e+07 s = 294.05 days\n"
     ]
    }
   ],
   "source": [
    "phi_0 = np.pi\n",
    "t_wait = (phi_d - phi_0) / (n_M - n_E)\n",
    "\n",
    "print(f\"{t_wait=:.3e} s = {t_wait/60/60/24:.2f} days\")"
   ]
  },
  {
   "cell_type": "markdown",
   "id": "b18a93a8-76eb-4ff6-8482-6ed5a9c27f5f",
   "metadata": {},
   "source": [
    "##### Compute the required hyperbolic excess speed 𝑣∞,𝑑𝑒𝑝 upon exiting the Earth’s SOI, and the hyperbolic excess speed 𝑣∞,𝑎𝑟𝑟 upon entering Mars’ SOI."
   ]
  },
  {
   "cell_type": "code",
   "execution_count": 9,
   "id": "5ca4e026-dae7-4709-928d-be8253bb3e75",
   "metadata": {},
   "outputs": [
    {
     "data": {
      "text/plain": [
       "29.783083882658914"
      ]
     },
     "execution_count": 9,
     "metadata": {},
     "output_type": "execute_result"
    }
   ],
   "source": [
    "v_Earth = np.sqrt(mu_Sun/r_Earth)  # km/s"
   ]
  },
  {
   "cell_type": "code",
   "execution_count": 10,
   "id": "45b56009-be81-4dc2-9689-a3f7ad2a46d3",
   "metadata": {},
   "outputs": [
    {
     "data": {
      "text/plain": [
       "24.13033208893418"
      ]
     },
     "execution_count": 10,
     "metadata": {},
     "output_type": "execute_result"
    }
   ],
   "source": [
    "v_Mars = np.sqrt(mu_Sun/r_Mars)  # km/s"
   ]
  },
  {
   "cell_type": "code",
   "execution_count": 12,
   "id": "dc2c4787-008b-4c59-9b8d-7a00b4580fad",
   "metadata": {},
   "outputs": [
    {
     "data": {
      "text/plain": [
       "32.72640850302857"
      ]
     },
     "execution_count": 12,
     "metadata": {},
     "output_type": "execute_result"
    }
   ],
   "source": [
    "v_dep = np.sqrt(mu_Sun*((2/r_Earth)-(1/a_t)))  # km/s"
   ]
  },
  {
   "cell_type": "code",
   "execution_count": 13,
   "id": "33c2a76c-19f1-4879-af79-738368d0e1dd",
   "metadata": {},
   "outputs": [
    {
     "data": {
      "text/plain": [
       "21.48253932449791"
      ]
     },
     "execution_count": 13,
     "metadata": {},
     "output_type": "execute_result"
    }
   ],
   "source": [
    "v_arr = np.sqrt(mu_Sun*((2/r_Mars)-(1/a_t)))  # km/s"
   ]
  },
  {
   "cell_type": "code",
   "execution_count": 15,
   "id": "bef8a58d-3a41-4dbc-a610-418bb4d04929",
   "metadata": {},
   "outputs": [
    {
     "data": {
      "text/plain": [
       "2.9433246203696584"
      ]
     },
     "execution_count": 15,
     "metadata": {},
     "output_type": "execute_result"
    }
   ],
   "source": [
    "# hyperbolic excess departing Earth SOI\n",
    "v_infdep = v_dep - v_Earth"
   ]
  },
  {
   "cell_type": "code",
   "execution_count": 16,
   "id": "05d31f4c-728c-4c0f-8101-08f0ecc83bf6",
   "metadata": {},
   "outputs": [
    {
     "data": {
      "text/plain": [
       "2.647792764436268"
      ]
     },
     "execution_count": 16,
     "metadata": {},
     "output_type": "execute_result"
    }
   ],
   "source": [
    "# hyperbolic excess entering Mars SOI\n",
    "v_infarr = v_Mars - v_arr"
   ]
  },
  {
   "cell_type": "markdown",
   "id": "e804208b-2d77-4621-8d4b-402caaf162e1",
   "metadata": {},
   "source": [
    "##### Determine the location and magnitude of the $ \\Delta v_{dep} $ required for Earth departure.  Depart the circular parking orbit about Earth (perigee point of departure hyperbola):"
   ]
  },
  {
   "cell_type": "code",
   "execution_count": 25,
   "id": "7116f147-2734-4262-97b7-bdc5b636289f",
   "metadata": {},
   "outputs": [
    {
     "data": {
      "text/plain": [
       "4.078622294460986"
      ]
     },
     "execution_count": 25,
     "metadata": {},
     "output_type": "execute_result"
    }
   ],
   "source": [
    "v_Earthdep = np.sqrt(v_infdep**2 + (2*mu_Earth/r_park))\n"
   ]
  },
  {
   "cell_type": "code",
   "execution_count": 19,
   "id": "beaee94e-c582-4d56-b1df-517834fca8b4",
   "metadata": {},
   "outputs": [
    {
     "data": {
      "text/plain": [
       "1.9964969321288726"
      ]
     },
     "execution_count": 19,
     "metadata": {},
     "output_type": "execute_result"
    }
   ],
   "source": [
    "v_park = np.sqrt(mu_Earth/r_park)"
   ]
  },
  {
   "cell_type": "code",
   "execution_count": 20,
   "id": "b51d38e6-ad28-48c9-b79e-2f4a9cd8b071",
   "metadata": {},
   "outputs": [
    {
     "data": {
      "text/plain": [
       "2.082125362332113"
      ]
     },
     "execution_count": 20,
     "metadata": {},
     "output_type": "execute_result"
    }
   ],
   "source": [
    "deltav_dep = v_Earthdep - v_park"
   ]
  },
  {
   "cell_type": "code",
   "execution_count": 21,
   "id": "cfc7ddba-a148-4ab4-88be-894029ff0be4",
   "metadata": {},
   "outputs": [
    {
     "data": {
      "text/plain": [
       "-46010.92537154388"
      ]
     },
     "execution_count": 21,
     "metadata": {},
     "output_type": "execute_result"
    }
   ],
   "source": [
    "a_dep = -mu_Earth/v_infdep**2"
   ]
  },
  {
   "cell_type": "code",
   "execution_count": 22,
   "id": "8763aadb-4ad7-4016-9b80-85e3cdd15bd1",
   "metadata": {},
   "outputs": [
    {
     "data": {
      "text/plain": [
       "3.1733968441731544"
      ]
     },
     "execution_count": 22,
     "metadata": {},
     "output_type": "execute_result"
    }
   ],
   "source": [
    "e_dep = 1 - r_park/a_dep"
   ]
  },
  {
   "cell_type": "code",
   "execution_count": 24,
   "id": "a720c7a4-5c10-4d4f-a897-44f165652859",
   "metadata": {},
   "outputs": [
    {
     "name": "stdout",
     "output_type": "stream",
     "text": [
      "phi_dep=4.3918 rad = 251.63 deg\n"
     ]
    }
   ],
   "source": [
    "phi_dep = np.pi + np.arccos(1/e_dep)\n",
    "\n",
    "print(f\"{phi_dep=:.4f} rad = {np.rad2deg(phi_dep):.2f} deg\")"
   ]
  },
  {
   "cell_type": "markdown",
   "id": "3fbbc1bc-9b8d-491f-a785-e7ac8a9e0300",
   "metadata": {},
   "source": [
    "##### Determine the required hyperbola asymtote offset $ - b $, and compute the $ \\Delta v_{arr} $ required for Mars capture. "
   ]
  },
  {
   "cell_type": "code",
   "execution_count": 26,
   "id": "81e96c18-7439-476e-88dd-e600679ed339",
   "metadata": {},
   "outputs": [
    {
     "data": {
      "text/plain": [
       "-6140.520331905516"
      ]
     },
     "execution_count": 26,
     "metadata": {},
     "output_type": "execute_result"
    }
   ],
   "source": [
    "a_arr = -mu_Mars/v_infarr**2"
   ]
  },
  {
   "cell_type": "code",
   "execution_count": 27,
   "id": "f2d23726-e4f0-4f29-8c4f-7df9d6f58dff",
   "metadata": {},
   "outputs": [
    {
     "data": {
      "text/plain": [
       "9.14263243136011"
      ]
     },
     "execution_count": 27,
     "metadata": {},
     "output_type": "execute_result"
    }
   ],
   "source": [
    "e_arr = 1 - r_cap/a_arr"
   ]
  },
  {
   "cell_type": "code",
   "execution_count": 28,
   "id": "04c6a5d7-ced1-4d06-b412-b9c95cb51101",
   "metadata": {},
   "outputs": [
    {
     "data": {
      "text/plain": [
       "-55803.69193154295"
      ]
     },
     "execution_count": 28,
     "metadata": {},
     "output_type": "execute_result"
    }
   ],
   "source": [
    "b = a_arr*np.sqrt(e_arr**2-1)"
   ]
  },
  {
   "cell_type": "code",
   "execution_count": 29,
   "id": "d7bdc63e-55d0-4ba0-a01a-5ed543a0efa7",
   "metadata": {},
   "outputs": [
    {
     "data": {
      "text/plain": [
       "2.9551322345033992"
      ]
     },
     "execution_count": 29,
     "metadata": {},
     "output_type": "execute_result"
    }
   ],
   "source": [
    "v_p_arr = np.sqrt(v_infarr**2+(2*mu_Mars/r_cap))"
   ]
  },
  {
   "cell_type": "code",
   "execution_count": 31,
   "id": "6b8c646e-3e2a-4c52-82ee-b917c7951382",
   "metadata": {},
   "outputs": [
    {
     "data": {
      "text/plain": [
       "0.9279008567729636"
      ]
     },
     "execution_count": 31,
     "metadata": {},
     "output_type": "execute_result"
    }
   ],
   "source": [
    "v_cap = np.sqrt(mu_Mars/r_cap)"
   ]
  },
  {
   "cell_type": "code",
   "execution_count": 32,
   "id": "4eab538b-7249-4ada-ba92-96b16065a7ad",
   "metadata": {},
   "outputs": [
    {
     "data": {
      "text/plain": [
       "2.027231377730436"
      ]
     },
     "execution_count": 32,
     "metadata": {},
     "output_type": "execute_result"
    }
   ],
   "source": [
    "deltav_cap = v_p_arr - v_cap"
   ]
  },
  {
   "cell_type": "markdown",
   "id": "fb41b097-3568-435e-9f41-db0269901078",
   "metadata": {},
   "source": [
    "##### Compute the total $ \\Delta v $ for the trip."
   ]
  },
  {
   "cell_type": "code",
   "execution_count": 33,
   "id": "3f947e74-a64d-4389-8cfb-139428ca88f8",
   "metadata": {},
   "outputs": [
    {
     "data": {
      "text/plain": [
       "4.109356740062549"
      ]
     },
     "execution_count": 33,
     "metadata": {},
     "output_type": "execute_result"
    }
   ],
   "source": [
    "deltav_total = deltav_dep + deltav_cap"
   ]
  },
  {
   "cell_type": "code",
   "execution_count": null,
   "id": "602a6310-4ae7-4bf5-abbf-5d03ea5432f2",
   "metadata": {},
   "outputs": [],
   "source": []
  }
 ],
 "metadata": {
  "kernelspec": {
   "display_name": "Python 3 (ipykernel)",
   "language": "python",
   "name": "python3"
  },
  "language_info": {
   "codemirror_mode": {
    "name": "ipython",
    "version": 3
   },
   "file_extension": ".py",
   "mimetype": "text/x-python",
   "name": "python",
   "nbconvert_exporter": "python",
   "pygments_lexer": "ipython3",
   "version": "3.12.8"
  }
 },
 "nbformat": 4,
 "nbformat_minor": 5
}
