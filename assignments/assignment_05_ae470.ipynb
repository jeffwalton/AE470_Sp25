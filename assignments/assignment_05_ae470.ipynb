{
 "cells": [
  {
   "cell_type": "markdown",
   "id": "bc8974c4-f7b4-4801-9e25-fc72125d6f4d",
   "metadata": {},
   "source": [
    "## AE 470 - Assignment 5\n",
    "## Due Tuesday, March 25, 2025 at 11:59 pm  \n",
    "\n",
    "Submit your solutions through Moodle.  "
   ]
  },
  {
   "cell_type": "markdown",
   "id": "355c294f-6f7b-41b2-add7-4212f2d6b6e6",
   "metadata": {},
   "source": [
    "# Orbital Maneuvers\n",
    "\n",
    "Simulate the following examples from class in STK.\n",
    "\n",
    "Submit screenshots of:\n",
    " 1. 3-D orbit view,\n",
    " 2. Orbit properties page\n",
    " 3. screen showing the total $ \\Delta v $ of the maneuver. \n"
   ]
  },
  {
   "cell_type": "markdown",
   "id": "989ec7fb-4789-4483-bb12-ae3f25fba11f",
   "metadata": {},
   "source": [
    "### 1.  Example from slides_orbital_maneuvers_02\n",
    "#### Bi-Elliptic Transfer and Plane Change\n",
    "\n",
    "Let's say we have a satellite that is inserted into a circular low-Earth orbit with a semi-major axis, $ a = 300km $, and a non-zero inclination, $ i = 28.4^{\\circ} $, and we would like to place our satellite into a geosynchronous equatorial orbit (a geostationary orbit) with an altitude $ h $, what would be the $ \\Delta v $ of the combined maneuver?.\n",
    "\n",
    "Given:  \n",
    "$ R_{\\oplus} = 6378 \\; \\mathrm{km} $   \n",
    "$ \\mu_{\\oplus} = 3.986 \\times 10^{5} \\; \\mathrm{km}^3 / \\mathrm{s}^2 $   \n"
   ]
  },
  {
   "cell_type": "markdown",
   "id": "55b51473-1542-4973-8b42-f8ad52eff4f9",
   "metadata": {},
   "source": [
    "### 2.  Example from slides_orbital_maneuvers_02\n",
    "#### Rendezvous - Phasing Maneuver\n",
    "\n",
    "A spacecraft is trying to dock with the International Space Station (ISS) and let's assume that they are both in the same circular orbit of $ 420 km $.  If the spacecraft is separated from the ISS by a phase angle $ \\phi = \\pi / 4 $, what is the $ \\Delta v $ of the rendezvous maneuver?  \n",
    "\n",
    "Can this transfer be accomplished without impacting the surface of the earth?\n",
    "\n",
    "Given:  \n",
    "$ R_{\\oplus} = 6371 \\; \\mathrm{km} $   \n",
    "$ \\mu_{\\oplus} = 3.986 \\times 10^{5} \\; \\mathrm{km}^3 / \\mathrm{s}^2 $   \n"
   ]
  },
  {
   "cell_type": "code",
   "execution_count": null,
   "id": "9b94fc60-1377-4b49-867e-d0de1d45b537",
   "metadata": {},
   "outputs": [],
   "source": []
  }
 ],
 "metadata": {
  "kernelspec": {
   "display_name": "Python 3 (ipykernel)",
   "language": "python",
   "name": "python3"
  },
  "language_info": {
   "codemirror_mode": {
    "name": "ipython",
    "version": 3
   },
   "file_extension": ".py",
   "mimetype": "text/x-python",
   "name": "python",
   "nbconvert_exporter": "python",
   "pygments_lexer": "ipython3",
   "version": "3.12.8"
  }
 },
 "nbformat": 4,
 "nbformat_minor": 5
}
