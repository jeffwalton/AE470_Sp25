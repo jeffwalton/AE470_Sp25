{
 "cells": [
  {
   "cell_type": "code",
   "execution_count": null,
   "id": "c6af81c4-df5d-412d-84fa-c78413f1fba9",
   "metadata": {},
   "outputs": [],
   "source": [
    "# Configure Jupyter to display the assigned value after an assignment\n",
    "%config InteractiveShell.ast_node_interactivity='last_expr_or_assign'"
   ]
  },
  {
   "cell_type": "markdown",
   "id": "75df53df-2d95-47dc-b3d7-d2520d8ebbf2",
   "metadata": {},
   "source": [
    "# Prerequisite Material\n",
    "\n",
    "Following the notation of <em>Spacecraft Dynamics and Control: An Introduction</em>, First Edition. A.H.J. de Ruiter, C.J. Damaren and J.R. Forbes.  2013 John Wiley & Sons, Ltd.\n",
    "\n",
    "## Vectors\n",
    "A vector is a three-dimensional quantity, denoted $ \\vec{r} $, with <em>magnitude</em> ($|\\vec{r}|$) and <em>direction</em> that satisfies the following rules:"
   ]
  },
  {
   "cell_type": "markdown",
   "id": "1acbbe8a-04f5-407c-aa12-ca9a78c2d522",
   "metadata": {},
   "source": [
    "### Addition\n",
    "\n",
    "\\begin{gather}\n",
    "(\\vec{a} + \\vec{b}) + \\vec{c} = \\vec{a} + (\\vec{b} + \\vec{c}) & \\text{associative}\\\\\n",
    "\\vec{a} + \\vec{b} = \\vec{b} + \\vec{a} & \\text{commutative}\\\\\n",
    "\\vec{a} + \\vec{0} = \\vec{a} & \\text{identity}\\\\\n",
    "\\vec{a} + (-\\vec{a)} = \\vec{0} & \\text{inverse}\n",
    "\\end{gather}"
   ]
  },
  {
   "cell_type": "markdown",
   "id": "4c26b935-580c-463e-bbe3-725cfb7fe4f8",
   "metadata": {},
   "source": [
    "### Scalar Multiplication\n",
    "\n",
    "\\begin{gather}\n",
    "a(b\\vec{c}) = (ab)\\vec{c} \\\\\n",
    "(a+b)\\vec{c} = a\\vec{c} + b\\vec{c} \\\\\n",
    "a(\\vec{b} + \\vec{c}) = a\\vec{b} + a\\vec{c} \\\\\n",
    "1\\vec{a} = \\vec{a} \\\\\n",
    "0\\vec{a} = \\vec{0} \n",
    "\\end{gather}"
   ]
  },
  {
   "cell_type": "markdown",
   "id": "c3784b57-4c8a-43ae-bad2-cde8c59c23f5",
   "metadata": {},
   "source": [
    "### Scalar (Dot) Product\n",
    "\n",
    "Defined as\n",
    "\\begin{equation}\n",
    "\\vec{a} \\cdot \\vec{b} \\triangleq |\\vec{a}| |\\vec{b}| \\cos \\theta\n",
    "\\end{equation}\n",
    "$\\theta$ is the angle between $\\vec{a}$ and $\\vec{b}$.\n",
    "\n",
    "The dot product is the the projection of $ \\vec{a} $ onto $ \\vec{b} $ multiplied by $ |\\vec{b}| $.\n",
    "\n",
    "The dot product is commutative $ \\vec{a} \\cdot \\vec{b} = \\vec{b} \\cdot \\vec{a} $.\n",
    "\n",
    "The dot product is also distributive $ (\\vec{a} + \\vec{b}) \\cdot \\vec{c} = \\vec{a} \\cdot \\vec{c} + \\vec{b} \\cdot \\vec{c} $\n",
    "\n",
    "Additional properties:\n",
    "\\begin{gather}\n",
    "\\vec{a} \\cdot \\vec{a} = |\\vec{a}|^2 \\geq 0 \\\\\n",
    "\\vec{a} \\cdot \\vec{a} = 0 \\Leftrightarrow \\vec{a} = \\vec{0} \\\\\n",
    "\\vec{a} \\cdot (c\\vec{b}) = c\\vec{a} \\cdot \\vec{b} \\\\\n",
    "\\vec{a} \\cdot \\vec{b} = 0 \\Leftrightarrow \\vec{a} \\perp \\vec{b} \\text{ or } \\vec{a} = \\vec{0} \\text{ or } \\vec{b} = \\vec{0}\n",
    "\\end{gather}"
   ]
  },
  {
   "cell_type": "markdown",
   "id": "7cab0217-b37c-4b86-8506-badd5c731fe4",
   "metadata": {},
   "source": [
    "### Vector Cross Product\n",
    "\n",
    "Defined as \n",
    "\\begin{equation}\n",
    "\\vec{c} = \\vec{a} \\times \\vec{b}\n",
    "\\end{equation}\n",
    "where \n",
    "\\begin{equation}\n",
    "|\\vec{c}| = |\\vec{a}| |\\vec{b}| \\sin \\theta\n",
    "\\end{equation}\n",
    "$\\theta$ is the angle between $\\vec{a}$ and $\\vec{b}$. \n",
    "The direction of $\\vec{c}$ is perpendicular to the plane containing $\\vec{a}$ and $\\vec{b}$ according to the right-hand rule.\n",
    "\n",
    "Changing the order reverses the direction of the cross-product\n",
    "\\begin{equation}\n",
    "\\vec{a} \\times \\vec{b} = -\\vec{b} \\times \\vec{a}\n",
    "\\end{equation}\n",
    "\n",
    "Additional properties:\n",
    "\\begin{gather}\n",
    "(\\vec{a} + \\vec{b}) \\times \\vec{c} = \\vec{a} \\times \\vec{c} + \\vec{b} \\times \\vec{c} & \\text{distributive}\\\\\n",
    "\\vec{a} \\times \\vec{a} = \\vec{0} \\\\\n",
    "(a\\vec{b}) \\times \\vec{c} = a(\\vec{b} \\times \\vec{c}) \\\\\n",
    "\\end{gather}\n"
   ]
  },
  {
   "cell_type": "markdown",
   "id": "4dab5fd5-cae6-4595-91f2-e003d40b2f46",
   "metadata": {},
   "source": [
    "## Modeling\n",
    "\n",
    "We will use computer simulation and modeling as the paradigm for learning the material in this course.  We will develop a simulation of orbit trajectories using the [Anaconda distribution](https://www.anaconda.com/) of the [Python programming language](https://www.python.org/).  Our work will be structured like [Allen Downey](https://www.allendowney.com/)'s work in his book [Modeling and Simulation in Python](https://allendowney.github.io/ModSimPy/).  Professor Downey's code and notebooks can be found in his [ModSimPy GitHub repository](https://github.com/AllenDowney/ModSimPy).  Many of the functions used here are from [Allen Downey's ModSimPy library](https://github.com/AllenDowney/ModSimPy/tree/master/modsim).\n",
    "\n",
    "We will start by creating some functions for vector and matrix operations.\n",
    "\n",
    "First, create a vector using the pandas Series data structure.  pandas is the [Python Data Analysis Library](https://pandas.pydata.org/).  We will use many pandas data objects in this course.\n"
   ]
  },
  {
   "cell_type": "code",
   "execution_count": null,
   "id": "2ec2314c-a189-4b0e-a0ed-31db849a79ff",
   "metadata": {},
   "outputs": [],
   "source": [
    "import pandas as pd"
   ]
  },
  {
   "cell_type": "markdown",
   "id": "37fbb1ae-875a-4b63-9379-4a057a307c03",
   "metadata": {},
   "source": [
    "### Vectors\n",
    "\n",
    "Vectors are defined using the [pandas Series](https://pandas.pydata.org/docs/reference/api/pandas.Series.html) data structure."
   ]
  },
  {
   "cell_type": "code",
   "execution_count": null,
   "id": "0cc22817-0a5a-4528-97da-1880178ce990",
   "metadata": {},
   "outputs": [],
   "source": [
    "# Define a Vector using the pandas data structure called Series\n",
    "def Vector(x, y, z=None):\n",
    "    \"\"\"\n",
    "    create a Vector, 2D or 3D\n",
    "    \"\"\"\n",
    "    if z is None:\n",
    "        return pd.Series(dict(x=x, y=y))\n",
    "    else:\n",
    "        return pd.Series(dict(x=x, y=y, z=z))\n"
   ]
  },
  {
   "cell_type": "code",
   "execution_count": null,
   "id": "5e764cd2-d587-4dba-a447-aa75a437824f",
   "metadata": {},
   "outputs": [],
   "source": [
    "a = Vector(1,2,3)"
   ]
  },
  {
   "cell_type": "markdown",
   "id": "046786ee-7e2c-4811-91e1-410f485ceda0",
   "metadata": {},
   "source": [
    "We can access the individual components of the vector using pandas Series dot notation."
   ]
  },
  {
   "cell_type": "code",
   "execution_count": null,
   "id": "e904d7df-823c-42b1-a5c4-7f02bbcde5ae",
   "metadata": {},
   "outputs": [],
   "source": [
    "a.y"
   ]
  },
  {
   "cell_type": "markdown",
   "id": "5433e157-b3a3-44f9-9b87-bfb719e5dee3",
   "metadata": {},
   "source": [
    "[NumPy](https://numpy.org/) is the Python package for operating on multi-dimensional numerical arrays.  It contains many functions that will allow us to work with vectors and matricies."
   ]
  },
  {
   "cell_type": "code",
   "execution_count": null,
   "id": "1e8b0368-30e1-4cb9-b7a7-4b66def46d6b",
   "metadata": {},
   "outputs": [],
   "source": [
    "import numpy as np"
   ]
  },
  {
   "cell_type": "markdown",
   "id": "fba15f56-d8da-4886-ac2f-06720728d4f0",
   "metadata": {},
   "source": [
    "#### Vector Magnitude\n",
    "\n",
    "The vector magnitude function, `vector_mag()`, uses the NumPy [dot](https://numpy.org/doc/stable/reference/generated/numpy.dot.html) and [sqrt](https://numpy.org/doc/stable/reference/generated/numpy.sqrt.html) functions."
   ]
  },
  {
   "cell_type": "code",
   "execution_count": null,
   "id": "5f854895-14b7-4919-9b54-8edc9e5db9c4",
   "metadata": {},
   "outputs": [],
   "source": [
    "# Define a function to compute the magnitude of a vector\n",
    "def vector_mag(v):\n",
    "    \"\"\"\n",
    "    magnitude of a vector\n",
    "    \"\"\"\n",
    "    return np.sqrt(np.dot(v,v))"
   ]
  },
  {
   "cell_type": "code",
   "execution_count": null,
   "id": "64f6e2f7-3774-45ae-abce-5d4cfbee8633",
   "metadata": {},
   "outputs": [],
   "source": [
    "vector_mag(a)"
   ]
  },
  {
   "cell_type": "markdown",
   "id": "d099320e-86ca-4fed-a091-2f892b18abd3",
   "metadata": {},
   "source": [
    "#### Dot Product\n",
    "\n",
    "We define our own `vector_dot()` function that uses the NumPy [dot](https://numpy.org/doc/stable/reference/generated/numpy.dot.html) function."
   ]
  },
  {
   "cell_type": "code",
   "execution_count": null,
   "id": "993b6fa3-b9f2-4736-845e-279a6e3f1160",
   "metadata": {},
   "outputs": [],
   "source": [
    "# Define a function to compute the dot product of two vectors\n",
    "def vector_dot(v, w):\n",
    "    \"\"\"\n",
    "    dot product of v and w\n",
    "    \"\"\"\n",
    "    return np.dot(v, w)"
   ]
  },
  {
   "cell_type": "code",
   "execution_count": null,
   "id": "11b849af-c3a2-4dd2-9749-335f11d442f9",
   "metadata": {},
   "outputs": [],
   "source": [
    "b = Vector(4,5,6)\n",
    "\n",
    "vector_dot(a,b)"
   ]
  },
  {
   "cell_type": "markdown",
   "id": "be943b2a-73da-4256-931b-3fc33d06e414",
   "metadata": {},
   "source": [
    "#### Unit Vector\n",
    "\n",
    "A unit vector of $ \\vec{a} $ is a vector pointing in the same direction as $ \\vec{a} $ with a magnitude of 1. A unit vector is often denoted as $\\hat{a}$. The function `vector_hat()` computes the unit vector."
   ]
  },
  {
   "cell_type": "code",
   "execution_count": null,
   "id": "05a68115-3a0d-4f82-8ea2-290df474a939",
   "metadata": {},
   "outputs": [],
   "source": [
    "# Define a function to compute a unit vector in the direction of v\n",
    "def vector_hat(v):\n",
    "    \"\"\"\n",
    "    unit vector in the direction of v\n",
    "    \"\"\"\n",
    "    # check if the magnitude of the Quantity is 0\n",
    "    mag = vector_mag(v)\n",
    "    if mag == 0:\n",
    "        return v\n",
    "    else:\n",
    "        return v / mag\n"
   ]
  },
  {
   "cell_type": "code",
   "execution_count": null,
   "id": "2d8afc40-ed67-4e09-930f-5c9637a6af4d",
   "metadata": {},
   "outputs": [],
   "source": [
    "a_hat = vector_hat(a)"
   ]
  },
  {
   "cell_type": "markdown",
   "id": "079abfdf-4ab8-4a48-8ad4-5601342789e5",
   "metadata": {},
   "source": [
    "Check the magnitude of $\\vec{a}$, i.e. $|\\vec{a}|$"
   ]
  },
  {
   "cell_type": "code",
   "execution_count": null,
   "id": "f961cfe6-9778-4889-b070-bf5055a38d08",
   "metadata": {},
   "outputs": [],
   "source": [
    "vector_mag(a_hat)"
   ]
  },
  {
   "cell_type": "markdown",
   "id": "e61f166a-8c8a-4d5a-a17c-4aefffd60c88",
   "metadata": {},
   "source": [
    "#### Vector Cross Product\n",
    "\n",
    "The `vector_cross()` funtion puts the result into the Vector data type if it is 3-D.  `vector_cross()` uses the Numpy [cross](https://numpy.org/doc/stable/reference/generated/numpy.cross.html) function."
   ]
  },
  {
   "cell_type": "code",
   "execution_count": null,
   "id": "7853dbeb-5f8c-42d4-936a-5f5e2691896f",
   "metadata": {},
   "outputs": [],
   "source": [
    "# Define a function to compute the cross product of two vectors\n",
    "def vector_cross(v, w):\n",
    "    \"\"\"\n",
    "    cross product of v and w\n",
    "\n",
    "    returns: number or Quantity for 2-D, Vector for 3-D\n",
    "    \"\"\"\n",
    "    result = np.cross(v, w)\n",
    "\n",
    "    if len(v) == 3:\n",
    "        return Vector(*result)\n",
    "    else:\n",
    "        return result\n"
   ]
  },
  {
   "cell_type": "code",
   "execution_count": null,
   "id": "baed98c5-d6db-436b-8192-57ab3bd85930",
   "metadata": {
    "scrolled": true
   },
   "outputs": [],
   "source": [
    "c = vector_cross(a, b)\n"
   ]
  },
  {
   "cell_type": "markdown",
   "id": "7a495851-dc0e-4445-a545-4ad33b282d38",
   "metadata": {},
   "source": [
    "### Matricies\n",
    "\n",
    "Matricies are represented using [NumPy arrays](https://numpy.org/doc/stable/reference/generated/numpy.array.html#numpy.array)."
   ]
  },
  {
   "cell_type": "code",
   "execution_count": null,
   "id": "8f85cb17-019f-41e8-adae-15cce7b507db",
   "metadata": {},
   "outputs": [],
   "source": [
    "A = np.array([[1, 2], [3, 4]])"
   ]
  },
  {
   "cell_type": "code",
   "execution_count": null,
   "id": "783973f2-c4dd-4ea6-b29e-f03cb7405bbd",
   "metadata": {},
   "outputs": [],
   "source": [
    "B = np.array([[4, 1],\n",
    "              [2, 2]])"
   ]
  },
  {
   "cell_type": "markdown",
   "id": "28f0eafe-b84c-4065-aeb6-4be8fbbe70f7",
   "metadata": {},
   "source": [
    "#### Matrix Addition and Subtraction\n",
    "\n",
    "Matrix addtion and subtraction are performed element-wise."
   ]
  },
  {
   "cell_type": "code",
   "execution_count": null,
   "id": "2b6d8719-c8aa-4375-b34c-a999174c22b6",
   "metadata": {},
   "outputs": [],
   "source": [
    "C = A + B"
   ]
  },
  {
   "cell_type": "markdown",
   "id": "c7030add-6a67-4516-be5c-22c175559203",
   "metadata": {},
   "source": [
    "Individual elements can be referenced using Python bracket notation.  Array indexes are zero based."
   ]
  },
  {
   "cell_type": "code",
   "execution_count": null,
   "id": "cf69de98-0cfd-49f1-a31c-aa33f8173505",
   "metadata": {},
   "outputs": [],
   "source": [
    "A[0,0]"
   ]
  },
  {
   "cell_type": "markdown",
   "id": "3be02b7e-3020-4f53-b3f7-3f5b7ae3137a",
   "metadata": {},
   "source": [
    "#### Matrix Multiplication\n",
    "\n",
    "We will use the NumPy function `np.matmul()` or the `@` operator for matrix multiplication.  The inner dimentions of the two matricies must be the same.  The resulting matrix will have the outer dimensions such as (n,k),(k,m)->(n,m)."
   ]
  },
  {
   "cell_type": "code",
   "execution_count": null,
   "id": "de5441c7-6a67-4843-9b4e-2ed15bf03fcb",
   "metadata": {},
   "outputs": [],
   "source": [
    "I = np.array([[1, 0, 0],\n",
    "              [0, 1, 0],\n",
    "              [0, 0, 1]])\n",
    "D = np.array([[1, 2, 3],\n",
    "              [4, 5, 6],\n",
    "              [7, 8, 9]])\n",
    "np.matmul(I, D)"
   ]
  },
  {
   "cell_type": "code",
   "execution_count": null,
   "id": "fa971bb7-05c8-4841-a3d0-84da440e7dcf",
   "metadata": {},
   "outputs": [],
   "source": [
    "E = D @ I"
   ]
  },
  {
   "cell_type": "markdown",
   "id": "3f4944b0-7bdc-42e7-b9b7-0a82f3f81d6a",
   "metadata": {},
   "source": [
    "## Exercises\n"
   ]
  },
  {
   "cell_type": "markdown",
   "id": "81af9dec-57c1-49e1-9a6f-eef8f0b0adff",
   "metadata": {},
   "source": [
    "**Exercise:** Numerically test the funtions we have defined above using the well-known vector identites listed below.\n",
    "\\begin{gather}\n",
    "\\vec{a} \\cdot \\vec{a} = |\\vec{a}|^2 \\\\\n",
    "\\vec{a} \\cdot (\\vec{b} \\times \\vec{c}) = (\\vec{a} \\times \\vec{b}) \\cdot \\vec{c} & \\text{interchange of dot and cross, triple scalar product}\\\\ \n",
    "\\vec{a} \\times (\\vec{b} \\times \\vec{c}) = \\vec{b}(\\vec{a} \\cdot \\vec{c}) - \\vec{c} (\\vec{a} \\cdot \\vec{b}) & \\text{double cross product or bac-cab rule}\\\\\n",
    "\\vec{a} \\times (\\vec{b} \\times \\vec{c}) + \\vec{c} \\times (\\vec{a} \\times \\vec{b}) + \\vec{b} \\times (\\vec{c} \\times \\vec{a}) = \\vec{0} & \\text{Jacobi Identity}\\\\\n",
    "(\\vec{a} \\times \\vec{b}) \\cdot (\\vec{c} \\times \\vec{d}) = (\\vec{a} \\cdot \\vec{c})(\\vec{b} \\cdot \\vec{d}) - (\\vec{a} \\cdot \\vec{d})(\\vec{b} \\cdot \\vec{c}) & \\text{scalar product of two cross products}\\\\\n",
    "\\end{gather}\n",
    "\n",
    "Specifically, does the right-hand side equal the left-hand side?\n",
    "\n"
   ]
  },
  {
   "cell_type": "code",
   "execution_count": null,
   "id": "ec4b029a-c962-40da-90d4-3542b00786ad",
   "metadata": {},
   "outputs": [],
   "source": [
    "# Solution goes here\n",
    "a = Vector(2,3,4)\n",
    "lhs = vector_dot(a,a)\n",
    "rhs = vector_mag(a)**2\n",
    "print(lhs==rhs,lhs,rhs)\n"
   ]
  },
  {
   "cell_type": "code",
   "execution_count": null,
   "id": "bf88d292-e644-4ad9-9f95-a5cf191362b0",
   "metadata": {},
   "outputs": [],
   "source": [
    "# Solution goes here\n"
   ]
  },
  {
   "cell_type": "code",
   "execution_count": null,
   "id": "b7f6eb34-e48b-4f90-af26-74b9140eb26a",
   "metadata": {},
   "outputs": [],
   "source": [
    "# Solution goes here\n"
   ]
  },
  {
   "cell_type": "code",
   "execution_count": null,
   "id": "a4205fb6-a9eb-49d0-b9c6-f75b36d5b564",
   "metadata": {},
   "outputs": [],
   "source": [
    "# Solution goes here"
   ]
  },
  {
   "cell_type": "code",
   "execution_count": null,
   "id": "1255ab70-c6db-4b27-a998-323a647894a2",
   "metadata": {},
   "outputs": [],
   "source": [
    "# Solution goes here"
   ]
  }
 ],
 "metadata": {
  "kernelspec": {
   "display_name": "Python 3 (ipykernel)",
   "language": "python",
   "name": "python3"
  },
  "language_info": {
   "codemirror_mode": {
    "name": "ipython",
    "version": 3
   },
   "file_extension": ".py",
   "mimetype": "text/x-python",
   "name": "python",
   "nbconvert_exporter": "python",
   "pygments_lexer": "ipython3",
   "version": "3.12.8"
  }
 },
 "nbformat": 4,
 "nbformat_minor": 5
}
