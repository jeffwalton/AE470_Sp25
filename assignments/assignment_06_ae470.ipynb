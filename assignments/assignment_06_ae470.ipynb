{
 "cells": [
  {
   "cell_type": "markdown",
   "id": "bc8974c4-f7b4-4801-9e25-fc72125d6f4d",
   "metadata": {},
   "source": [
    "## AE 470 - Assignment 6\n",
    "## Due Tuesday, April 1, 2025 at 11:59 pm  \n",
    "\n",
    "Submit your solutions through Moodle.  "
   ]
  },
  {
   "cell_type": "markdown",
   "id": "355c294f-6f7b-41b2-add7-4212f2d6b6e6",
   "metadata": {},
   "source": [
    "# Interplanetary Transfer\n",
    "\n",
    "Recreate the **Mars Probe** tutorial in STK.\n",
    "\n",
    "Submit screenshots of:\n",
    " 1. Three 3-D orbit views of Sun, Earth, and Mars (all views can be in one screenshot tiled vertically),\n",
    " 2. Orbit properties, MCS (Mission Control Sequence) page showing maneuvers needed for the helicentric orbit phase (part 1 of the tutorial). \n"
   ]
  },
  {
   "cell_type": "markdown",
   "id": "989ec7fb-4789-4483-bb12-ae3f25fba11f",
   "metadata": {},
   "source": [
    "### 1.  Mars Probe Tutorial\n",
    "\n",
    "#### Problem Statement\n",
    "Engineers want to make a comparison between two different methods that analyze an approach to Mars. The analysis will be based on an actual mission that took place in December, 1996; the Mars Pathfinder. The first approach to be analyzed is a transfer arc between the Earth and Mars. The second analysis will analyze the mission mid-flight using a heliocentric interplanetary trajectory.\n",
    "\n",
    "Link to the tutorial:\n",
    "[STK Mars Probe Tutorial](https://help.agi.com/stk/12.5.0/index.htm#training/tx-marsprobe.htm?TocPath=Training%257CLevel%25203%2520-%2520Focused%257CFeature%2520Specific%257C_____37)\n",
    "\n",
    "Through the STK Help menu, navigate to:\n",
    "Training | Level 3 - Focused | Feature Specific | Mars Probe\n",
    "\n",
    "Or just search Mars Probe in STK Help.\n"
   ]
  },
  {
   "cell_type": "code",
   "execution_count": null,
   "id": "9b94fc60-1377-4b49-867e-d0de1d45b537",
   "metadata": {},
   "outputs": [],
   "source": []
  },
  {
   "cell_type": "code",
   "execution_count": null,
   "id": "3684d413-4732-4878-936c-152dd50185a5",
   "metadata": {},
   "outputs": [],
   "source": []
  }
 ],
 "metadata": {
  "kernelspec": {
   "display_name": "Python 3 (ipykernel)",
   "language": "python",
   "name": "python3"
  },
  "language_info": {
   "codemirror_mode": {
    "name": "ipython",
    "version": 3
   },
   "file_extension": ".py",
   "mimetype": "text/x-python",
   "name": "python",
   "nbconvert_exporter": "python",
   "pygments_lexer": "ipython3",
   "version": "3.12.8"
  }
 },
 "nbformat": 4,
 "nbformat_minor": 5
}
