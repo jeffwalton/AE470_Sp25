{
 "cells": [
  {
   "cell_type": "markdown",
   "id": "50aea7eb-817d-4619-b695-da0059bf79c6",
   "metadata": {},
   "source": [
    "# AE 470 - Assignment 1\n",
    "## Due Tuesday, Febuary 11, 2025 at 11:59 pm  \n",
    "\n",
    "In this notebook, using the numerical integration and two-body equations of motion that we have discussed in class, simulate the following scenario.\n",
    "\n",
    "  - Starting in a circular orbit 200km above the surface of the earth\n",
    "  - Simulate one orbit\n",
    "  - At the start of the second orbit, apply an instantaneous change in velocity maneuver that will raise the apogee of the resulting elliptical orbit to 300km above the surface.\n",
    "  - Simulate one revolution of this orbit.\n",
    "  - How can we make this orbit circular at 300km?  Apply this maneuver and simulate for one revolution.\n",
    "\n",
    "Create a plot (or plots) of the orbit segments.\n",
    "\n",
    "Submit this notebook with your work.\n",
    "\n",
    "You can collaborate with each other, but everyone should submit their own notebook.\n"
   ]
  },
  {
   "cell_type": "code",
   "execution_count": null,
   "id": "833c49f2-fb4b-4ebb-a22d-94ce9b2928bf",
   "metadata": {},
   "outputs": [],
   "source": [
    "# Do a \"Save Notebook As...\" with your name in the filename.  For example, \"Collins,Eileen_assignment_01_ae470.ipynb\"\n",
    "\n",
    "# Put your name here\n",
    "\n",
    "# Add your collaborators names here\n"
   ]
  },
  {
   "cell_type": "code",
   "execution_count": null,
   "id": "2285ec5a-ced6-4605-9bc6-7cf0d4155619",
   "metadata": {},
   "outputs": [],
   "source": []
  },
  {
   "cell_type": "code",
   "execution_count": null,
   "id": "a3d26faa-b487-4269-a0f4-8cdb4e489a58",
   "metadata": {},
   "outputs": [],
   "source": []
  },
  {
   "cell_type": "code",
   "execution_count": null,
   "id": "c0355495-256c-4513-abbc-e7348426b21f",
   "metadata": {},
   "outputs": [],
   "source": []
  },
  {
   "cell_type": "code",
   "execution_count": null,
   "id": "a9ed6c87-5338-44cf-9561-edbf6eaa029c",
   "metadata": {},
   "outputs": [],
   "source": []
  },
  {
   "cell_type": "code",
   "execution_count": null,
   "id": "e0eec1ad-d58c-4b32-af68-23758505cb53",
   "metadata": {},
   "outputs": [],
   "source": []
  },
  {
   "cell_type": "markdown",
   "id": "f6c62a1f-455d-482c-a21d-e10438df8d44",
   "metadata": {},
   "source": [
    "![assignment01_1](../images/assignment01_1.png)"
   ]
  },
  {
   "cell_type": "code",
   "execution_count": null,
   "id": "41a0275a-3d9e-46d3-bb8b-ba37e63dcd61",
   "metadata": {},
   "outputs": [],
   "source": []
  }
 ],
 "metadata": {
  "kernelspec": {
   "display_name": "Python 3 (ipykernel)",
   "language": "python",
   "name": "python3"
  },
  "language_info": {
   "codemirror_mode": {
    "name": "ipython",
    "version": 3
   },
   "file_extension": ".py",
   "mimetype": "text/x-python",
   "name": "python",
   "nbconvert_exporter": "python",
   "pygments_lexer": "ipython3",
   "version": "3.12.8"
  }
 },
 "nbformat": 4,
 "nbformat_minor": 5
}
