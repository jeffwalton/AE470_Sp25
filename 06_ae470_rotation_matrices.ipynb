{
 "cells": [
  {
   "cell_type": "markdown",
   "id": "fbf9f9df-c8ec-4555-a75b-661a3a251e0c",
   "metadata": {},
   "source": [
    "# Starting the Environment\n",
    "1. Open an Anaconda Prompt terminal,\n",
    "   - On windows, Search `anaconda prompt`, click to open\n",
    "2. Change directory (`cd`) into class directory on your computer,\n",
    "   - `cd C:\\JW\\Clarkson\\AE470`\n",
    "3. Change directory into the repository on your computer,\n",
    "   - `cd AE470_Sp25`\n",
    "4. Fetch the latest class repository from GitHub,\n",
    "   - **This will overwrite any changes you have made to files in your local repository directory, `AE470_Sp2025`.**\n",
    "   - **Be sure to rename any files where you make changes that you want to keep.**\n",
    "   - `git fetch origin`\n",
    "5. Reset your local branch repository to match the remote branch,\n",
    "   - `git reset --hard origin/main`\n",
    "6. Activate the virtual python environment,\n",
    "   - `conda activate ae470sp25`\n",
    "7. Start a Jupyter notebook session in a browser window.  Type the following into an Anaconda Prompt window,\n",
    "   - `jupyter notebook`\n",
    "8. Using the Jupyter browser, open this notebook: `06_ae470_rotation_matrices.ipynb`.\n"
   ]
  },
  {
   "cell_type": "code",
   "execution_count": null,
   "id": "c5bd37af-1fe7-4d2b-acc9-e95de21d71b0",
   "metadata": {},
   "outputs": [],
   "source": [
    "# Configure Jupyter so figures appear in the notebook\n",
    "# %matplotlib inline\n",
    "\n",
    "# Configure Jupyter to display the assigned value after an assignment\n",
    "%config InteractiveShell.ast_node_interactivity='last_expr_or_assign'"
   ]
  },
  {
   "cell_type": "code",
   "execution_count": null,
   "id": "9f887208-fa7a-450c-8eb6-c8591aff148c",
   "metadata": {},
   "outputs": [],
   "source": [
    "# import modsim and install if necessary\n",
    "try:\n",
    "    from modsim import *\n",
    "except ImportError:\n",
    "    print(\"Download modsim from the course repository at https://github.com/jeffwalton/AE470\")"
   ]
  },
  {
   "cell_type": "markdown",
   "id": "4bc52278-fc06-4ae9-b720-2a4fd8ccdb42",
   "metadata": {},
   "source": [
    "# Rotation Matrices\n"
   ]
  },
  {
   "cell_type": "markdown",
   "id": "50e75236-80f5-457f-b8e7-80f9f694cb04",
   "metadata": {},
   "source": [
    "## Exercises"
   ]
  },
  {
   "cell_type": "markdown",
   "id": "7e2ebcfb-fb57-4334-bb30-d7937f8fcab6",
   "metadata": {},
   "source": [
    "### 1.  Curtis, Example 4.7, page 211\n",
    "$ \\Omega = 40^{\\circ} $, $ i = 30^{\\circ} $, $ \\omega = 60^{\\circ} $\n",
    "\n",
    "Calculate the 3-1-3 rotation matrix with the angles $ \\Omega, i, \\omega $.\n",
    "\n",
    "Check that the matrix is orthogonal.\n",
    "\n",
    "Apply the rotation matrix to the geocentric equatorial position vector, $ \\vec{\\mathbf{r}} = -4039.89 \\hat{\\mathbf{i}} + 4814.56 \\hat{\\mathbf{j}} + 3628.62 \\hat{\\mathbf{k}} $ km.\n",
    "\n",
    "Answer: perifocal position vector, $ \\vec{\\mathbf{r}} = 6285.0 \\hat{\\mathbf{p}} + 3628.6 \\hat{\\mathbf{q}} + 0 \\hat{\\mathbf{w}} $ km.\n",
    "\n",
    "Apply the inverse transform to return the original geocentric equatorial position vector.\n",
    "\n",
    "\n"
   ]
  },
  {
   "cell_type": "code",
   "execution_count": null,
   "id": "d385cf5f-2593-491e-84b9-2560561f549a",
   "metadata": {},
   "outputs": [],
   "source": [
    "import numpy as np"
   ]
  },
  {
   "cell_type": "code",
   "execution_count": null,
   "id": "c960b53e-1e52-434f-b157-ba41754cbffd",
   "metadata": {},
   "outputs": [],
   "source": []
  },
  {
   "cell_type": "code",
   "execution_count": null,
   "id": "ce09a7a2-797f-4ce3-af8f-f9ac4d8fe86a",
   "metadata": {},
   "outputs": [],
   "source": [
    "Om = np.deg2rad(40.0)\n",
    "inc = np.deg2rad(30.0)\n",
    "w = np.deg2rad(60.0)\n"
   ]
  },
  {
   "cell_type": "code",
   "execution_count": null,
   "id": "44d3071f-d1f6-4e64-8ff4-7146c51e059f",
   "metadata": {},
   "outputs": [],
   "source": [
    "def C1(theta):\n",
    "    c = np.cos(theta)\n",
    "    s = np.sin(theta)\n",
    "    return np.matrix([[ 1, 0, 0],\n",
    "                      [0, c, s],\n",
    "                      [0, -s, c]])\n",
    "\n",
    "def C2(theta):\n",
    "    c = np.cos(theta)\n",
    "    s = np.sin(theta)\n",
    "    return np.matrix([[ c, 0, -s],\n",
    "                      [0, 1, 0],\n",
    "                      [s, 0, c]])\n",
    "\n",
    "def C3(theta):\n",
    "    c = np.cos(theta)\n",
    "    s = np.sin(theta)\n",
    "    return np.matrix([[ c, s, 0],\n",
    "                      [-s, c, 0],\n",
    "                      [0, 0, 1]])"
   ]
  },
  {
   "cell_type": "code",
   "execution_count": null,
   "id": "ff76f938-4272-4908-9b81-5e7dc44359d9",
   "metadata": {},
   "outputs": [],
   "source": [
    "# principal rotations matrices\n",
    "C3(w), C1(inc), C3(Om)"
   ]
  },
  {
   "cell_type": "code",
   "execution_count": null,
   "id": "18d10210-8e16-4e13-846d-e7d00f1fb339",
   "metadata": {},
   "outputs": [],
   "source": [
    " # 3-1-3 (RAAN, inclination, arg perigee) rotation matrix\n",
    "rot_mat_geoinertial_to_perifocal = C3(w) @ C1(inc) @ C3(Om)"
   ]
  },
  {
   "cell_type": "code",
   "execution_count": null,
   "id": "242f86f9-4399-4989-8100-f742a13e013c",
   "metadata": {},
   "outputs": [],
   "source": [
    "# check orthogonal\n",
    "rot_mat_geoinertial_to_perifocal @ rot_mat_geoinertial_to_perifocal.transpose()"
   ]
  },
  {
   "cell_type": "code",
   "execution_count": null,
   "id": "2bf320cd-7f1b-4d4d-a6f9-fe0215d657a4",
   "metadata": {},
   "outputs": [],
   "source": [
    "r_vec = Vector(-4039.89, 4814.56, 3628.62)"
   ]
  },
  {
   "cell_type": "code",
   "execution_count": null,
   "id": "aac3a663-cbd1-4368-b765-6ad67c491906",
   "metadata": {},
   "outputs": [],
   "source": [
    "perifocal_vec = rot_mat_geoinertial_to_perifocal @ r_vec"
   ]
  },
  {
   "cell_type": "markdown",
   "id": "5cdd63f4-99be-4406-8919-4d539e9301f6",
   "metadata": {},
   "source": [
    "### 2. Curtis, Problem 4.18\n",
    "$ \\Omega = 75^{\\circ} $, $ i = 50^{\\circ} $, $ \\omega = 80^{\\circ} $\n",
    "\n",
    "Calculate the 3-1-3 rotation matrix with the angles $ \\Omega, i, \\omega $.\n",
    "\n",
    "Apply the rotation matrix to a perifocal position vector, $ \\vec{\\mathbf{r}} = 6578 \\hat{\\mathbf{p}} + 0 \\hat{\\mathbf{q}} + 0 \\hat{\\mathbf{w}} $ km.\n",
    "\n",
    "Answer: geocentric equatorial $ \\vec{\\mathbf{r}} = -3726 \\hat{\\mathbf{i}} + 2181 \\hat{\\mathbf{j}} + 4962 \\hat{\\mathbf{k}} $ km"
   ]
  },
  {
   "cell_type": "code",
   "execution_count": null,
   "id": "48a87fd8-9250-45ed-becb-c33db4f8e0cc",
   "metadata": {},
   "outputs": [],
   "source": [
    "Om = np.deg2rad(75.0)\n",
    "inc = np.deg2rad(50.0)\n",
    "w = np.deg2rad(80.0)\n"
   ]
  },
  {
   "cell_type": "code",
   "execution_count": null,
   "id": "01dcefdd-186a-452e-a81f-503240a12b44",
   "metadata": {},
   "outputs": [],
   "source": [
    "rot_mat_geoinertial_to_perifocal = C3(w) @ C1(inc) @ C3(Om)"
   ]
  },
  {
   "cell_type": "code",
   "execution_count": null,
   "id": "b22fd556-b032-4ea0-b8af-5d3f4afe688f",
   "metadata": {},
   "outputs": [],
   "source": [
    "rot_mat_perifocal_to_geoinertial = rot_mat_geoinertial_to_perifocal.transpose()"
   ]
  },
  {
   "cell_type": "code",
   "execution_count": null,
   "id": "eb2c8f30-b385-498e-aed7-507ab30e94ee",
   "metadata": {},
   "outputs": [],
   "source": [
    "r_vec = Vector(6578, 0, 0)"
   ]
  },
  {
   "cell_type": "code",
   "execution_count": null,
   "id": "a4a36d09-41ca-403a-bc34-a3e3ca96a833",
   "metadata": {},
   "outputs": [],
   "source": [
    "eci_vec = rot_mat_perifocal_to_geoinertial @ r_vec"
   ]
  },
  {
   "cell_type": "code",
   "execution_count": null,
   "id": "f7f23034-e979-4cf9-93d2-f29948eafe08",
   "metadata": {},
   "outputs": [],
   "source": []
  }
 ],
 "metadata": {
  "kernelspec": {
   "display_name": "Python 3 (ipykernel)",
   "language": "python",
   "name": "python3"
  },
  "language_info": {
   "codemirror_mode": {
    "name": "ipython",
    "version": 3
   },
   "file_extension": ".py",
   "mimetype": "text/x-python",
   "name": "python",
   "nbconvert_exporter": "python",
   "pygments_lexer": "ipython3",
   "version": "3.12.8"
  }
 },
 "nbformat": 4,
 "nbformat_minor": 5
}
