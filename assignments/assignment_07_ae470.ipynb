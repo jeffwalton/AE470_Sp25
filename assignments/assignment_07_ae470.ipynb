{
 "cells": [
  {
   "cell_type": "markdown",
   "id": "bc8974c4-f7b4-4801-9e25-fc72125d6f4d",
   "metadata": {},
   "source": [
    "## AE 470 - Assignment 7\n",
    "## Due Tuesday, April 8, 2025 at 11:59 pm  \n",
    "\n",
    "Submit your solutions through Moodle.  "
   ]
  },
  {
   "cell_type": "markdown",
   "id": "355c294f-6f7b-41b2-add7-4212f2d6b6e6",
   "metadata": {},
   "source": [
    "## J2 Orbit Perturbation\n",
    "\n",
    "Recreate the **Compute Coverage Over Regions** tutorial in STK using LandSat 9.\n",
    "\n",
    "Submit screenshots of:\n",
    " 1. 3-D orbit view,\n",
    " 2. 2-D ground track view,\n",
    " 3. Orbit properties page showing satellite orbit paremeters,\n",
    " 4. The percent global coverage of the LandSat 9 earth imaging satellite.\n"
   ]
  },
  {
   "cell_type": "markdown",
   "id": "989ec7fb-4789-4483-bb12-ae3f25fba11f",
   "metadata": {},
   "source": [
    "## 1.  J2 Orbit Perbation / Sun-synchronous Orbit\n",
    "\n",
    "### Problem Statement\n",
    "Following the general steps of the **Compute Coverage Over Regions** Level 2 - Advanced Training Tutorial, determine the percent global coverage of the LandSat 9 earth imaging satellite.\n",
    "\n",
    "Link to the tutorial:\n",
    "[STK Compute Coverage Over Regions Tutorial](https://help.agi.com/stk/12.5.0/index.htm#training/StartCoverage.htm?TocPath=Training%257CLevel%25202%2520-%2520Advanced%2520Training%257C_____3)\n",
    "\n",
    "Through the STK Help menu, navigate to:\n",
    "Training | Level 2 - Advanced Training | Computer Coverage Over Regions\n",
    "\n",
    "### LandSat 9 Satellite\n",
    "1. The scenario start time can be the current time.  The stop time should be 16 days in the future.\n",
    "2. Select the LandSat 9 satellite from the Standard Object Database.  LandSat 9, Catalog Number 49260\n",
    "3. Add a Sensor to the satellite, from Insert Default\n",
    "4. Rename the Sensor to TM or Thematic Mapper.\n",
    "5. Set the sensor Definition to Type: Rectangular and the Half Angles to 7.5 degrees.\n",
    "6. Add a sunlight constraint and compute the total percent as is done in the tutorial.\n",
    "\n",
    "Follow the tutorial to compute global coverage.\n"
   ]
  },
  {
   "cell_type": "code",
   "execution_count": null,
   "id": "9b94fc60-1377-4b49-867e-d0de1d45b537",
   "metadata": {},
   "outputs": [],
   "source": []
  },
  {
   "cell_type": "code",
   "execution_count": null,
   "id": "3684d413-4732-4878-936c-152dd50185a5",
   "metadata": {},
   "outputs": [],
   "source": []
  }
 ],
 "metadata": {
  "kernelspec": {
   "display_name": "Python 3 (ipykernel)",
   "language": "python",
   "name": "python3"
  },
  "language_info": {
   "codemirror_mode": {
    "name": "ipython",
    "version": 3
   },
   "file_extension": ".py",
   "mimetype": "text/x-python",
   "name": "python",
   "nbconvert_exporter": "python",
   "pygments_lexer": "ipython3",
   "version": "3.12.8"
  }
 },
 "nbformat": 4,
 "nbformat_minor": 5
}
