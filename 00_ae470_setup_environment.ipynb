{
 "cells": [
  {
   "cell_type": "markdown",
   "id": "559b1989-2713-46ba-af5a-425a8ce68af2",
   "metadata": {},
   "source": [
    "# Setting Up the Environment\n",
    "\n",
    "## Create a working directory on your computer\n",
    "1. From a terminal,\n",
    "   - `cd <place_where_my_class_files_are_stored>`\n",
    "   - `mkdir AE470`\n",
    "2. Or, using File Explorer, navigate to `<place_where_my_class_files_are_stored>` and create course folder `AE470`\n",
    "3. Navigate into the class working directory,\n",
    "   - `cd AE470`\n",
    "\n",
    "## Install git\n",
    "We will be using `git` to download the Jupyter notebooks from the course GitHub repository.\n",
    "1. Download and install the latest version of git from\n",
    "   - [https://git-scm.com/downloads](https://git-scm.com/downloads)\n",
    "\n",
    "## Install Anaconda Python (or use Clarkson's anaconda3 in appsAnyWhere)\n",
    "1. Download Anaconda installer from [www.anaconda.com/download](https://www.anaconda.com/download)\n",
    "\n",
    "## Create a virtual Python environment for this course\n",
    "1. Inside an Anaconda Prompt window, navigate into the class working directory,\n",
    "   - `cd <place_where_my_class_files_are_stored>\\AE470`\n",
    "2. Create a virtual environment by typing,\n",
    "   - `conda create -n ae470sp25 python=3.12 numpy pandas scipy jupyter matplotlib sympy seaborn`\n",
    "3. List all virtual Python environments,\n",
    "   - `conda env list`\n",
    "4. Activate the class virtual environment,\n",
    "   - `conda activate ae470sp25`\n",
    "\n",
    "## Download the course repository from github\n",
    "1. Inside a terminal, navigate into the class working directory,\n",
    "   - `cd <place_where_my_class_files_are_stored>\\AE470`\n",
    "2. Clone the course git repository to your computer,\n",
    "   - `git clone https://github.com/JeffWalton/AE470_Sp25.git`\n",
    "\n",
    "## Start Jupyter Notebook session\n",
    "1. Open a Jupyter notebook session in a browser window.  Type the following into an Anaconda Prompt window,\n",
    "   - `jupyter notebook`\n",
    "2. Using the Jupyter browser, open this notebook, `00_ae470_setup_environment.ipynb`.\n",
    "3. Read through the notebook and execute cells.\n"
   ]
  },
  {
   "cell_type": "markdown",
   "id": "3e1ed442-7ddb-4a72-9853-c011d80cae21",
   "metadata": {},
   "source": [
    "## Explore Jupyter Notebooks\n",
    "The following is directly from Allen Downey's [Modeling and Simulation in Python](https://allendowney.github.io/ModSimPy/)"
   ]
  },
  {
   "cell_type": "markdown",
   "id": "8cc4c04b-883a-4228-93da-3be6de02e401",
   "metadata": {},
   "source": [
    "Copyright 2020 Allen Downey\n",
    "\n",
    "License: [Creative Commons Attribution 4.0 International](https://creativecommons.org//licenses//by//4.0)\n",
    "\n",
    "### Jupyter\n",
    "\n",
    "Welcome to *Modeling and Simulation*, welcome to Python, and welcome to Jupyter.\n",
    "\n",
    "This is a Jupyter notebook, which is a development environment where you can write and run Python code.  Each notebook is divided into cells.  Each cell contains either text (like this cell) or Python code.\n",
    "\n",
    "#### Selecting and running cells\n",
    "\n",
    "To select a cell, click in the left margin next to the cell.  You should see a blue frame surrounding the selected cell.\n",
    "\n",
    "To edit a code cell, click inside the cell.  You should see a blue frame around the selected cell, and you should see a cursor inside the cell.\n",
    "\n",
    "To edit a text cell, double-click inside the cell.  Again, you should see a blue frame around the selected cell, and you should see a cursor inside the cell.\n",
    "\n",
    "To run a cell, hold down SHIFT and press ENTER.  \n",
    "\n",
    "* If you run a text cell, Jupyter formats the text and displays the result.\n",
    "\n",
    "* If you run a code cell, Jupyter runs the Python code in the cell and displays the result, if any.\n",
    "\n",
    "To try it out, edit this cell, change some of the text, and then press SHIFT-ENTER to format it.\n",
    "\n",
    "#### Adding and removing cells\n",
    "\n",
    "You can add and remove cells from a notebook using the buttons in the toolbar and the items in the menu, both of which you should see at the top of this notebook.\n",
    "\n",
    "Try the following exercises:\n",
    "\n",
    "1.  From the Insert menu select \"Insert cell below\" to add a cell below this one.  By default, you get a code cell, as you can see in the pulldown menu that says \"Code\".\n",
    "\n",
    "2.  In the new cell, add a print statement like `print('Hello')`, and run it.\n",
    "\n",
    "3.  Add another cell, select the new cell, and then click on the pulldown menu that says \"Code\" and select \"Markdown\".  This makes the new cell a text cell.\n",
    "\n",
    "4.  In the new cell, type some text, and then run it.\n",
    "\n",
    "5.  Use the arrow buttons in the toolbar to move cells up and down.\n",
    "\n",
    "6.  Use the cut, copy, and paste buttons to delete, add, and move cells.\n",
    "\n",
    "7.  As you make changes, Jupyter saves your notebook automatically, but if you want to make sure, you can press the save button, which looks like a floppy disk from the 1990s.\n",
    "\n",
    "8.  Finally, when you are done with a notebook, select \"Close and Shut Down\" from the File menu."
   ]
  },
  {
   "cell_type": "markdown",
   "id": "e6174e86-db16-4c4e-99df-22b77e7b44db",
   "metadata": {},
   "source": [
    "#### Using the notebooks\n",
    "\n",
    "The notebooks contain the code along with additional examples, explanatory text, and exercises.  \n",
    "\n",
    "#### Installing modules\n",
    "\n",
    "These notebooks use standard Python modules like NumPy and SciPy.  I assume you already have them installed in your environment.\n",
    "\n",
    "modsim, is a module from Allen Downey's book. We will be using the module for this course.\n",
    "\n",
    "The following code cells check whether you have these modules already and tries to install them if you don't."
   ]
  },
  {
   "cell_type": "code",
   "execution_count": null,
   "id": "8ac08057-df45-4e3a-b2e9-09330c8298a8",
   "metadata": {},
   "outputs": [],
   "source": [
    "try:\n",
    "    import pint\n",
    "except ImportError:\n",
    "    !pip install pint\n",
    "    import pint"
   ]
  },
  {
   "cell_type": "code",
   "execution_count": null,
   "id": "bef5864e-ef34-418e-977d-704d3ac29ac1",
   "metadata": {},
   "outputs": [],
   "source": [
    "try:\n",
    "    from modsim import *\n",
    "except ImportError:\n",
    "    print(\"Download modsim from the course repository at https://github.com/jeffwalton/AE470_Sp25\")"
   ]
  },
  {
   "cell_type": "markdown",
   "id": "12c853eb-e2e5-44c0-b8f2-15307a17841a",
   "metadata": {},
   "source": [
    "You can find out what version of Python, Jupyter, and NumPy you have by running the following cells."
   ]
  },
  {
   "cell_type": "code",
   "execution_count": null,
   "id": "562da349-1ba1-40f8-a8ee-4c91d799c0fe",
   "metadata": {},
   "outputs": [],
   "source": [
    "!python --version"
   ]
  },
  {
   "cell_type": "code",
   "execution_count": null,
   "id": "d42f373b-8552-4885-a499-4c9e46a42485",
   "metadata": {
    "scrolled": true
   },
   "outputs": [],
   "source": [
    "!jupyter-notebook --version"
   ]
  },
  {
   "cell_type": "code",
   "execution_count": null,
   "id": "132a58ef-ce0c-41ee-b925-7d0682d542cf",
   "metadata": {},
   "outputs": [],
   "source": [
    "print(f\"numpy version: {np.__version__}\")"
   ]
  },
  {
   "cell_type": "markdown",
   "id": "922effc6-b012-4cf2-8bdd-f1f170625d90",
   "metadata": {},
   "source": [
    "#### Configuring Jupyter\n",
    "\n",
    "The following cell:\n",
    "\n",
    "1.  Uses a Jupyter \"magic command\" to specify whether figures should appear in the notebook, or pop up in a new window.\n",
    "\n",
    "2.  Configures Jupyter to display some values that would otherwise be invisible.  \n",
    "\n",
    "Select the following cell and press SHIFT-ENTER to run it."
   ]
  },
  {
   "cell_type": "code",
   "execution_count": null,
   "id": "907c4237-b0ba-47cb-903d-518d7b0dd92c",
   "metadata": {},
   "outputs": [],
   "source": [
    "# Configure Jupyter so figures appear in the notebook\n",
    "%matplotlib inline\n",
    "\n",
    "# Configure Jupyter to display the assigned value after an assignment\n",
    "%config InteractiveShell.ast_node_interactivity='last_expr_or_assign'"
   ]
  },
  {
   "cell_type": "markdown",
   "id": "c2d044ac-9e5a-4e96-a084-f924c210590d",
   "metadata": {},
   "source": [
    "### Basic Computations"
   ]
  },
  {
   "cell_type": "code",
   "execution_count": null,
   "id": "c9373ffa-f8cf-497f-8494-ff6eb7748214",
   "metadata": {},
   "outputs": [],
   "source": [
    "t = 10"
   ]
  },
  {
   "cell_type": "code",
   "execution_count": null,
   "id": "7b97512f-ed18-481a-b294-8611cbeec673",
   "metadata": {},
   "outputs": [],
   "source": [
    "a = 9.81"
   ]
  },
  {
   "cell_type": "code",
   "execution_count": null,
   "id": "5f4409b4-96b8-4211-b458-8b1c9d7a809c",
   "metadata": {},
   "outputs": [],
   "source": [
    "v = a * t"
   ]
  },
  {
   "cell_type": "markdown",
   "id": "2e697760-8a4c-408e-9479-67a6ced4d29d",
   "metadata": {},
   "source": [
    "#### Python Error Messages\n",
    "\n",
    "Let's generate an error to see what happens by multiplying a number with a string variable.\n"
   ]
  },
  {
   "cell_type": "code",
   "execution_count": null,
   "id": "cce9c238-3715-4a45-a7e2-923fe7b45e13",
   "metadata": {},
   "outputs": [],
   "source": [
    "v = a * 'test'"
   ]
  },
  {
   "cell_type": "markdown",
   "id": "738af369-85e2-4e91-9a5e-912086637d49",
   "metadata": {},
   "source": [
    "The error messages you get from Python are (sometimes) big and scary, but if you read them carefully, they contain a lot of useful information.\n",
    "\n",
    "1.  Start from the bottom and read up.\n",
    "2.  The last line usually tells you what type of error happened, and sometimes additional information.\n",
    "3.  The previous lines are a \"traceback\" of what was happening when the error occurred.  The first section of the traceback shows the code you wrote.  The following sections are often from intermediate Python libraries.\n",
    "\n",
    "In this example, you should get a `TypeError`, which indicates that you have violated a rules of multiplication: you cannot multiply quantities with different types.\n",
    "\n",
    "Before you go on, you might want to delete the erroneous code so the notebook can run without errors."
   ]
  },
  {
   "cell_type": "markdown",
   "id": "a5ed78e4-fd68-437f-b6f3-9b6cbf6435d4",
   "metadata": {},
   "source": [
    "#### Restart and run all\n",
    "\n",
    "When you change the contents of a cell, you have to run it again for those changes to have an effect.  If you forget to do that, the results can be confusing, because the code you are looking at is not the code you ran.\n",
    "\n",
    "If you ever lose track of which cells have run, and in what order, you should go to the Kernel menu and select \"Restart & Run All\".  Restarting the kernel means that all of your variables get deleted, and running all the cells means all of your code will run again, in the right order.\n",
    "\n",
    "**Exercise:**  Select \"Restart & Run All\" now and confirm that it does what you want."
   ]
  },
  {
   "cell_type": "markdown",
   "id": "82d0d842-4e0e-409a-bf59-fbb2e57d2e53",
   "metadata": {},
   "source": [
    "This is a *text* cell."
   ]
  },
  {
   "cell_type": "code",
   "execution_count": null,
   "id": "13903230-0c9d-4a25-945e-246e9674e221",
   "metadata": {},
   "outputs": [],
   "source": [
    "a = 37\n",
    "b=2\n",
    "a*b\n"
   ]
  },
  {
   "cell_type": "code",
   "execution_count": null,
   "id": "c81b35c1-2ad3-4e08-90d6-7adb0023531a",
   "metadata": {},
   "outputs": [],
   "source": []
  },
  {
   "cell_type": "code",
   "execution_count": null,
   "id": "3e77c17c-7afb-43a7-948a-57c16f83fc7d",
   "metadata": {},
   "outputs": [],
   "source": []
  }
 ],
 "metadata": {
  "kernelspec": {
   "display_name": "Python 3 (ipykernel)",
   "language": "python",
   "name": "python3"
  },
  "language_info": {
   "codemirror_mode": {
    "name": "ipython",
    "version": 3
   },
   "file_extension": ".py",
   "mimetype": "text/x-python",
   "name": "python",
   "nbconvert_exporter": "python",
   "pygments_lexer": "ipython3",
   "version": "3.12.8"
  }
 },
 "nbformat": 4,
 "nbformat_minor": 5
}
