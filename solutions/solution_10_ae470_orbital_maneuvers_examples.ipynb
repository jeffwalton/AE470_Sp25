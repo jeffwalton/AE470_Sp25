{
 "cells": [
  {
   "cell_type": "markdown",
   "id": "bc8974c4-f7b4-4801-9e25-fc72125d6f4d",
   "metadata": {},
   "source": [
    "# Starting the Environment\n",
    "1. Open an Anaconda Prompt terminal,\n",
    "   - On windows, Search `anaconda prompt`, click to open\n",
    "2. Change directory (`cd`) into class directory on your computer,\n",
    "   - `cd C:\\JW\\Clarkson\\AE470`\n",
    "3. Change directory into the repository on your computer,\n",
    "   - `cd AE470_Sp25`\n",
    "4. Fetch the latest class repository from GitHub,\n",
    "   - **This will overwrite any changes you have made to files in your local repository directory, `AE470_Sp2025`.**\n",
    "   - **Be sure to rename any files where you make changes that you want to keep.**\n",
    "   - `git fetch origin`\n",
    "5. Reset your local branch repository to match the remote branch,\n",
    "   - `git reset --hard origin/main`\n",
    "6. Activate the virtual python environment,\n",
    "   - `conda activate ae470sp25`\n",
    "7. Start a Jupyter notebook session in a browser window.  Type the following into an Anaconda Prompt window,\n",
    "   - `jupyter notebook`\n",
    "8. Using the Jupyter browser, open this notebook: `10_ae470_orbital_maneuvers_examples`.\n"
   ]
  },
  {
   "cell_type": "code",
   "execution_count": 1,
   "id": "8ff17752-3c84-4869-b53f-7f7aca784fb9",
   "metadata": {},
   "outputs": [],
   "source": [
    "# Configure Jupyter so figures appear in the notebook\n",
    "# %matplotlib inline\n",
    "\n",
    "# Configure Jupyter to display the assigned value after an assignment\n",
    "%config InteractiveShell.ast_node_interactivity='last_expr_or_assign'"
   ]
  },
  {
   "cell_type": "code",
   "execution_count": 2,
   "id": "77c52c41-e93c-420e-b917-23edf8ae856c",
   "metadata": {},
   "outputs": [],
   "source": [
    "# import modsim and install if necessary\n",
    "try:\n",
    "    from modsim import *\n",
    "except ImportError:\n",
    "    print(\"Download modsim from the course repository at https://github.com/jeffwalton/AE470\")"
   ]
  },
  {
   "cell_type": "markdown",
   "id": "355c294f-6f7b-41b2-add7-4212f2d6b6e6",
   "metadata": {},
   "source": [
    "# Orbital Maneuvers\n"
   ]
  },
  {
   "cell_type": "markdown",
   "id": "989ec7fb-4789-4483-bb12-ae3f25fba11f",
   "metadata": {},
   "source": [
    "### 1.  Example from slides_orbital_maneuvers_02\n",
    "#### Bi-Elliptic Transfer and Plane Change\n",
    "\n",
    "Let's say we have a satellite that is inserted into a circular low-Earth orbit with a semi-major axis, $ a = 300km $, and a non-zero inclination, $ i = 28.4^{\\circ} $, and we would like to place our satellite into a geosynchronous equatorial orbit (a geostationary orbit) with an altitude $ h_{geo} $, what would be the $ \\Delta v $ of the combined maneuver?.\n",
    "\n",
    "Given:  \n",
    "$ R_{\\oplus} = 6378 \\; \\mathrm{km} $   \n",
    "$ \\mu_{\\oplus} = 3.986 \\times 10^{5} \\; \\mathrm{km}^3 / \\mathrm{s}^2 $   \n"
   ]
  },
  {
   "cell_type": "code",
   "execution_count": 3,
   "id": "2394d15f-8c97-4a56-8216-7c90c2e67007",
   "metadata": {},
   "outputs": [],
   "source": [
    "import numpy as np"
   ]
  },
  {
   "cell_type": "code",
   "execution_count": 4,
   "id": "88be3e4c-81b0-4329-ac9e-205fd563e234",
   "metadata": {},
   "outputs": [
    {
     "data": {
      "text/plain": [
       "398600.0"
      ]
     },
     "execution_count": 4,
     "metadata": {},
     "output_type": "execute_result"
    }
   ],
   "source": [
    "R_earth = 6378 # km\n",
    "mu_earth = 3.986e5 #km^3/s^2"
   ]
  },
  {
   "cell_type": "code",
   "execution_count": 5,
   "id": "a1fbcfff-076a-4777-86f0-b492e5dba4eb",
   "metadata": {},
   "outputs": [
    {
     "data": {
      "text/plain": [
       "0.49567350756638956"
      ]
     },
     "execution_count": 5,
     "metadata": {},
     "output_type": "execute_result"
    }
   ],
   "source": [
    "a_1 = 300 # km\n",
    "inc = np.deg2rad(28.4)"
   ]
  },
  {
   "cell_type": "code",
   "execution_count": 6,
   "id": "e8d363c1-2f21-4b50-a1f5-3843d9f483cc",
   "metadata": {},
   "outputs": [
    {
     "name": "stdout",
     "output_type": "stream",
     "text": [
      "T_geo = 86164.00 km \n",
      "r_geo = 42164.12 km \n",
      "h_geo = 35786.12 km \n",
      "v_geo = 3.075 km/s\n"
     ]
    }
   ],
   "source": [
    "T_geo = 23*60*60+56*60+4 # [Seconds]\n",
    "r_geo = ((T_geo*np.sqrt(mu_earth))/(2*np.pi))**(2/3) # [km] r is magnitude of positon vector (Total height)\n",
    "h_geo = r_geo-R_earth # Altitude Above Earth [km]\n",
    "v_geo = (2*np.pi*r_geo)/T_geo # [km/s]\n",
    "print(f'T_geo = {T_geo:.2f} km \\nr_geo = {r_geo:.2f} km \\nh_geo = {h_geo:.2f} km \\nv_geo = {v_geo:.3f} km/s')\n"
   ]
  },
  {
   "cell_type": "code",
   "execution_count": 7,
   "id": "a94a18de-f6da-48fd-bd0c-38924021d7de",
   "metadata": {},
   "outputs": [
    {
     "data": {
      "text/plain": [
       "42164.12452218172"
      ]
     },
     "execution_count": 7,
     "metadata": {},
     "output_type": "execute_result"
    }
   ],
   "source": [
    "r1 = a_1\n",
    "r2 = r_geo"
   ]
  },
  {
   "cell_type": "code",
   "execution_count": 8,
   "id": "142ee604-9ed7-4ad7-8c4f-1476f4fde2e7",
   "metadata": {},
   "outputs": [
    {
     "data": {
      "text/plain": [
       "21232.06226109086"
      ]
     },
     "execution_count": 8,
     "metadata": {},
     "output_type": "execute_result"
    }
   ],
   "source": [
    "at = (r1 +r2)/2.0"
   ]
  },
  {
   "cell_type": "code",
   "execution_count": 9,
   "id": "520dfe64-d7c5-4e43-8e00-b166c43423ff",
   "metadata": {},
   "outputs": [
    {
     "data": {
      "text/plain": [
       "14.916033664814364"
      ]
     },
     "execution_count": 9,
     "metadata": {},
     "output_type": "execute_result"
    }
   ],
   "source": [
    "delta_v_p = np.sqrt(mu_earth*((2/r1)-(1/at))) - np.sqrt(mu_earth/r1)"
   ]
  },
  {
   "cell_type": "code",
   "execution_count": 11,
   "id": "f216a8a3-eb62-4a19-a604-4317a8053e44",
   "metadata": {},
   "outputs": [
    {
     "name": "stdout",
     "output_type": "stream",
     "text": [
      "delta_v_p=14.9\n"
     ]
    }
   ],
   "source": [
    "print(f\"{delta_v_p=:.3} km/s\")"
   ]
  },
  {
   "cell_type": "code",
   "execution_count": null,
   "id": "6bdbc43a-b549-43ce-bcd4-74e3d3be7054",
   "metadata": {},
   "outputs": [],
   "source": []
  },
  {
   "cell_type": "code",
   "execution_count": null,
   "id": "ae800686-1955-4389-a7d7-84f93081f0c2",
   "metadata": {},
   "outputs": [],
   "source": []
  },
  {
   "cell_type": "code",
   "execution_count": null,
   "id": "1a1922cf-8f9d-4737-b993-c14a080eecc0",
   "metadata": {},
   "outputs": [],
   "source": []
  },
  {
   "cell_type": "code",
   "execution_count": null,
   "id": "3de86070-fc59-431d-9bf1-ce5f17aa0f04",
   "metadata": {},
   "outputs": [],
   "source": []
  },
  {
   "cell_type": "code",
   "execution_count": null,
   "id": "b274abaa-f497-4aa5-b5e7-4522f612170c",
   "metadata": {},
   "outputs": [],
   "source": []
  },
  {
   "cell_type": "code",
   "execution_count": null,
   "id": "6e61fc37-050d-4330-a4b4-7da10a1184e0",
   "metadata": {},
   "outputs": [],
   "source": []
  },
  {
   "cell_type": "markdown",
   "id": "55b51473-1542-4973-8b42-f8ad52eff4f9",
   "metadata": {},
   "source": [
    "### 2.  Example from slides_orbital_maneuvers_02\n",
    "#### Rendezvous - Phasing Maneuver\n",
    "\n",
    "A spacecraft is trying to dock with the International Space Station (ISS) and let's assume that they are both in the same circular orbit of $ 420 km $.  If the spacecraft is separated from the ISS by a phase angel $ \\phi = \\pi / 4 $, what is the $ \\Delta v $ of the rendezvous maneuver?. \n",
    "\n",
    "Given:  \n",
    "$ R_{\\oplus} = 6371 \\; \\mathrm{km} $   \n",
    "$ \\mu_{\\oplus} = 3.986 \\times 10^{5} \\; \\mathrm{km}^3 / \\mathrm{s}^2 $   \n"
   ]
  },
  {
   "cell_type": "code",
   "execution_count": null,
   "id": "01cd7994-69dd-48a7-96bc-54c3bcec29e8",
   "metadata": {},
   "outputs": [],
   "source": [
    "import numpy as np"
   ]
  },
  {
   "cell_type": "code",
   "execution_count": null,
   "id": "a544dedb-ebca-442b-aec8-316c7f751705",
   "metadata": {},
   "outputs": [],
   "source": [
    "R_earth = 6371 # km\n",
    "mu_earth = 3.986e5 #km^3/s^2"
   ]
  },
  {
   "cell_type": "code",
   "execution_count": null,
   "id": "f43fe027-b025-4cc6-9077-71abde765a34",
   "metadata": {},
   "outputs": [],
   "source": [
    "# Orbit\n",
    "r = R_earth + 420 # km\n"
   ]
  },
  {
   "cell_type": "code",
   "execution_count": null,
   "id": "afff27a4-562f-4a13-8767-a25556ee4a5f",
   "metadata": {},
   "outputs": [],
   "source": []
  },
  {
   "cell_type": "code",
   "execution_count": null,
   "id": "bc3c16f5-908f-4f7e-9981-52c7cb2c78b3",
   "metadata": {},
   "outputs": [],
   "source": []
  },
  {
   "cell_type": "code",
   "execution_count": null,
   "id": "14c7261d-1efe-4cf9-8197-e7615a260726",
   "metadata": {},
   "outputs": [],
   "source": []
  },
  {
   "cell_type": "code",
   "execution_count": null,
   "id": "8aa3d7b0-d028-435b-84e7-04dac47d4914",
   "metadata": {},
   "outputs": [],
   "source": []
  },
  {
   "cell_type": "code",
   "execution_count": null,
   "id": "d6428e52-37d1-47b0-aba8-4fcee9a023a3",
   "metadata": {},
   "outputs": [],
   "source": []
  }
 ],
 "metadata": {
  "kernelspec": {
   "display_name": "Python 3 (ipykernel)",
   "language": "python",
   "name": "python3"
  },
  "language_info": {
   "codemirror_mode": {
    "name": "ipython",
    "version": 3
   },
   "file_extension": ".py",
   "mimetype": "text/x-python",
   "name": "python",
   "nbconvert_exporter": "python",
   "pygments_lexer": "ipython3",
   "version": "3.12.8"
  }
 },
 "nbformat": 4,
 "nbformat_minor": 5
}
