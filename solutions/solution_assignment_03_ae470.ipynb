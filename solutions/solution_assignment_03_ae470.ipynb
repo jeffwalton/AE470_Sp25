{
 "cells": [
  {
   "cell_type": "markdown",
   "id": "50aea7eb-817d-4619-b695-da0059bf79c6",
   "metadata": {},
   "source": [
    "### AE 470 - Assignment 3\n",
    "## Due in 1 week (Tuesday, Febuary 25, 2025 at 11:59 pm)\n",
    "\n",
    "Submit your solutions to Moodle in the this Jupyter notebook.  \n"
   ]
  },
  {
   "cell_type": "code",
   "execution_count": 1,
   "id": "833c49f2-fb4b-4ebb-a22d-94ce9b2928bf",
   "metadata": {},
   "outputs": [],
   "source": [
    "# Do a \"Save Notebook As...\" with your name in the filename.  For example, \"Collins,Eileen_assignment_02_ae470.ipynb\"\n",
    "\n",
    "# SOLUTION\n",
    "\n",
    "# Add your collaborators names here\n"
   ]
  },
  {
   "cell_type": "code",
   "execution_count": 2,
   "id": "a3d26faa-b487-4269-a0f4-8cdb4e489a58",
   "metadata": {},
   "outputs": [],
   "source": [
    "# Configure Jupyter so figures appear in the notebook\n",
    "# %matplotlib inline\n",
    "import matplotlib.pyplot as plt\n",
    "# Configure Jupyter to display the assigned value after an assignment\n",
    "%config InteractiveShell.ast_node_interactivity='last_expr_or_assign'"
   ]
  },
  {
   "cell_type": "code",
   "execution_count": 3,
   "id": "c0355495-256c-4513-abbc-e7348426b21f",
   "metadata": {},
   "outputs": [],
   "source": [
    "try:\n",
    "    from modsim import *\n",
    "except ImportError:\n",
    "    print(\"Download modsim from the course repository at https://github.com/jeffwalton/AE470\")\n",
    "\n",
    "import numpy as np"
   ]
  },
  {
   "cell_type": "markdown",
   "id": "6343bc87",
   "metadata": {},
   "source": [
    "## 1. $ \\vec{\\mathbf{r}} $, $ \\vec{\\mathbf{v}} $ to COE\n",
    "\n",
    "Write a python function to calculate orbital elements from the state vectors, $ \\vec{\\mathbf{r}} $ and $ \\vec{\\mathbf{v}} $. "
   ]
  },
  {
   "cell_type": "code",
   "execution_count": 4,
   "id": "a4d37e49",
   "metadata": {},
   "outputs": [],
   "source": [
    "def state_vector_to_coe(r_vec, v_vec, mu ):\n",
    "    ri = r_vec[0]\n",
    "    rj = r_vec[1]\n",
    "    rk = r_vec[2]\n",
    "    vi = v_vec[0]\n",
    "    vj = v_vec[1]\n",
    "    vk = v_vec[2]\n",
    "    rmag = np.sqrt(ri**2+rj**2+rk**2)\n",
    "    vmag = np.sqrt(vi**2+vj**2+vk**2)\n",
    "    h_vec = np.cross(r_vec, v_vec)\n",
    "    h = np.sqrt(h_vec[0]**2+h_vec[1]**2+h_vec[2]**2)\n",
    "    e_vec = 1/mu*(np.cross(v_vec, h_vec))-r_vec/rmag\n",
    "    ecc = np.sqrt(e_vec[0]**2+e_vec[1]**2+e_vec[2]**2)\n",
    "    p = h**2/mu\n",
    "    radtheta = np.arccos((p-rmag)/(ecc*rmag))\n",
    "    theta = np.degrees(radtheta)\n",
    "    A_vec = [0, 0, 1]\n",
    "    vec = np.cross(A_vec, h_vec)\n",
    "    A = np.sqrt(vec[0]**2+vec[1]**2+vec[2]**2)\n",
    "    if vec[1] >= 0:\n",
    "        radraan = np.arccos(vec[0]/A)\n",
    "    else:\n",
    "        radraan = 2*np.pi-np.arccos(vec[0]/A)\n",
    "    raan = np.degrees(radraan)\n",
    "    radincl = np.arccos(h_vec[2]/h)\n",
    "    incl = np.degrees(radincl)\n",
    "    if e_vec[2] >= 0:\n",
    "        radomega = np.arccos(np.dot(vec, e_vec)/(A*ecc))\n",
    "    else:\n",
    "        radomega = 2*np.pi-np.arccos(np.dot(vec, e_vec)/(A*ecc))\n",
    "    omega = np.degrees(radomega)\n",
    "    \n",
    "    \n",
    "    return h, ecc, theta, raan, incl, omega"
   ]
  },
  {
   "cell_type": "code",
   "execution_count": null,
   "id": "838a5a36",
   "metadata": {},
   "outputs": [],
   "source": []
  },
  {
   "cell_type": "markdown",
   "id": "d4d17522",
   "metadata": {},
   "source": [
    "## 2. COE to $ \\vec{\\mathbf{r}} $, $ \\vec{\\mathbf{v}} $\n",
    "\n",
    "Write a python function to calculate the state vectors, $ \\vec{\\mathbf{r}} $ and $ \\vec{\\mathbf{v}} $, from orbital elements."
   ]
  },
  {
   "cell_type": "code",
   "execution_count": 5,
   "id": "d47afe6f",
   "metadata": {},
   "outputs": [],
   "source": [
    "def coe_to_state_vector(h, ecc, theta, raan, incl, omega, mu ):\n",
    "    radincl = np.radians(incl)\n",
    "    radraan = np.radians(raan)\n",
    "    radomega = np.radians(omega)\n",
    "    radtheta = np.radians(theta)\n",
    "    r = ((h**2/mu)/(1+ecc*np.cos(radtheta)))\n",
    "    rp = Vector(r*np.cos(radtheta), r*np.sin(radtheta), 0)\n",
    "    vp = Vector(-mu/h*np.sin(radtheta), mu/h*(ecc+np.cos(radtheta)), 0)\n",
    "    def C1(theta):\n",
    "        c = np.cos(theta)\n",
    "        s = np.sin(theta)\n",
    "        return np.matrix([[ 1, 0, 0],\n",
    "            [0, c, s],\n",
    "            [0, -s, c]])\n",
    "\n",
    "    def C2(theta):\n",
    "        c = np.cos(theta)\n",
    "        s = np.sin(theta)\n",
    "        return np.matrix([[ c, 0, -s],\n",
    "                [0, 1, 0],\n",
    "                [s, 0, c]])\n",
    "\n",
    "    def C3(theta):\n",
    "        c = np.cos(theta)\n",
    "        s = np.sin(theta)\n",
    "        return np.matrix([[ c, s, 0],\n",
    "                [-s, c, 0],\n",
    "                [0, 0, 1]])\n",
    "\n",
    "    peri_geo = (C3(radomega) @ C1(radincl) @ C3(radraan)).transpose()\n",
    "\n",
    "    r_vec = peri_geo @ rp\n",
    "    v_vec = peri_geo @ vp\n",
    "\n",
    "\n",
    "    \n",
    "    return r_vec, v_vec"
   ]
  },
  {
   "cell_type": "code",
   "execution_count": null,
   "id": "c9049e98",
   "metadata": {},
   "outputs": [],
   "source": []
  },
  {
   "cell_type": "markdown",
   "id": "0227c764",
   "metadata": {},
   "source": [
    "## 3. Test Functions\n",
    "\n",
    "Test your functions on the following state vectors and orbital elements.\n",
    "\n",
    "$ \\vec{\\mathbf{r}} = -6045 \\hat{\\mathbf{I}} - 3490 \\hat{\\mathbf{J}} + 2500 \\hat{\\mathbf{K}} $ km \n",
    "\n",
    "$ \\vec{\\mathbf{v}} = -3.457 \\hat{\\mathbf{I}} + 6.618 \\hat{\\mathbf{J}} + 2.533 \\hat{\\mathbf{K}} $ km/s\n",
    "\n",
    "$ h = 58,310 $ km^2/s\n",
    "\n",
    "$ i = 153.2^{\\circ} $,\n",
    "\n",
    "$ \\Omega = 255.3^{\\circ} $, \n",
    "\n",
    "$ e = 0.1712 $, \n",
    "\n",
    "$ \\omega = 20.07^{\\circ} $,\n",
    "\n",
    "$ \\theta = 28.45^{\\circ} $\n",
    "\n"
   ]
  },
  {
   "cell_type": "code",
   "execution_count": 8,
   "id": "ff642949",
   "metadata": {},
   "outputs": [
    {
     "data": {
      "text/plain": [
       "(58311.66993185606,\n",
       " 0.17121234628445364,\n",
       " 28.44562830661485,\n",
       " 255.27928533439618,\n",
       " 153.2492285182475,\n",
       " 20.068316650582524)"
      ]
     },
     "execution_count": 8,
     "metadata": {},
     "output_type": "execute_result"
    }
   ],
   "source": [
    "#state to coe test\n",
    "\n",
    "r_vec = [-6045, -3490, 2500]\n",
    "v_vec = [-3.457, 6.618, 2.533]\n",
    "mu = 3.986*10**5\n",
    "ans = state_vector_to_coe(r_vec, v_vec, mu)"
   ]
  },
  {
   "cell_type": "code",
   "execution_count": 7,
   "id": "daed14ba",
   "metadata": {},
   "outputs": [
    {
     "data": {
      "text/plain": [
       "(array([-6041.70115028, -3491.89729502,  2504.38823005]),\n",
       " array([-3.45671638,  6.61670935,  2.53710431]))"
      ]
     },
     "execution_count": 7,
     "metadata": {},
     "output_type": "execute_result"
    }
   ],
   "source": [
    "# coe to state test\n",
    "h = 58310\n",
    "incl = 153.2\n",
    "raan = 255.3\n",
    "ecc = 0.1712\n",
    "omega = 20.07\n",
    "theta = 28.45\n",
    "mu = 3.986*10**5\n",
    "answer = coe_to_state_vector(h, ecc, theta, raan, incl, omega, mu )"
   ]
  },
  {
   "cell_type": "code",
   "execution_count": null,
   "id": "a9ed6c87-5338-44cf-9561-edbf6eaa029c",
   "metadata": {},
   "outputs": [],
   "source": []
  },
  {
   "cell_type": "code",
   "execution_count": null,
   "id": "e0eec1ad-d58c-4b32-af68-23758505cb53",
   "metadata": {},
   "outputs": [],
   "source": []
  },
  {
   "cell_type": "code",
   "execution_count": null,
   "id": "41a0275a-3d9e-46d3-bb8b-ba37e63dcd61",
   "metadata": {},
   "outputs": [],
   "source": []
  }
 ],
 "metadata": {
  "kernelspec": {
   "display_name": "Python 3 (ipykernel)",
   "language": "python",
   "name": "python3"
  },
  "language_info": {
   "codemirror_mode": {
    "name": "ipython",
    "version": 3
   },
   "file_extension": ".py",
   "mimetype": "text/x-python",
   "name": "python",
   "nbconvert_exporter": "python",
   "pygments_lexer": "ipython3",
   "version": "3.12.8"
  }
 },
 "nbformat": 4,
 "nbformat_minor": 5
}
