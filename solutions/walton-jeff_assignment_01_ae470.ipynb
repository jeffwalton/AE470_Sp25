{
 "cells": [
  {
   "cell_type": "markdown",
   "id": "50aea7eb-817d-4619-b695-da0059bf79c6",
   "metadata": {},
   "source": [
    "# AE 470 - Assignment 1\n",
    "## Due Tuesday, Febuary 11, 2025 at 11:59 pm  \n",
    "\n",
    "In this notebook, using the numerical integration and two-body equations of motion that we have discussed in class, simulate the following scenario.\n",
    "\n",
    "  - Starting in a circular orbit 200km above the surface of the earth\n",
    "  - Simulate one orbit\n",
    "  - At the start of the second orbit, apply an instantaneous change in velocity maneuver that will raise the apogee of the resulting elliptical orbit to 30000km above the surface.\n",
    "  - Simulate one revolution of this orbit.\n",
    "  - How can we make this orbit circular at 30000km?  Apply this maneuver and simulate for one revolution.\n",
    "\n",
    "Create a plot (or plots) of the orbit segments.\n",
    "\n",
    "Submit this notebook with your work.\n",
    "\n",
    "You can collaborate with each other, but everyone should submit their own notebook.\n"
   ]
  },
  {
   "cell_type": "code",
   "execution_count": null,
   "id": "833c49f2-fb4b-4ebb-a22d-94ce9b2928bf",
   "metadata": {},
   "outputs": [],
   "source": [
    "# Do a \"Save Notebook As...\" with your name in the filename.  For example, \"Collins,Eileen_assignment_01_ae470.ipynb\"\n",
    "\n",
    "# Put your name here Jeff Walton\n",
    "\n",
    "# Add your collaborators names here\n"
   ]
  },
  {
   "cell_type": "code",
   "execution_count": 1,
   "id": "4e30c5a6-1d6b-401b-9cac-7aa042d6dea2",
   "metadata": {},
   "outputs": [],
   "source": [
    "# Configure Jupyter to display the assigned value after an assignment\n",
    "%config InteractiveShell.ast_node_interactivity='last_expr_or_assign'"
   ]
  },
  {
   "cell_type": "code",
   "execution_count": 2,
   "id": "2285ec5a-ced6-4605-9bc6-7cf0d4155619",
   "metadata": {},
   "outputs": [],
   "source": [
    "try:\n",
    "    from modsim import *\n",
    "except ImportError:\n",
    "    print(\"Download modsim from the course repository at https://github.com/jeffwalton/AE470_Sp25\")"
   ]
  },
  {
   "cell_type": "code",
   "execution_count": null,
   "id": "1b2f7974-13f7-44cd-8895-a08b845565b1",
   "metadata": {},
   "outputs": [],
   "source": []
  },
  {
   "cell_type": "code",
   "execution_count": 3,
   "id": "a3d26faa-b487-4269-a0f4-8cdb4e489a58",
   "metadata": {},
   "outputs": [],
   "source": [
    "import numpy as np\n",
    "from matplotlib.pyplot import plot"
   ]
  },
  {
   "cell_type": "code",
   "execution_count": 4,
   "id": "c0355495-256c-4513-abbc-e7348426b21f",
   "metadata": {},
   "outputs": [
    {
     "data": {
      "text/html": [
       "<div>\n",
       "<style scoped>\n",
       "    .dataframe tbody tr th:only-of-type {\n",
       "        vertical-align: middle;\n",
       "    }\n",
       "\n",
       "    .dataframe tbody tr th {\n",
       "        vertical-align: top;\n",
       "    }\n",
       "\n",
       "    .dataframe thead th {\n",
       "        text-align: right;\n",
       "    }\n",
       "</style>\n",
       "<table border=\"1\" class=\"dataframe\">\n",
       "  <thead>\n",
       "    <tr style=\"text-align: right;\">\n",
       "      <th></th>\n",
       "      <th>value</th>\n",
       "    </tr>\n",
       "  </thead>\n",
       "  <tbody>\n",
       "    <tr>\n",
       "      <th>init</th>\n",
       "      <td>x     6578.000000\n",
       "y        0.000000\n",
       "z        0...</td>\n",
       "    </tr>\n",
       "    <tr>\n",
       "      <th>mu</th>\n",
       "      <td>398600.0</td>\n",
       "    </tr>\n",
       "    <tr>\n",
       "      <th>t_end</th>\n",
       "      <td>5309.480436</td>\n",
       "    </tr>\n",
       "  </tbody>\n",
       "</table>\n",
       "</div>"
      ],
      "text/plain": [
       "                                                   value\n",
       "init   x     6578.000000\n",
       "y        0.000000\n",
       "z        0...\n",
       "mu                                              398600.0\n",
       "t_end                                        5309.480436"
      ]
     },
     "execution_count": 4,
     "metadata": {},
     "output_type": "execute_result"
    }
   ],
   "source": [
    "r_e = 6378 # km\n",
    "mu_e = 3.986000e+5 # earth, km^3/s^2\n",
    "r_cir1 = r_e + 200 # km\n",
    "\n",
    "v_cir1 = np.sqrt(mu_e / r_cir1)\n",
    "\n",
    "T_cir1 = 2*np.pi/np.sqrt(mu_e)*np.sqrt(r_cir1**3)\n",
    "\n",
    "r0 = Vector( r_cir1, 0, 0 ) # km\n",
    "v0 = Vector( 0, v_cir1, 0 ) # km/s\n",
    "\n",
    "init = State(x=r0.x, y=r0.y, z=r0.z, vx=v0.x, vy=v0.y, vz=v0.z)\n",
    "\n",
    "system = System(init=init,\n",
    "                mu=mu_e,\n",
    "                t_end=T_cir1, # s\n",
    "               )\n",
    "\n",
    "show(system)"
   ]
  },
  {
   "cell_type": "code",
   "execution_count": 5,
   "id": "a9ed6c87-5338-44cf-9561-edbf6eaa029c",
   "metadata": {},
   "outputs": [],
   "source": [
    "def eom_twobodies(t, state, system):\n",
    "    x, y, z, vx, vy, vz = state  # unpack the state vector\n",
    "    mu = system.mu\n",
    "    \n",
    "    R = Vector(x, y, z)\n",
    "    r = vector_mag(R)\n",
    "    V = Vector(vx, vy, vz)\n",
    "    # print(f\"time:{t}, R:[{R.x}, {R.y}, {R.z}]\")\n",
    "\n",
    "    R_dot = V\n",
    "    R_dotdot = -mu / r**3 * R\n",
    "\n",
    "    return R_dot.x, R_dot.y, R_dot.z, R_dotdot.x, R_dotdot.y, R_dotdot.z\n"
   ]
  },
  {
   "cell_type": "code",
   "execution_count": 6,
   "id": "e0eec1ad-d58c-4b32-af68-23758505cb53",
   "metadata": {},
   "outputs": [
    {
     "data": {
      "text/plain": [
       "(0.0, 7.784338495550994, 0.0, -0.009211907238266513, -0.0, -0.0)"
      ]
     },
     "execution_count": 6,
     "metadata": {},
     "output_type": "execute_result"
    }
   ],
   "source": [
    "eom_twobodies(0, init, system)"
   ]
  },
  {
   "cell_type": "code",
   "execution_count": 9,
   "id": "44d4a2d5-7b58-4a37-8c3e-751fb18e5ad5",
   "metadata": {},
   "outputs": [
    {
     "data": {
      "text/plain": [
       "'The solver successfully reached the end of the integration interval.'"
      ]
     },
     "execution_count": 9,
     "metadata": {},
     "output_type": "execute_result"
    }
   ],
   "source": [
    "results, details = run_solve_ivp(system, eom_twobodies, first_step=10.0, rtol=1.0e-6)\n",
    "\n",
    "details.message"
   ]
  },
  {
   "cell_type": "code",
   "execution_count": 10,
   "id": "c1a334d6-b0bc-4e79-9dbb-aaeb08e52b46",
   "metadata": {},
   "outputs": [
    {
     "data": {
      "text/html": [
       "<div>\n",
       "<style scoped>\n",
       "    .dataframe tbody tr th:only-of-type {\n",
       "        vertical-align: middle;\n",
       "    }\n",
       "\n",
       "    .dataframe tbody tr th {\n",
       "        vertical-align: top;\n",
       "    }\n",
       "\n",
       "    .dataframe thead th {\n",
       "        text-align: right;\n",
       "    }\n",
       "</style>\n",
       "<table border=\"1\" class=\"dataframe\">\n",
       "  <thead>\n",
       "    <tr style=\"text-align: right;\">\n",
       "      <th></th>\n",
       "      <th>x</th>\n",
       "      <th>y</th>\n",
       "      <th>z</th>\n",
       "      <th>vx</th>\n",
       "      <th>vy</th>\n",
       "      <th>vz</th>\n",
       "    </tr>\n",
       "  </thead>\n",
       "  <tbody>\n",
       "    <tr>\n",
       "      <th>0.000000</th>\n",
       "      <td>6578.000000</td>\n",
       "      <td>0.000000</td>\n",
       "      <td>0.0</td>\n",
       "      <td>0.000000</td>\n",
       "      <td>7.784338</td>\n",
       "      <td>0.0</td>\n",
       "    </tr>\n",
       "    <tr>\n",
       "      <th>53.094804</th>\n",
       "      <td>6565.019807</td>\n",
       "      <td>413.036079</td>\n",
       "      <td>0.0</td>\n",
       "      <td>-0.488783</td>\n",
       "      <td>7.768978</td>\n",
       "      <td>0.0</td>\n",
       "    </tr>\n",
       "    <tr>\n",
       "      <th>106.189609</th>\n",
       "      <td>6526.130488</td>\n",
       "      <td>824.442009</td>\n",
       "      <td>0.0</td>\n",
       "      <td>-0.975636</td>\n",
       "      <td>7.722957</td>\n",
       "      <td>0.0</td>\n",
       "    </tr>\n",
       "    <tr>\n",
       "      <th>159.284413</th>\n",
       "      <td>6461.485324</td>\n",
       "      <td>1232.594673</td>\n",
       "      <td>0.0</td>\n",
       "      <td>-1.458642</td>\n",
       "      <td>7.646456</td>\n",
       "      <td>0.0</td>\n",
       "    </tr>\n",
       "    <tr>\n",
       "      <th>212.379217</th>\n",
       "      <td>6371.339725</td>\n",
       "      <td>1635.882244</td>\n",
       "      <td>0.0</td>\n",
       "      <td>-1.935889</td>\n",
       "      <td>7.539779</td>\n",
       "      <td>0.0</td>\n",
       "    </tr>\n",
       "  </tbody>\n",
       "</table>\n",
       "</div>"
      ],
      "text/plain": [
       "                      x            y    z        vx        vy   vz\n",
       "0.000000    6578.000000     0.000000  0.0  0.000000  7.784338  0.0\n",
       "53.094804   6565.019807   413.036079  0.0 -0.488783  7.768978  0.0\n",
       "106.189609  6526.130488   824.442009  0.0 -0.975636  7.722957  0.0\n",
       "159.284413  6461.485324  1232.594673  0.0 -1.458642  7.646456  0.0\n",
       "212.379217  6371.339725  1635.882244  0.0 -1.935889  7.539779  0.0"
      ]
     },
     "execution_count": 10,
     "metadata": {},
     "output_type": "execute_result"
    }
   ],
   "source": [
    "results.head()"
   ]
  },
  {
   "cell_type": "code",
   "execution_count": 11,
   "id": "2fcee07e-97b2-4fd1-b7c4-c6b7afe0d532",
   "metadata": {},
   "outputs": [],
   "source": [
    "import matplotlib.pyplot as plt"
   ]
  },
  {
   "cell_type": "code",
   "execution_count": 12,
   "id": "431c6503-da58-4426-b9e5-cfc552ca25c2",
   "metadata": {},
   "outputs": [
    {
     "data": {
      "image/png": "[encoded data removed]",
      "text/plain": [
       "<Figure size 450x300 with 1 Axes>"
      ]
     },
     "metadata": {},
     "output_type": "display_data"
    }
   ],
   "source": [
    "fig = plt.figure()\n",
    "ax = fig.add_subplot()\n",
    "ax.scatter(results.x, results.y)\n",
    "ax.set_title(\"First Orbit 3D plot\")\n",
    "ax.set_xlabel('X')\n",
    "ax.set_ylabel('Y')\n",
    "ax.scatter(0, 0 )\n",
    "\n",
    "plt.gca().set_aspect('equal')\n",
    "\n",
    "plt.show()"
   ]
  },
  {
   "cell_type": "code",
   "execution_count": 13,
   "id": "7800ee9b-20fd-4ea6-97f8-fba021e9be34",
   "metadata": {},
   "outputs": [],
   "source": [
    "def plot_orbit_2D(x, y, plot_label=\"2D orbit plot\"):\n",
    "    fig = plt.figure()\n",
    "    ax = fig.add_subplot()\n",
    "    ax.scatter(x, y)\n",
    "    ax.set_title(plot_label)\n",
    "    ax.set_xlabel('X')\n",
    "    ax.set_ylabel('Y')\n",
    "    ax.scatter(0, 0)\n",
    "    \n",
    "    plt.gca().set_aspect('equal')\n",
    "    \n",
    "    plt.show()"
   ]
  },
  {
   "cell_type": "code",
   "execution_count": null,
   "id": "a038e33c-7f0d-4b50-979d-b830bb7cfc12",
   "metadata": {},
   "outputs": [],
   "source": []
  },
  {
   "cell_type": "code",
   "execution_count": null,
   "id": "41a0275a-3d9e-46d3-bb8b-ba37e63dcd61",
   "metadata": {},
   "outputs": [],
   "source": [
    "# make plot of all 3 orbits together\n",
    "\n",
    "fig = plt.figure()\n",
    "ax = fig.add_subplot()\n",
    "ax.scatter(0, 0, c='orange') \n",
    "ax.scatter(orbit_200km_circ.x, orbit_200km_circ.y, c='blue', label='200 km circular')\n",
    "ax.scatter(orbit_elliptical_transfer.x, orbit_elliptical_transfer.y, c='red', label='elliptical transfer')\n",
    "ax.scatter(orbit_30000km_circ.x, orbit_30000km_circ.y, c='green', label='30,000 km circular')\n",
    "ax.set_title(\"Exercise 1: orbit transfer\")\n",
    "ax.set_xlabel('X')\n",
    "ax.set_ylabel('Y')\n",
    "\n",
    "plt.gca().set_aspect('equal')\n",
    "plt.legend(loc='lower right')\n",
    "plt.show()\n"
   ]
  }
 ],
 "metadata": {
  "kernelspec": {
   "display_name": "Python 3 (ipykernel)",
   "language": "python",
   "name": "python3"
  },
  "language_info": {
   "codemirror_mode": {
    "name": "ipython",
    "version": 3
   },
   "file_extension": ".py",
   "mimetype": "text/x-python",
   "name": "python",
   "nbconvert_exporter": "python",
   "pygments_lexer": "ipython3",
   "version": "3.12.8"
  }
 },
 "nbformat": 4,
 "nbformat_minor": 5
}
