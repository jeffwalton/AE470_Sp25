{
 "cells": [
  {
   "cell_type": "markdown",
   "id": "bc8974c4-f7b4-4801-9e25-fc72125d6f4d",
   "metadata": {},
   "source": [
    "# Starting the Environment\n",
    "1. Open an Anaconda Prompt terminal,\n",
    "   - On windows, Search `anaconda prompt`, click to open\n",
    "2. Change directory (`cd`) into class directory on your computer,\n",
    "   - `cd C:\\JW\\Clarkson\\AE470`\n",
    "3. Change directory into the repository on your computer,\n",
    "   - `cd AE470_Sp25`\n",
    "4. Fetch the latest class repository from GitHub,\n",
    "   - **This will overwrite any changes you have made to files in your local repository directory, `AE470_Sp2025`.**\n",
    "   - **Be sure to rename any files where you make changes that you want to keep.**\n",
    "   - `git fetch origin`\n",
    "5. Reset your local branch repository to match the remote branch,\n",
    "   - `git reset --hard origin/main`\n",
    "6. Activate the virtual python environment,\n",
    "   - `conda activate ae470sp25`\n",
    "7. Start a Jupyter notebook session in a browser window.  Type the following into an Anaconda Prompt window,\n",
    "   - `jupyter notebook`\n",
    "8. Using the Jupyter browser, open this notebook: `09_ae470_Hohmann_transfer_examples`.\n"
   ]
  },
  {
   "cell_type": "code",
   "execution_count": null,
   "id": "8ff17752-3c84-4869-b53f-7f7aca784fb9",
   "metadata": {},
   "outputs": [],
   "source": [
    "# Configure Jupyter so figures appear in the notebook\n",
    "# %matplotlib inline\n",
    "\n",
    "# Configure Jupyter to display the assigned value after an assignment\n",
    "%config InteractiveShell.ast_node_interactivity='last_expr_or_assign'"
   ]
  },
  {
   "cell_type": "code",
   "execution_count": null,
   "id": "77c52c41-e93c-420e-b917-23edf8ae856c",
   "metadata": {},
   "outputs": [],
   "source": [
    "# import modsim and install if necessary\n",
    "try:\n",
    "    from modsim import *\n",
    "except ImportError:\n",
    "    print(\"Download modsim from the course repository at https://github.com/jeffwalton/AE470\")"
   ]
  },
  {
   "cell_type": "markdown",
   "id": "355c294f-6f7b-41b2-add7-4212f2d6b6e6",
   "metadata": {},
   "source": [
    "# Hohmann Transfer\n"
   ]
  },
  {
   "cell_type": "markdown",
   "id": "989ec7fb-4789-4483-bb12-ae3f25fba11f",
   "metadata": {},
   "source": [
    "### 1.  Example from slides_orbital_maneuvers_01\n",
    "\n",
    "A satellite is in a circular orbit about the Earth at an altitude of $ 429 km $ and needs to be placed into an elliptical orbit with an appogee distance of $ 7500km $.\n",
    "\n",
    "Find: \n",
    "  (a) the $ \\Delta v $ required for the maneuver, and\n",
    "  (b) the time of flight for the transfer.\n",
    "\n",
    "You are given:  \n",
    "$ R_{\\oplus} = 6371 \\; \\mathrm{km} $   \n",
    "$ \\mu_{\\oplus} = 3.986 \\times 10^{5} \\; \\mathrm{km}^3 / \\mathrm{s}^2 $   \n"
   ]
  },
  {
   "cell_type": "code",
   "execution_count": null,
   "id": "2394d15f-8c97-4a56-8216-7c90c2e67007",
   "metadata": {},
   "outputs": [],
   "source": [
    "import numpy as np"
   ]
  },
  {
   "cell_type": "code",
   "execution_count": null,
   "id": "88be3e4c-81b0-4329-ac9e-205fd563e234",
   "metadata": {},
   "outputs": [],
   "source": [
    "R_earth = 6371 # km\n",
    "mu_earth = 3.986e5 #km^3/s^2"
   ]
  },
  {
   "cell_type": "code",
   "execution_count": null,
   "id": "e8d363c1-2f21-4b50-a1f5-3843d9f483cc",
   "metadata": {},
   "outputs": [],
   "source": [
    "r1 = R_earth + 429 # km\n",
    "r2a = 7500 # km\n",
    "r2p = r1"
   ]
  },
  {
   "cell_type": "code",
   "execution_count": null,
   "id": "142ee604-9ed7-4ad7-8c4f-1476f4fde2e7",
   "metadata": {},
   "outputs": [],
   "source": [
    "a = (r2a +r2p)/2.0"
   ]
  },
  {
   "cell_type": "code",
   "execution_count": null,
   "id": "520dfe64-d7c5-4e43-8e00-b166c43423ff",
   "metadata": {},
   "outputs": [],
   "source": [
    "delta_v = np.sqrt(mu_earth*((2/r1)-(1/a))) - np.sqrt(mu_earth/r1)"
   ]
  },
  {
   "cell_type": "code",
   "execution_count": null,
   "id": "f216a8a3-eb62-4a19-a604-4317a8053e44",
   "metadata": {},
   "outputs": [],
   "source": [
    "print(f\"{delta_v=:.3}\")"
   ]
  },
  {
   "cell_type": "markdown",
   "id": "261def56-ce6c-4560-89d0-cade7a6689e1",
   "metadata": {},
   "source": [
    "The time of flight for the transfer ($TOF$) is 0 because it is a single impulse maneuver."
   ]
  },
  {
   "cell_type": "code",
   "execution_count": null,
   "id": "6e61fc37-050d-4330-a4b4-7da10a1184e0",
   "metadata": {},
   "outputs": [],
   "source": []
  },
  {
   "cell_type": "markdown",
   "id": "55b51473-1542-4973-8b42-f8ad52eff4f9",
   "metadata": {},
   "source": [
    "### 2.  Curtis, Example 6.1, page 290\n",
    "\n",
    "A spacecraft is in a $ 480 km \\times 800km $ earth orbit.  \n",
    "Find:  \n",
    "- The $ \\Delta v $ required at perigee (point A) to place the spacecraft in a $ 480 km \\times 16,000km $ transfer ellipse.\n",
    "- The $ \\Delta v $ required at apogee of the transfer orbit (point B) to establish a circular orbit of $ 16,000km $ altitude.\n"
   ]
  },
  {
   "cell_type": "code",
   "execution_count": null,
   "id": "01cd7994-69dd-48a7-96bc-54c3bcec29e8",
   "metadata": {},
   "outputs": [],
   "source": [
    "import numpy as np"
   ]
  },
  {
   "cell_type": "code",
   "execution_count": null,
   "id": "a544dedb-ebca-442b-aec8-316c7f751705",
   "metadata": {},
   "outputs": [],
   "source": [
    "R_earth = 6378 # km\n",
    "mu_earth = 3.986e5 #km^3/s^2"
   ]
  },
  {
   "cell_type": "code",
   "execution_count": null,
   "id": "f43fe027-b025-4cc6-9077-71abde765a34",
   "metadata": {},
   "outputs": [],
   "source": [
    "# Orbit 1\n",
    "rp1 = R_earth + 480 # km\n",
    "ra1 = R_earth + 800 # km\n",
    "\n",
    "h1 = np.sqrt(2*mu_earth)*np.sqrt((rp1*ra1)/(rp1+ra1))\n"
   ]
  },
  {
   "cell_type": "code",
   "execution_count": null,
   "id": "53e33452-b9cd-417d-8b90-c4546f5bd0b4",
   "metadata": {},
   "outputs": [],
   "source": [
    "# Orbit 2\n",
    "rp2 = R_earth + 480 # km\n",
    "ra2 = R_earth + 16000 # km\n",
    "\n",
    "h2 = np.sqrt(2*mu_earth)*np.sqrt((rp2*ra2)/(rp2+ra2))\n"
   ]
  },
  {
   "cell_type": "code",
   "execution_count": null,
   "id": "302f277f-13b5-4cf8-afc0-4058d7361333",
   "metadata": {},
   "outputs": [],
   "source": [
    "# Orbit 3, circular\n",
    "r3 = R_earth + 16000 # km\n",
    "\n",
    "h3 = np.sqrt(mu_earth*r3)\n"
   ]
  },
  {
   "cell_type": "code",
   "execution_count": null,
   "id": "f722abb0-d872-4b96-a657-3353dfe81835",
   "metadata": {},
   "outputs": [],
   "source": [
    "v1_A = h1 / rp1"
   ]
  },
  {
   "cell_type": "code",
   "execution_count": null,
   "id": "93a6550c-ef89-4e66-9d57-df0434de6d89",
   "metadata": {},
   "outputs": [],
   "source": [
    "v2_A = h2 / rp2"
   ]
  },
  {
   "cell_type": "code",
   "execution_count": null,
   "id": "c960b746-171b-4585-ad89-40c71f890289",
   "metadata": {},
   "outputs": [],
   "source": [
    "delta_v_A = v2_A - v1_A"
   ]
  },
  {
   "cell_type": "code",
   "execution_count": null,
   "id": "57e15912-e910-4140-a668-25eee7d5aa1c",
   "metadata": {},
   "outputs": [],
   "source": [
    "v2_B = h2 / ra2"
   ]
  },
  {
   "cell_type": "code",
   "execution_count": null,
   "id": "a3035b1e-a2de-4229-ae2c-14977f748173",
   "metadata": {},
   "outputs": [],
   "source": [
    "v3_B = h3 / r3"
   ]
  },
  {
   "cell_type": "code",
   "execution_count": null,
   "id": "ee060a95-bb60-4195-a41f-45e16443be15",
   "metadata": {},
   "outputs": [],
   "source": [
    "delta_v_B = v3_B - v2_B"
   ]
  },
  {
   "cell_type": "code",
   "execution_count": null,
   "id": "6fdc060e-6b39-45b1-921b-000a65483e3e",
   "metadata": {},
   "outputs": [],
   "source": [
    "delta_v_tot = np.abs(delta_v_A) + np.abs(delta_v_B)"
   ]
  },
  {
   "cell_type": "code",
   "execution_count": null,
   "id": "afff27a4-562f-4a13-8767-a25556ee4a5f",
   "metadata": {},
   "outputs": [],
   "source": []
  }
 ],
 "metadata": {
  "kernelspec": {
   "display_name": "Python 3 (ipykernel)",
   "language": "python",
   "name": "python3"
  },
  "language_info": {
   "codemirror_mode": {
    "name": "ipython",
    "version": 3
   },
   "file_extension": ".py",
   "mimetype": "text/x-python",
   "name": "python",
   "nbconvert_exporter": "python",
   "pygments_lexer": "ipython3",
   "version": "3.12.8"
  }
 },
 "nbformat": 4,
 "nbformat_minor": 5
}
