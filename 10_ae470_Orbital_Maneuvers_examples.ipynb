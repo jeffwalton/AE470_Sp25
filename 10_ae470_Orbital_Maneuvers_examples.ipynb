{
 "cells": [
  {
   "cell_type": "markdown",
   "id": "bc8974c4-f7b4-4801-9e25-fc72125d6f4d",
   "metadata": {},
   "source": [
    "# Starting the Environment\n",
    "1. Open an Anaconda Prompt terminal,\n",
    "   - On windows, Search `anaconda prompt`, click to open\n",
    "2. Change directory (`cd`) into class directory on your computer,\n",
    "   - `cd C:\\JW\\Clarkson\\AE470`\n",
    "3. Change directory into the repository on your computer,\n",
    "   - `cd AE470_Sp25`\n",
    "4. Fetch the latest class repository from GitHub,\n",
    "   - **This will overwrite any changes you have made to files in your local repository directory, `AE470_Sp2025`.**\n",
    "   - **Be sure to rename any files where you make changes that you want to keep.**\n",
    "   - `git fetch origin`\n",
    "5. Reset your local branch repository to match the remote branch,\n",
    "   - `git reset --hard origin/main`\n",
    "6. Activate the virtual python environment,\n",
    "   - `conda activate ae470sp25`\n",
    "7. Start a Jupyter notebook session in a browser window.  Type the following into an Anaconda Prompt window,\n",
    "   - `jupyter notebook`\n",
    "8. Using the Jupyter browser, open this notebook: `10_ae470_orbital_maneuvers_examples`.\n"
   ]
  },
  {
   "cell_type": "code",
   "execution_count": null,
   "id": "8ff17752-3c84-4869-b53f-7f7aca784fb9",
   "metadata": {},
   "outputs": [],
   "source": [
    "# Configure Jupyter so figures appear in the notebook\n",
    "# %matplotlib inline\n",
    "\n",
    "# Configure Jupyter to display the assigned value after an assignment\n",
    "%config InteractiveShell.ast_node_interactivity='last_expr_or_assign'"
   ]
  },
  {
   "cell_type": "code",
   "execution_count": null,
   "id": "77c52c41-e93c-420e-b917-23edf8ae856c",
   "metadata": {},
   "outputs": [],
   "source": [
    "# import modsim and install if necessary\n",
    "try:\n",
    "    from modsim import *\n",
    "except ImportError:\n",
    "    print(\"Download modsim from the course repository at https://github.com/jeffwalton/AE470\")"
   ]
  },
  {
   "cell_type": "markdown",
   "id": "355c294f-6f7b-41b2-add7-4212f2d6b6e6",
   "metadata": {},
   "source": [
    "# Orbital Maneuvers\n"
   ]
  },
  {
   "cell_type": "markdown",
   "id": "989ec7fb-4789-4483-bb12-ae3f25fba11f",
   "metadata": {},
   "source": [
    "### 1.  Example from slides_orbital_maneuvers_02\n",
    "#### Bi-Elliptic Transfer and Plane Change\n",
    "\n",
    "Let's say we have a satellite that is inserted into a circular low-Earth orbit with a semi-major axis, $ a = 300km $, and a non-zero inclination, $ i = 28.4^{\\circ} $, and we would like to place our satellite into a geosynchronous equatorial orbit (a geostationary orbit) with an altitude $ h $, what would be the $ \\Delta v $ of the combined maneuver?.\n",
    "\n",
    "Given:  \n",
    "$ R_{\\oplus} = 6378 \\; \\mathrm{km} $   \n",
    "$ \\mu_{\\oplus} = 3.986 \\times 10^{5} \\; \\mathrm{km}^3 / \\mathrm{s}^2 $   \n"
   ]
  },
  {
   "cell_type": "code",
   "execution_count": null,
   "id": "2394d15f-8c97-4a56-8216-7c90c2e67007",
   "metadata": {},
   "outputs": [],
   "source": [
    "import numpy as np"
   ]
  },
  {
   "cell_type": "code",
   "execution_count": null,
   "id": "88be3e4c-81b0-4329-ac9e-205fd563e234",
   "metadata": {},
   "outputs": [],
   "source": [
    "R_earth = 6378 # km\n",
    "mu_earth = 3.986e5 #km^3/s^2"
   ]
  },
  {
   "cell_type": "code",
   "execution_count": null,
   "id": "a1fbcfff-076a-4777-86f0-b492e5dba4eb",
   "metadata": {},
   "outputs": [],
   "source": [
    "a_1 = 300 # km\n",
    "inc = np.deg2rad(28.4)"
   ]
  },
  {
   "cell_type": "code",
   "execution_count": null,
   "id": "6bdbc43a-b549-43ce-bcd4-74e3d3be7054",
   "metadata": {},
   "outputs": [],
   "source": []
  },
  {
   "cell_type": "code",
   "execution_count": null,
   "id": "ae800686-1955-4389-a7d7-84f93081f0c2",
   "metadata": {},
   "outputs": [],
   "source": []
  },
  {
   "cell_type": "code",
   "execution_count": null,
   "id": "1a1922cf-8f9d-4737-b993-c14a080eecc0",
   "metadata": {},
   "outputs": [],
   "source": []
  },
  {
   "cell_type": "code",
   "execution_count": null,
   "id": "3de86070-fc59-431d-9bf1-ce5f17aa0f04",
   "metadata": {},
   "outputs": [],
   "source": []
  },
  {
   "cell_type": "code",
   "execution_count": null,
   "id": "b274abaa-f497-4aa5-b5e7-4522f612170c",
   "metadata": {},
   "outputs": [],
   "source": []
  },
  {
   "cell_type": "code",
   "execution_count": null,
   "id": "6e61fc37-050d-4330-a4b4-7da10a1184e0",
   "metadata": {},
   "outputs": [],
   "source": []
  },
  {
   "cell_type": "markdown",
   "id": "55b51473-1542-4973-8b42-f8ad52eff4f9",
   "metadata": {},
   "source": [
    "### 2.  Example from slides_orbital_maneuvers_02\n",
    "#### Rendezvous - Phasing Maneuver\n",
    "\n",
    "A spacecraft is trying to dock with the International Space Station (ISS) and let's assume that they are both in the same circular orbit of $ 420 km $.  If the spacecraft is separated from the ISS by a phase angel $ \\phi = \\pi / 4 $, what is the $ \\Delta v $ of the rendezvous maneuver?. \n",
    "\n",
    "Given:  \n",
    "$ R_{\\oplus} = 6371 \\; \\mathrm{km} $   \n",
    "$ \\mu_{\\oplus} = 3.986 \\times 10^{5} \\; \\mathrm{km}^3 / \\mathrm{s}^2 $   \n"
   ]
  },
  {
   "cell_type": "code",
   "execution_count": null,
   "id": "01cd7994-69dd-48a7-96bc-54c3bcec29e8",
   "metadata": {},
   "outputs": [],
   "source": [
    "import numpy as np"
   ]
  },
  {
   "cell_type": "code",
   "execution_count": null,
   "id": "a544dedb-ebca-442b-aec8-316c7f751705",
   "metadata": {},
   "outputs": [],
   "source": [
    "R_earth = 6371 # km\n",
    "mu_earth = 3.986e5 #km^3/s^2"
   ]
  },
  {
   "cell_type": "code",
   "execution_count": null,
   "id": "f43fe027-b025-4cc6-9077-71abde765a34",
   "metadata": {},
   "outputs": [],
   "source": [
    "# Orbit\n",
    "r = R_earth + 420 # km\n"
   ]
  },
  {
   "cell_type": "code",
   "execution_count": null,
   "id": "afff27a4-562f-4a13-8767-a25556ee4a5f",
   "metadata": {},
   "outputs": [],
   "source": []
  },
  {
   "cell_type": "code",
   "execution_count": null,
   "id": "221925f4-bcff-4fe1-b2ea-148db96d5ff6",
   "metadata": {},
   "outputs": [],
   "source": []
  },
  {
   "cell_type": "code",
   "execution_count": null,
   "id": "bc3c16f5-908f-4f7e-9981-52c7cb2c78b3",
   "metadata": {},
   "outputs": [],
   "source": []
  },
  {
   "cell_type": "code",
   "execution_count": null,
   "id": "14c7261d-1efe-4cf9-8197-e7615a260726",
   "metadata": {},
   "outputs": [],
   "source": []
  },
  {
   "cell_type": "code",
   "execution_count": null,
   "id": "8aa3d7b0-d028-435b-84e7-04dac47d4914",
   "metadata": {},
   "outputs": [],
   "source": []
  },
  {
   "cell_type": "code",
   "execution_count": null,
   "id": "d6428e52-37d1-47b0-aba8-4fcee9a023a3",
   "metadata": {},
   "outputs": [],
   "source": []
  }
 ],
 "metadata": {
  "kernelspec": {
   "display_name": "Python 3 (ipykernel)",
   "language": "python",
   "name": "python3"
  },
  "language_info": {
   "codemirror_mode": {
    "name": "ipython",
    "version": 3
   },
   "file_extension": ".py",
   "mimetype": "text/x-python",
   "name": "python",
   "nbconvert_exporter": "python",
   "pygments_lexer": "ipython3",
   "version": "3.12.8"
  }
 },
 "nbformat": 4,
 "nbformat_minor": 5
}
