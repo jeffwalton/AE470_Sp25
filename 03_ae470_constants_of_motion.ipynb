{
 "cells": [
  {
   "cell_type": "markdown",
   "id": "e573a92a-afc6-429a-9492-71ddde5ab9ac",
   "metadata": {},
   "source": [
    "# Starting the Environment\n",
    "1. Open an Anaconda Prompt terminal,\n",
    "   - On windows, Search `anaconda prompt`, click to open\n",
    "2. Change directory (`cd`) into class directory on your computer,\n",
    "   - `cd C:\\JW\\Clarkson\\AE470`\n",
    "3. Change directory into the repository on your computer,\n",
    "   - `cd AE470_Sp25`\n",
    "4. Fetch the latest class repository from GitHub,\n",
    "   - **This will overwrite any changes you have made to files in your local repository directory, `AE470_Sp2025`.**\n",
    "   - **Be sure to rename any files where you make changes that you want to keep.**\n",
    "   - `git fetch origin`\n",
    "5. Reset your local branch repository to match the remote branch,\n",
    "   - `git reset --hard origin/main`\n",
    "6. Activate the virtual python environment,\n",
    "   - `conda activate ae470sp25`\n",
    "7. Start a Jupyter notebook session in a browser window.  Type the following into an Anaconda Prompt window,\n",
    "   - `jupyter notebook`\n",
    "8. Using the Jupyter browser, open this notebook: `03_ae470_constants_of_motion.ipynb`.\n"
   ]
  },
  {
   "cell_type": "code",
   "execution_count": null,
   "id": "0be14017-4704-458c-a934-f414af0401a2",
   "metadata": {},
   "outputs": [],
   "source": [
    "# Configure Jupyter so figures appear in the notebook\n",
    "# %matplotlib inline\n",
    "\n",
    "# Configure Jupyter to display the assigned value after an assignment\n",
    "%config InteractiveShell.ast_node_interactivity='last_expr_or_assign'"
   ]
  },
  {
   "cell_type": "code",
   "execution_count": null,
   "id": "74534a0f-a208-47bc-a9e9-f9eb6716219c",
   "metadata": {},
   "outputs": [],
   "source": [
    "# import modsim and install if necessary\n",
    "try:\n",
    "    from modsim import *\n",
    "except ImportError:\n",
    "    print(\"Download modsim from the course repository at https://github.com/jeffwalton/AE470_Sp25\")"
   ]
  },
  {
   "cell_type": "markdown",
   "id": "f24c964b-d63e-4a3d-81de-34c527283b31",
   "metadata": {},
   "source": [
    "# Constants of the Motion\n",
    "\n",
    "## Angular Momentum\n",
    "\n",
    "We define *orbital angular momentum* (or *specific angular momentum* - the angular momentum per unit mass) as \n",
    "\\begin{equation}\n",
    "\\vec{\\mathbf{h}} \\triangleq \\vec{\\mathbf{r}} \\times \\vec{\\mathbf{v}} \n",
    "\\end{equation}\n",
    "\n",
    "### By Numerical Simulation\n",
    "\n",
    "Looking at the simulation from the previous section, we will calculate the angular momentum vector and its magnitude.\n"
   ]
  },
  {
   "cell_type": "code",
   "execution_count": null,
   "id": "b173ac87-6261-4489-846d-d7cf7c08af27",
   "metadata": {},
   "outputs": [],
   "source": [
    "import numpy as np\n",
    "import matplotlib.pyplot as plt\n"
   ]
  },
  {
   "cell_type": "markdown",
   "id": "e5685792-bf6f-45f7-bed3-19bca90369f7",
   "metadata": {},
   "source": [
    "Re-run the simulation in this notebook."
   ]
  },
  {
   "cell_type": "code",
   "execution_count": null,
   "id": "3c21ca75-cf6e-4a18-8653-f2561a3e38fd",
   "metadata": {},
   "outputs": [],
   "source": [
    "r0 = Vector( 8000, 0, 6000 ) # km\n",
    "v0 = Vector( 0, 7, 0 ) # km/s\n",
    "\n",
    "init = State(x=r0.x, y=r0.y, z=r0.z, vx=v0.x, vy=v0.y, vz=v0.z)\n",
    "\n",
    "system = System(init=init,\n",
    "                mu=3.986000e+5, # km^3/s^2\n",
    "                t_end=4 * 60 * 60, # s\n",
    "               )\n",
    "\n",
    "show(system)"
   ]
  },
  {
   "cell_type": "code",
   "execution_count": null,
   "id": "07a780e4-71ba-4c1a-913b-7c1961f03a75",
   "metadata": {},
   "outputs": [],
   "source": [
    "def eom_twobodies(t, state, system):\n",
    "    x, y, z, vx, vy, vz = state  # unpack the state vector\n",
    "    mu = system.mu\n",
    "    \n",
    "    R = Vector(x, y, z)\n",
    "    r = vector_mag(R)\n",
    "    V = Vector(vx, vy, vz)\n",
    "    # print(f\"time:{t}, R:[{R.x}, {R.y}, {R.z}]\")\n",
    "\n",
    "    R_dot = V\n",
    "    R_dotdot = -mu / r**3 * R\n",
    "\n",
    "    return R_dot.x, R_dot.y, R_dot.z, R_dotdot.x, R_dotdot.y, R_dotdot.z\n"
   ]
  },
  {
   "cell_type": "code",
   "execution_count": null,
   "id": "82a830cd-5181-441e-95e0-bb5dd13be778",
   "metadata": {},
   "outputs": [],
   "source": [
    "results, details = run_solve_ivp(system, eom_twobodies, first_step=10.0, rtol=1e-5)\n",
    "\n",
    "details.message"
   ]
  },
  {
   "cell_type": "code",
   "execution_count": null,
   "id": "cfca1c7d-773d-4bae-bcbe-e28423c13d81",
   "metadata": {},
   "outputs": [],
   "source": [
    "results"
   ]
  },
  {
   "cell_type": "markdown",
   "id": "de29fc9f-c7e1-47b6-9c8f-95e500e17274",
   "metadata": {},
   "source": [
    "Define a python function to compute the magnitude of angular momentum, $ |\\vec{\\mathbf{h}}| $."
   ]
  },
  {
   "cell_type": "code",
   "execution_count": null,
   "id": "2075ab68-587d-4139-bbb0-5512436a6d6f",
   "metadata": {},
   "outputs": [],
   "source": [
    "def ang_momentum(r_x, r_y, r_z, v_x, v_y, v_z):\n",
    "    R = Vector(r_x, r_y, r_z)\n",
    "    V = Vector(v_x, v_y, v_z)\n",
    "    H = vector_cross(R,V)\n",
    "    return vector_mag(H)"
   ]
  },
  {
   "cell_type": "markdown",
   "id": "117c4040-cd2a-4748-850c-6271d65ba68b",
   "metadata": {},
   "source": [
    "We can add a column to the results DataFrame for `h_mag`. To do this we need to apply the the `ang_momentum()` function to each row of `results`. This is done through the [pandas.DataFrame.apply()](https://pandas.pydata.org/docs/reference/api/pandas.DataFrame.apply.html) method. Take a look at the next cell. In python, `lambda` is a special in-line function.  You can learn more about lambda functions in the [Real Python](https://realpython.com/) article, [How to Use Python Lambda Functions](https://realpython.com/python-lambda/). In our case, `lambda` allows us to access individual columns of `results` for a specific row. The parameter `axis=1` applies the function to each row. The resulting value is stored in `results` in a column named **h_mag**."
   ]
  },
  {
   "cell_type": "code",
   "execution_count": null,
   "id": "04505518-38af-425c-9a21-86b0bb32d97b",
   "metadata": {},
   "outputs": [],
   "source": [
    " results['h_mag'] = results.apply(lambda row: ang_momentum(row.x, row.y, row.z, row.vx, row.vy, row.vz), axis=1)"
   ]
  },
  {
   "cell_type": "code",
   "execution_count": null,
   "id": "9193a3a2-c00d-42cd-a42c-be591504745d",
   "metadata": {},
   "outputs": [],
   "source": [
    "results"
   ]
  },
  {
   "cell_type": "markdown",
   "id": "22e0e6d1-bebc-4cbd-80a3-2cd44850b3e7",
   "metadata": {},
   "source": [
    "Let's make a plot of $ |\\vec{\\mathbf{h}}| $ for the whole 4 hours."
   ]
  },
  {
   "cell_type": "code",
   "execution_count": null,
   "id": "d33229aa-561e-4a2a-be3a-bfd042ea6233",
   "metadata": {},
   "outputs": [],
   "source": [
    "results.h_mag.plot()\n",
    "decorate(xlabel='Time (s)', ylabel='h_mag')"
   ]
  },
  {
   "cell_type": "code",
   "execution_count": null,
   "id": "396a55f5-0760-4abf-b983-96172f014f4f",
   "metadata": {},
   "outputs": [],
   "source": [
    "print(f\"The minimum and maximum values of h_mag are: min: {results.h_mag.min()}, max: {results.h_mag.max()}\")"
   ]
  },
  {
   "cell_type": "code",
   "execution_count": null,
   "id": "a11835de-5495-43bb-87b5-4abdc80a237c",
   "metadata": {},
   "outputs": [],
   "source": [
    "results.h_mag.std()"
   ]
  },
  {
   "cell_type": "markdown",
   "id": "a1b25572-0822-409e-b021-d5a6bb87133a",
   "metadata": {},
   "source": [
    "The magnitude of $ \\vec{\\mathbf{h}} $ is constant to the precision of the numerical integration."
   ]
  },
  {
   "cell_type": "markdown",
   "id": "be006289-65ec-4de8-b034-8942518ddf0a",
   "metadata": {},
   "source": [
    "### Analytically\n",
    "\n",
    "Take the inertial time-derivative of $ \\vec{\\mathbf{h}} = \\vec{\\mathbf{r}} \\times \\vec{\\mathbf{v}}$,\n",
    "\\begin{align}\n",
    "\\dot{\\vec{\\mathbf{h}}} &= \\dot{\\vec{\\mathbf{r}}} \\times \\vec{\\mathbf{v}} + \\vec{\\mathbf{r}} \\times \\dot{\\vec{\\mathbf{v}}} \\\\\n",
    "&= \\vec{\\mathbf{v}} \\times \\vec{\\mathbf{v}} + \\vec{\\mathbf{r}} \\times \\ddot{\\vec{\\mathbf{r}}} \\\\\n",
    "&= \\vec{\\mathbf{0}} + \\vec{\\mathbf{r}} \\times \\ddot{\\vec{\\mathbf{r}}} \\\\\n",
    "\\end{align}\n",
    "\n",
    "Substitute the equation of motion for $ \\ddot{\\vec{\\mathbf{r}}} $\n",
    "\n",
    "\\begin{align}\n",
    "\\dot{\\vec{\\mathbf{h}}} &= \\vec{\\mathbf{r}} \\times \\bigg(-\\frac{\\mu}{|\\vec{\\mathbf{r}}|^3}\\vec{\\mathbf{r}} \\bigg)\\\\\n",
    "&= -\\frac{\\mu}{|\\vec{\\mathbf{r}}|^3}(\\vec{\\mathbf{r}} \\times \\vec{\\mathbf{r}} )\\\\\n",
    "&= \\vec{\\mathbf{0}} \\\\\n",
    "\\end{align}\n",
    "\n",
    "Therefore, the orbital angular momentum is constant; it is conserved.  \n",
    "\n",
    "Because $ \\vec{\\mathbf{h}} \\triangleq \\vec{\\mathbf{r}} \\times \\vec{\\mathbf{v}} $ and the definition of the vector cross product, $ \\vec{\\mathbf{r}} $ and $ \\vec{\\mathbf{v}} $ are always perpendicular to $ \\vec{\\mathbf{h}} $.  Since $ \\vec{\\mathbf{h}} $ is constant, $ \\vec{\\mathbf{r}} $ and $ \\vec{\\mathbf{v}} $ remain in the same plane.  This plane is called the *orbital plane*.  **Two-body orbital motion is planar.**"
   ]
  },
  {
   "cell_type": "markdown",
   "id": "2b836eda-ea99-464e-beb3-17967b5e6d93",
   "metadata": {},
   "source": [
    "### Exercises\n",
    " 1. What are the units of $ \\vec{\\mathbf{h}} $?  What does this say about the orbit?"
   ]
  },
  {
   "cell_type": "markdown",
   "id": "42e111ce-d17d-42c4-8b4c-3f28239c4eac",
   "metadata": {},
   "source": [
    "## Orbital Energy\n",
    "\n",
    "The *orbital energy* is defined as \n",
    "\\begin{equation}\n",
    "\\mathcal{E} \\triangleq \\frac{v^2}{2} - \\frac{\\mu}{r} = \\frac{\\vec{\\mathbf{v}} \\cdot \\vec{\\mathbf{v}}}{2} - \\frac{\\mu}{r} \n",
    "\\end{equation}\n",
    "where $ v = |\\vec{\\mathbf{v}}| $ is the orbital speed and $ r = |\\vec{\\mathbf{r}}| $ is the distance of $m_2$ from $m_1$.  The term $\\frac{v^2}{2}$ is the *kinetic energy per unit mass*. $-\\frac{\\mu}{r}$ is the *two-body gravitational potential energy per unit mass*.\n",
    "\n",
    "\n",
    "### By Numerical Simulation\n",
    "\n",
    "Looking at the simulation from the previous section, calculate the orbital energy.\n"
   ]
  },
  {
   "cell_type": "code",
   "execution_count": null,
   "id": "2ab46e67-0c71-4ef5-bd10-013e266410d7",
   "metadata": {},
   "outputs": [],
   "source": [
    "def orbital_energy(r_x, r_y, r_z, v_x, v_y, v_z, system):\n",
    "    r = vector_mag(Vector(r_x, r_y, r_z))\n",
    "    v = vector_mag(Vector(v_x, v_y, v_z))\n",
    "    mu = system.mu\n",
    "    return (v**2)/2 - mu/r"
   ]
  },
  {
   "cell_type": "code",
   "execution_count": null,
   "id": "956a9644-097f-483f-a2ab-c0a0b074ff58",
   "metadata": {},
   "outputs": [],
   "source": [
    " results['E'] = results.apply(lambda row: orbital_energy(row.x, row.y, row.z, row.vx, row.vy, row.vz, system), axis=1)"
   ]
  },
  {
   "cell_type": "code",
   "execution_count": null,
   "id": "0ea4bc50-4796-41b7-a26b-a5256e53c616",
   "metadata": {},
   "outputs": [],
   "source": [
    "results"
   ]
  },
  {
   "cell_type": "markdown",
   "id": "6f5f40cc-1dec-4ec6-84a8-e64a241bec00",
   "metadata": {},
   "source": [
    "Make of plot of $ \\mathcal{E}$."
   ]
  },
  {
   "cell_type": "code",
   "execution_count": null,
   "id": "9abcf974-48dd-4f4e-8dd3-2400dd6ac488",
   "metadata": {},
   "outputs": [],
   "source": [
    "results.E.plot()\n",
    "decorate(xlabel='Time (s)', ylabel='$\\mathcal{E}$')"
   ]
  },
  {
   "cell_type": "code",
   "execution_count": null,
   "id": "d3bd4b47-8be8-416e-81dd-9db07f9de34c",
   "metadata": {},
   "outputs": [],
   "source": [
    "print(f\"The minimum and maximum values of E are: min: {results.E.min()}, max: {results.E.max()}\")\n"
   ]
  },
  {
   "cell_type": "code",
   "execution_count": null,
   "id": "35311756-0d09-45de-8838-3aae92f1f607",
   "metadata": {},
   "outputs": [],
   "source": [
    "results.E.std()"
   ]
  },
  {
   "cell_type": "markdown",
   "id": "ace87a97-608a-4702-8917-9f764976ceb5",
   "metadata": {},
   "source": [
    "The orbital energy, $\\mathcal{E}$, is constant to the precision of the numerical integration."
   ]
  },
  {
   "cell_type": "markdown",
   "id": "4329dc7b-d167-4a0a-bb11-b0b683b34242",
   "metadata": {},
   "source": [
    "### Analytically\n",
    "\n",
    "Compute time-derivative of \n",
    "\\begin{equation}\n",
    "\\mathcal{E} \\triangleq \\frac{v^2}{2} - \\frac{\\mu}{r} = \\frac{\\vec{\\mathbf{v}} \\cdot \\vec{\\mathbf{v}}}{2} - \\frac{\\mu}{r} \n",
    "\\end{equation}\n",
    "\n",
    "\\begin{align}\n",
    "\\dot{\\mathcal{E}} &= \\vec{\\mathbf{v}} \\cdot \\dot{\\vec{\\mathbf{v}}}   + \\frac{\\dot{r}\\mu}{r^2}  \\\\\n",
    "\\end{align}\n",
    "\n",
    "From the dot product, $ r^2 = \\vec{\\mathbf{r}} \\cdot \\vec{\\mathbf{r}} $\n",
    "\n",
    "Taking the derivative, $ 2r\\dot{r} = \\vec{\\mathbf{r}} \\cdot \\dot{\\vec{\\mathbf{r}}} + \\dot{\\vec{\\mathbf{r}}} \\cdot \\vec{\\mathbf{r}} = 2(\\vec{\\mathbf{r}} \\cdot \\dot{\\vec{\\mathbf{r}}}) \\implies r\\dot{r} = \\vec{\\mathbf{r}} \\cdot \\dot{\\vec{\\mathbf{r}}} \\implies \\dot{r} = \\frac{\\vec{\\mathbf{r}} \\cdot \\vec{\\mathbf{v}}}{r} $ \n",
    "\n",
    "Substituting $\\dot{r}$ into $ \\dot{\\mathcal{E}} $ above.\n",
    "\n",
    "\\begin{align}\n",
    "\\dot{\\mathcal{E}} &= \\vec{\\mathbf{v}} \\cdot \\dot{\\vec{\\mathbf{v}}}   + \\frac{\\mu}{r^3}  \\vec{\\mathbf{r}} \\cdot \\vec{\\mathbf{v}}  \\\\\n",
    "\\end{align}\n",
    "\n",
    "and substituting the two-body equation of motion for $ \\dot{\\vec{\\mathbf{v}}} ( = \\ddot{\\vec{\\mathbf{r}}} ) $\n",
    "\n",
    "\\begin{align}\n",
    "\\dot{\\mathcal{E}} &= \\vec{\\mathbf{v}} \\cdot ( - \\frac{\\mu}{|\\vec{\\mathbf{r}}|^3} \\vec{\\mathbf{r}} ) + \\frac{\\mu}{r^3}  \\vec{\\mathbf{r}} \\cdot \\vec{\\mathbf{v}}  \\\\\n",
    "\\dot{\\mathcal{E}} &= 0\n",
    "\\end{align}\n",
    "\n",
    "\n",
    "**For the two-body problem, orbital energy is constant.**"
   ]
  },
  {
   "cell_type": "markdown",
   "id": "7390b30f-174d-4249-9dbf-ff0b26463b8a",
   "metadata": {},
   "source": [
    "## The Eccentricity Vector\n",
    "\n",
    "This constant of motion is not initially obvious.\n",
    "\n",
    "Starting from the two-body equation of motion, $ \\ddot{\\vec{\\mathbf{r}}} = - \\frac{\\mu}{|\\vec{\\mathbf{r}}|^3} \\vec{\\mathbf{r}} $, take the cross product of both sides with the angular momentum $ \\vec{\\mathbf{h}} $.\n",
    "\n",
    "\\begin{equation} \n",
    "\\ddot{\\vec{\\mathbf{r}}} \\times \\vec{\\mathbf{h}} = - \\frac{\\mu}{|\\vec{\\mathbf{r}}|^3} \\vec{\\mathbf{r}} \\times \\vec{\\mathbf{h}}\n",
    "\\end{equation}\n",
    "\n",
    "Since $ \\frac{d }{d t}(\\dot{\\vec{\\mathbf{r}}} \\times \\vec{\\mathbf{h}}) = \\ddot{\\vec{\\mathbf{r}}} \\times \\vec{\\mathbf{h}} + \\dot{\\vec{\\mathbf{r}}} \\times \\dot{\\vec{\\mathbf{h}}} $, the left-hand side can be written as\n",
    "\n",
    "\\begin{equation}\n",
    "\\ddot{\\vec{\\mathbf{r}}} \\times \\vec{\\mathbf{h}} = \\frac{d }{d t}(\\dot{\\vec{\\mathbf{r}}} \\times \\vec{\\mathbf{h}}) - \\dot{\\vec{\\mathbf{r}}} \\times \\dot{\\vec{\\mathbf{h}}}\n",
    "\\end{equation}\n",
    "\n",
    "We know that the angular momentum is constant ($ \\dot{\\vec{\\mathbf{h}}} = \\vec{\\mathbf{0}} $), so\n",
    "\n",
    "\\begin{equation}\n",
    "\\ddot{\\vec{\\mathbf{r}}} \\times \\vec{\\mathbf{h}} = \\frac{d }{d t}(\\dot{\\vec{\\mathbf{r}}} \\times \\vec{\\mathbf{h}})\n",
    "\\end{equation}\n",
    "\n",
    "The right-hand side can be reduced with the definition of $ \\vec{\\mathbf{h}} = \\vec{\\mathbf{r}} \\times \\vec{\\mathbf{v}} $, then apply the bac-cab rule, $ \\vec{a} \\times (\\vec{b} \\times \\vec{c}) = \\vec{b}(\\vec{a} \\cdot \\vec{c}) - \\vec{c} (\\vec{a} \\cdot \\vec{b}) $. \n",
    "\\begin{align}\n",
    "\\frac{1}{r^3} \\vec{\\mathbf{r}} \\times \\vec{\\mathbf{h}} &= \\frac{1}{r^3} ( \\vec{\\mathbf{r}} \\times (\\vec{\\mathbf{r}} \\times \\vec{\\mathbf{v}}) ) \\\\\n",
    " &= \\frac{1}{r^3} \\bigg( \\vec{\\mathbf{r}} (\\vec{\\mathbf{r}} \\cdot \\vec{\\mathbf{v}}) - \\vec{\\mathbf{v}} (\\vec{\\mathbf{r}} \\cdot \\vec{\\mathbf{r}}) \\bigg) \\\\\n",
    " &= \\frac{1}{r^3} \\bigg( \\vec{\\mathbf{r}} (r \\dot{r}) - \\vec{\\mathbf{v}} r^2 \\bigg) \\\\\n",
    " &= \\frac{\\vec{\\mathbf{r}} \\dot{r} - \\vec{\\mathbf{v}} r}{r^2} \\\\\n",
    "\\end{align}\n",
    "\n",
    "Consider now the time derivative of the unit vector $ \\hat{\\mathbf{r}} = \\frac{\\vec{\\mathbf{r}}}{r} $,\n",
    "\\begin{equation}\n",
    "\\frac{d}{d t}\\bigg(\\frac{\\vec{\\mathbf{r}}}{r} \\bigg) =  \\frac{d}{d t}\\bigg( \\vec{\\mathbf{r}} \\frac{1}{r} \\bigg) = \\dot{\\vec{\\mathbf{r}}} \\frac{1}{r} - \\frac{\\dot{r}}{r^2} \\vec{\\mathbf{r}}  = \\frac{r \\dot{\\vec{\\mathbf{r}}} - \\vec{\\mathbf{r}} \\dot{r} }{r^2} = - \\frac{\\vec{\\mathbf{r}} \\dot{r} - r \\dot{\\vec{\\mathbf{r}}} }{r^2} = - \\frac{\\vec{\\mathbf{r}} \\dot{r} - r \\vec{\\mathbf{v}} }{r^2}\n",
    "\\end{equation}\n",
    "\n",
    "Therefore, \n",
    "\\begin{align}\n",
    "\\frac{1}{r^3} \\vec{\\mathbf{r}} \\times \\vec{\\mathbf{h}} &= - \\frac{d}{d t}\\bigg(\\frac{\\vec{\\mathbf{r}}}{r} \\bigg)\n",
    "\\end{align}\n",
    "\n",
    "\n",
    "Substituting back into \n",
    "\\begin{equation} \n",
    "\\ddot{\\vec{\\mathbf{r}}} \\times \\vec{\\mathbf{h}} = - \\frac{\\mu}{|\\vec{\\mathbf{r}}|^3} \\vec{\\mathbf{r}} \\times \\vec{\\mathbf{h}}\n",
    "\\end{equation}\n",
    "\n",
    "we get\n",
    "\\begin{equation} \n",
    "\\frac{d }{d t}(\\dot{\\vec{\\mathbf{r}}} \\times \\vec{\\mathbf{h}}) = \\frac{d}{d t}\\bigg(\\mu \\frac{\\vec{\\mathbf{r}}}{r} \\bigg)\n",
    "\\end{equation}\n",
    "\n",
    "or\n",
    "\\begin{equation} \n",
    "\\frac{d }{d t}\\bigg(\\dot{\\vec{\\mathbf{r}}} \\times \\vec{\\mathbf{h}} - \\mu \\frac{\\vec{\\mathbf{r}}}{r} \\bigg) = \\vec{\\mathbf{0}}\n",
    "\\end{equation}\n",
    "\n",
    "This vector is constant\n",
    "\\begin{equation} \n",
    "\\dot{\\vec{\\mathbf{r}}} \\times \\vec{\\mathbf{h}} - \\mu \\frac{\\vec{\\mathbf{r}}}{r} = \\vec{\\mathbf{C}}\n",
    "\\end{equation} \n",
    "\n",
    "$ \\vec{\\mathbf{C}} $ is called the Laplace vector named after [Pierre-Simon Laplace (1749-1827)](https://en.wikipedia.org/wiki/Pierre-Simon_Laplace).\n",
    "\n",
    "Taking the dot product of both sides with $ \\vec{\\mathbf{h}} $ yields\n",
    "\n",
    "\\begin{equation} \n",
    "(\\dot{\\vec{\\mathbf{r}}} \\times \\vec{\\mathbf{h}}) \\cdot \\vec{\\mathbf{h}} - \\mu \\frac{ \\vec{\\mathbf{r}} \\cdot \\vec{\\mathbf{h}} }{r} = \\vec{\\mathbf{C}} \\cdot \\vec{\\mathbf{h}}\n",
    "\\end{equation} \n",
    "\n",
    "Note that $ \\dot{\\vec{\\mathbf{r}}} \\times \\vec{\\mathbf{h}} $ is perpendicular to both $ \\dot{\\vec{\\mathbf{r}}} $ and $ \\vec{\\mathbf{h}} $, so $ (\\dot{\\vec{\\mathbf{r}}} \\times \\vec{\\mathbf{h}}) \\cdot \\vec{\\mathbf{h}} = 0 $.  Similarlly, because $ \\vec{\\mathbf{h}} = \\vec{\\mathbf{r}} \\times \\dot{\\vec{\\mathbf{r}}} $ is perpendicular to both $ \\vec{\\mathbf{r}} $ and $ \\dot{\\vec{\\mathbf{r}}} $, it is evident that $ \\vec{\\mathbf{r}} \\cdot \\vec{\\mathbf{h}} = 0 $.  Therefore, $ \\vec{\\mathbf{C}} \\cdot \\vec{\\mathbf{h}} = 0 $; $ \\vec{\\mathbf{C}} $ is perpendicular to $ \\vec{\\mathbf{h}} $ and lies in the orbital plane.\n",
    "\n",
    "Rearranging the Laplace vector equation and defining $ \\vec{\\mathbf{e}} = \\vec{\\mathbf{C}} / \\mu$,\n",
    "\\begin{equation} \n",
    "\\vec{\\mathbf{e}} \\triangleq \\frac{ \\dot{\\vec{\\mathbf{r}}} \\times \\vec{\\mathbf{h}} }{\\mu} - \\frac{ \\vec{\\mathbf{r}}}{r}\n",
    "\\end{equation} \n",
    "\n",
    "$ \\vec{\\mathbf{e}} $ is called the *eccentricity vector*.  It is dimensionless and is fixed in the orbital plane.\n",
    "\n",
    "### By Numerical Simulation\n",
    "\n",
    "Looking at the simulation from the previous section, calculate the magnitude of $ \\vec{\\mathbf{e}} $.\n"
   ]
  },
  {
   "cell_type": "code",
   "execution_count": null,
   "id": "3aeaa087-2557-47f4-97c4-0da4b2e14bb7",
   "metadata": {},
   "outputs": [],
   "source": [
    "def eccentricity_vector_mag(r_x, r_y, r_z, v_x, v_y, v_z, system):\n",
    "    R = Vector(r_x, r_y, r_z)\n",
    "    r = vector_mag(R)\n",
    "    V = Vector(v_x, v_y, v_z)\n",
    "    H = vector_cross(R,V)\n",
    "    mu = system.mu\n",
    "    e_vec = (1/mu)*vector_cross(V,H) - (1/r)*R\n",
    "    return vector_mag(e_vec)    "
   ]
  },
  {
   "cell_type": "code",
   "execution_count": null,
   "id": "244b1b5e-45c3-4502-82a7-9070fec9a5b3",
   "metadata": {},
   "outputs": [],
   "source": [
    "results['ecc'] = results.apply(lambda row: eccentricity_vector_mag(row.x, row.y, row.z, row.vx, row.vy, row.vz, system), axis=1)"
   ]
  },
  {
   "cell_type": "code",
   "execution_count": null,
   "id": "b9cd9584-ab9a-4c0c-b979-5129fe91b6ff",
   "metadata": {},
   "outputs": [],
   "source": [
    "results"
   ]
  },
  {
   "cell_type": "code",
   "execution_count": null,
   "id": "b1cc9353-cf91-4da0-bd5a-09bf9d359490",
   "metadata": {
    "scrolled": true
   },
   "outputs": [],
   "source": [
    "results.ecc.plot()\n",
    "decorate(xlabel='Time (s)', ylabel='ecc')"
   ]
  },
  {
   "cell_type": "code",
   "execution_count": null,
   "id": "a97f4c12-b991-4b40-8639-5cc90e59d337",
   "metadata": {},
   "outputs": [],
   "source": [
    "print(f\"The minimum and maximum values of e are: min: {results.ecc.min()}, max: {results.ecc.max()}\")"
   ]
  },
  {
   "cell_type": "markdown",
   "id": "6cdc16d3-1f15-4edc-8cfd-c4e4b8c1ca40",
   "metadata": {},
   "source": [
    "e is constant to three decimal places."
   ]
  },
  {
   "cell_type": "code",
   "execution_count": null,
   "id": "0c1ab1ea-01d3-4acc-9763-c49df938c5ed",
   "metadata": {},
   "outputs": [],
   "source": []
  },
  {
   "cell_type": "code",
   "execution_count": null,
   "id": "a7f8aaa4-1e02-485d-985f-bc8e1efad1c9",
   "metadata": {},
   "outputs": [],
   "source": []
  },
  {
   "cell_type": "markdown",
   "id": "cf99579a-2221-4e31-8aa5-e033131a997d",
   "metadata": {},
   "source": [
    "## References\n",
    "\n",
    "    R.R. Bate, D.D. Mueller, J.E. White, W.W. Saylor; Fundamentals of Astrodynamics, Dover, 2nd Ed, 2020.  \n",
    "\n",
    "    H.D. Curtis; Orbital Mechanics for Engineering Students; Butterworth-Heinemann, 4th Ed, 2021.  \n",
    "\n",
    "    A.H.J. de Ruiter, C.J. Damaren, J.R. Forbes; Spacecraft Dynamics and Control: An Introduction; Wiley, 2013.\n",
    "\n"
   ]
  },
  {
   "cell_type": "code",
   "execution_count": null,
   "id": "97678f1a-eddc-431d-b512-6891250b19ee",
   "metadata": {},
   "outputs": [],
   "source": []
  }
 ],
 "metadata": {
  "kernelspec": {
   "display_name": "Python 3 (ipykernel)",
   "language": "python",
   "name": "python3"
  },
  "language_info": {
   "codemirror_mode": {
    "name": "ipython",
    "version": 3
   },
   "file_extension": ".py",
   "mimetype": "text/x-python",
   "name": "python",
   "nbconvert_exporter": "python",
   "pygments_lexer": "ipython3",
   "version": "3.12.8"
  }
 },
 "nbformat": 4,
 "nbformat_minor": 5
}
