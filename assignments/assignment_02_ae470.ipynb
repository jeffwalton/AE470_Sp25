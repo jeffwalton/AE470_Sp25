{
 "cells": [
  {
   "cell_type": "markdown",
   "id": "50aea7eb-817d-4619-b695-da0059bf79c6",
   "metadata": {},
   "source": [
    "## AE 470 - Assignment 2\n",
    "## Due Tuesday, Febuary 18, 2025 at 11:59 pm  \n",
    "\n",
    "Submit your solutions in this Jupyter notebook through Moodle.  \n"
   ]
  },
  {
   "cell_type": "code",
   "execution_count": null,
   "id": "833c49f2-fb4b-4ebb-a22d-94ce9b2928bf",
   "metadata": {},
   "outputs": [],
   "source": [
    "# Do a \"Save Notebook As...\" with your name in the filename.  For example, \"Collins,Eileen_assignment_02_ae470.ipynb\"\n",
    "\n",
    "# Put your name here\n",
    "\n",
    "# Add your collaborators names here\n"
   ]
  },
  {
   "cell_type": "code",
   "execution_count": null,
   "id": "a3d26faa-b487-4269-a0f4-8cdb4e489a58",
   "metadata": {},
   "outputs": [],
   "source": []
  },
  {
   "cell_type": "code",
   "execution_count": null,
   "id": "c0355495-256c-4513-abbc-e7348426b21f",
   "metadata": {},
   "outputs": [],
   "source": []
  },
  {
   "cell_type": "markdown",
   "id": "6343bc87",
   "metadata": {},
   "source": [
    "## 1. Curtis, page 78, Example 2.5\n",
    "\n",
    "Calculate the altitude $ z_{GEO} $ and the speed $ v_{GEO} $ of a geostationary earth satellite."
   ]
  },
  {
   "cell_type": "code",
   "execution_count": null,
   "id": "a4d37e49",
   "metadata": {},
   "outputs": [],
   "source": []
  },
  {
   "cell_type": "code",
   "execution_count": null,
   "id": "838a5a36",
   "metadata": {},
   "outputs": [],
   "source": []
  },
  {
   "cell_type": "markdown",
   "id": "d4d17522",
   "metadata": {},
   "source": [
    "## 2. Curtis, page 86, Example 2.7\n",
    "\n",
    "An earth satellite is in an orbit with a perigee altitude $ z_{p} = 400 \\, \\mathrm{km} $ and an apogee altitude $ z_{a} = 4000 \\, \\mathrm{km} $.\n",
    "\n",
    "Find each of the following quantities:\n",
    "  1. eccentricity, $ e $\n",
    "  2. angular momentum, $ h $\n",
    "  3. perigee velocity, $ v_{p} $\n",
    "  4. apogee velocity, $ v_{a} $\n",
    "  5. semi-major axis, $ a $\n",
    "  6. period of the orbit, $ T $\n",
    "  7. true anomaly when $ r = \\bar{r}_{\\theta} = \\sqrt{r_{p} r_{a}} $\n",
    "  8. satellite speed when $ r = \\bar{r}_{\\theta} = \\sqrt{r_{p} r_{a}} $"
   ]
  },
  {
   "cell_type": "code",
   "execution_count": null,
   "id": "d47afe6f",
   "metadata": {},
   "outputs": [],
   "source": []
  },
  {
   "cell_type": "code",
   "execution_count": null,
   "id": "c9049e98",
   "metadata": {},
   "outputs": [],
   "source": []
  },
  {
   "cell_type": "markdown",
   "id": "0227c764",
   "metadata": {},
   "source": [
    "## 3. Curtis, page 89, Example 2.8\n",
    "\n",
    "At two points on a geocentric orbit, altitud and true anamoly are $ z_1 = 1545 \\, \\mathrm{km} $, $ \\theta_1 = 126^{\\circ} $ and $ z_2 = 852 \\, \\mathrm{km} $, $ \\theta_2 = 58^{\\circ} $, respectively. Find the (a) eccentricity, (b) the altitude of perigee, (c) the semi-major axis, and (d) the period."
   ]
  },
  {
   "cell_type": "code",
   "execution_count": null,
   "id": "ff642949",
   "metadata": {},
   "outputs": [],
   "source": []
  },
  {
   "cell_type": "code",
   "execution_count": null,
   "id": "daed14ba",
   "metadata": {},
   "outputs": [],
   "source": []
  },
  {
   "cell_type": "markdown",
   "id": "3b635967",
   "metadata": {},
   "source": [
    "## 4. Curtis, page 104, Example 2.11\n",
    "\n",
    "An earth orbit has an eccentricity of 0.3, an angular momentum of $ 60,000 km^2/s $, and a true anamoly of $ 120^{\\circ} $.  What are the position vector $ \\vec{\\mathbf{r}} $ and velocity vector $ \\vec{\\mathbf{v}} $ in the perifocal frame of reference?"
   ]
  },
  {
   "cell_type": "code",
   "execution_count": null,
   "id": "75dc5d66",
   "metadata": {},
   "outputs": [],
   "source": []
  },
  {
   "cell_type": "code",
   "execution_count": null,
   "id": "c7fe5f49",
   "metadata": {},
   "outputs": [],
   "source": []
  },
  {
   "cell_type": "markdown",
   "id": "616cf779",
   "metadata": {},
   "source": [
    "## 5. Curtis, page 104, Example 2.12\n",
    "\n",
    "An earth satellite has the following position and velocity vectors at a given instant:\n",
    "\n",
    "$ \\vec{\\mathbf{r}} = 7000 \\hat{p} + 9000 \\hat{q} \\; (\\mathrm{km}) $\n",
    "\n",
    "$ \\vec{\\mathbf{v}} = -3.3472 \\hat{p} + 9.1251 \\hat{q} \\; (\\mathrm{km/s}) $\n",
    "\n",
    "Calculate the specific angular momentum $ h $, the true anamoly $ \\theta $, and the eccentricity $ e $."
   ]
  },
  {
   "cell_type": "code",
   "execution_count": null,
   "id": "b7a70981",
   "metadata": {},
   "outputs": [],
   "source": []
  },
  {
   "cell_type": "code",
   "execution_count": null,
   "id": "bbbf9981",
   "metadata": {},
   "outputs": [],
   "source": []
  },
  {
   "cell_type": "code",
   "execution_count": null,
   "id": "7406940a",
   "metadata": {},
   "outputs": [],
   "source": []
  },
  {
   "cell_type": "code",
   "execution_count": null,
   "id": "a9ed6c87-5338-44cf-9561-edbf6eaa029c",
   "metadata": {},
   "outputs": [],
   "source": []
  },
  {
   "cell_type": "code",
   "execution_count": null,
   "id": "e0eec1ad-d58c-4b32-af68-23758505cb53",
   "metadata": {},
   "outputs": [],
   "source": []
  },
  {
   "cell_type": "code",
   "execution_count": null,
   "id": "41a0275a-3d9e-46d3-bb8b-ba37e63dcd61",
   "metadata": {},
   "outputs": [],
   "source": []
  }
 ],
 "metadata": {
  "kernelspec": {
   "display_name": "Python 3 (ipykernel)",
   "language": "python",
   "name": "python3"
  },
  "language_info": {
   "codemirror_mode": {
    "name": "ipython",
    "version": 3
   },
   "file_extension": ".py",
   "mimetype": "text/x-python",
   "name": "python",
   "nbconvert_exporter": "python",
   "pygments_lexer": "ipython3",
   "version": "3.12.8"
  }
 },
 "nbformat": 4,
 "nbformat_minor": 5
}
