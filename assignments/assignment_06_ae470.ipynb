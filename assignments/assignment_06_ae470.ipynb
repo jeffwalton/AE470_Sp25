{
 "cells": [
  {
   "cell_type": "markdown",
   "id": "bc8974c4-f7b4-4801-9e25-fc72125d6f4d",
   "metadata": {},
   "source": [
    "## AE 470 - Assignment 6\n",
    "## Due Tuesday, April 1, 2025 at 11:59 pm  \n",
    "\n",
    "Submit your solutions through Moodle.  "
   ]
  },
  {
   "cell_type": "markdown",
   "id": "355c294f-6f7b-41b2-add7-4212f2d6b6e6",
   "metadata": {},
   "source": [
    "# Interplanetary Transfer\n",
    "\n",
    "Simulate the following example from class in STK.\n",
    "\n",
    "Submit screenshots of:\n",
    " 1. 3-D orbit view,\n",
    " 2. Orbit properties page\n",
    " 3. screen showing the total $ \\Delta v $ of the maneuver. \n"
   ]
  },
  {
   "cell_type": "markdown",
   "id": "989ec7fb-4789-4483-bb12-ae3f25fba11f",
   "metadata": {},
   "source": [
    "### 1.  Example 2 from slides_interplanetary_transfers_02\n",
    "\n",
    "#### Example 2\n",
    "\n",
    "As part of a preliminary study for an exploration trip to Mars, it has been decided that a Hohmann transfer will be used to travel from the Earth to Mars. You may assume that the orbits of the Earth and Mars are circular and lie in the same plane. The spacecraft is initially in a circular parking orbit around the Earth of radius $ r_{park} $ = 100,000 km. It is desired to place the spacecraft in a circular orbit around Mars of radius $ r_{cap} $ = 50,000 km."
   ]
  },
  {
   "cell_type": "code",
   "execution_count": null,
   "id": "9b94fc60-1377-4b49-867e-d0de1d45b537",
   "metadata": {},
   "outputs": [],
   "source": []
  }
 ],
 "metadata": {
  "kernelspec": {
   "display_name": "Python 3 (ipykernel)",
   "language": "python",
   "name": "python3"
  },
  "language_info": {
   "codemirror_mode": {
    "name": "ipython",
    "version": 3
   },
   "file_extension": ".py",
   "mimetype": "text/x-python",
   "name": "python",
   "nbconvert_exporter": "python",
   "pygments_lexer": "ipython3",
   "version": "3.12.8"
  }
 },
 "nbformat": 4,
 "nbformat_minor": 5
}
